{
 "cells": [
  {
   "cell_type": "markdown",
   "metadata": {},
   "source": [
    "# Swaps de Tasa de Interés"
   ]
  },
  {
   "cell_type": "markdown",
   "metadata": {},
   "source": [
    "## Configuración"
   ]
  },
  {
   "cell_type": "markdown",
   "metadata": {},
   "source": [
    "### Librerías"
   ]
  },
  {
   "cell_type": "code",
   "execution_count": 1,
   "metadata": {
    "ExecuteTime": {
     "end_time": "2020-09-21T11:08:01.077659Z",
     "start_time": "2020-09-21T11:08:00.761030Z"
    }
   },
   "outputs": [],
   "source": [
    "from finrisk import QC_Financial_3 as Qcf\n",
    "from IPython.display import Image\n",
    "from IPython.core.display import HTML\n",
    "import pandas as pd\n",
    "from datetime import date"
   ]
  },
  {
   "cell_type": "markdown",
   "metadata": {},
   "source": [
    "### Variables Globales"
   ]
  },
  {
   "cell_type": "code",
   "execution_count": 2,
   "metadata": {
    "ExecuteTime": {
     "end_time": "2020-09-21T11:08:01.084439Z",
     "start_time": "2020-09-21T11:08:01.080531Z"
    }
   },
   "outputs": [],
   "source": [
    "bus_cal = Qcf.BusinessCalendar(Qcf.QCDate(1, 1, 2020), 20)"
   ]
  },
  {
   "cell_type": "code",
   "execution_count": 3,
   "metadata": {
    "ExecuteTime": {
     "end_time": "2020-09-21T11:08:01.092617Z",
     "start_time": "2020-09-21T11:08:01.086770Z"
    }
   },
   "outputs": [],
   "source": [
    "format_dict = {'nominal': '{0:,.2f}', 'amort': '{0:,.2f}', 'interes': '{0:,.2f}', 'flujo': '{0:,.2f}',\n",
    "               'amortizacion': '{0:,.2f}',\n",
    "               'icp_inicial': '{0:,.2f}', 'icp_final': '{0:,.2f}',\n",
    "               'valor_tasa': '{0:,.4%}', 'spread': '{0:,.4%}', 'gearing': '{0:,.2f}',\n",
    "               'amort_moneda_pago': '{0:,.2f}', 'interes_moneda_pago': '{0:,.2f}', 'valor_indice_fx': '{0:,.2f}'}"
   ]
  },
  {
   "cell_type": "markdown",
   "metadata": {},
   "source": [
    "## Definición de un Swap de Tasa de Interés"
   ]
  },
  {
   "cell_type": "markdown",
   "metadata": {},
   "source": [
    "- Un swap de tasa de interés es un contrato a través del cual dos partes se comprometen a intercambiar flujos de intereses calculados a una tasa fija por intereses calculados a una tasa flotante (algún referencial válido y ampliamente aceptado por el mercado).\n",
    "\n",
    "\n",
    "- Por ejemplo, cada 3M y por un período de 2Y se intercambian flujos calculados al 0,2181% versus flujos calculados utilizando la Libor USD 3M.\n",
    "  - Los flujos se deben calcular sobre un cierto nominal (nocional) que nunca se intercambia.\n",
    "\n",
    "Para más sobre la [Libor](https://www.theice.com/iba/libor), en particular los párrafos bajo el encabezado **The Future of Libor**. "
   ]
  },
  {
   "cell_type": "markdown",
   "metadata": {},
   "source": [
    "**Pantalla de cotización en Bloomberg.**"
   ]
  },
  {
   "cell_type": "code",
   "execution_count": 4,
   "metadata": {
    "ExecuteTime": {
     "end_time": "2020-09-21T11:08:01.107818Z",
     "start_time": "2020-09-21T11:08:01.095179Z"
    }
   },
   "outputs": [
    {
     "data": {
      "text/html": [
       "<img src=\"img/libor_usd_3m_fixed_2y_swpm.gif\" width=\"900\" height=\"720\"/>"
      ],
      "text/plain": [
       "<IPython.core.display.Image object>"
      ]
     },
     "execution_count": 4,
     "metadata": {},
     "output_type": "execute_result"
    }
   ],
   "source": [
    "Image(url=\"img/libor_usd_3m_fixed_2y_swpm.gif\", width=900, height=720)"
   ]
  },
  {
   "cell_type": "markdown",
   "metadata": {},
   "source": [
    "Notar las diferencias entre ambas patas,\n",
    "\n",
    "- **periodicidad:** en la pata fija (Recibir) la periodicidad es semestral, mientras que en la pata flotante (Pagar) la periodicidad es trimestral.\n",
    "- **Días (fracción de año):** en la pata fija (Recibir) la fracción de año es 30/360, mientras que en la pata flotante (Pagar) es Act/360."
   ]
  },
  {
   "cell_type": "markdown",
   "metadata": {},
   "source": [
    "**Flujos de Caja (la pata flotante es estimada)**"
   ]
  },
  {
   "cell_type": "code",
   "execution_count": 5,
   "metadata": {
    "ExecuteTime": {
     "end_time": "2020-09-21T11:08:01.119424Z",
     "start_time": "2020-09-21T11:08:01.113266Z"
    }
   },
   "outputs": [
    {
     "data": {
      "text/html": [
       "<img src=\"img/libor_usd_3m_fixed_2y_cashflows.gif\" width=\"900\" height=\"720\"/>"
      ],
      "text/plain": [
       "<IPython.core.display.Image object>"
      ]
     },
     "execution_count": 5,
     "metadata": {},
     "output_type": "execute_result"
    }
   ],
   "source": [
    "Image(url=\"img/libor_usd_3m_fixed_2y_cashflows.gif\", width=900, height=720)"
   ]
  },
  {
   "cell_type": "markdown",
   "metadata": {},
   "source": [
    "**¿Cómo construir estos flujos con la librería?**\n",
    "\n",
    "Partamos con la pata fija."
   ]
  },
  {
   "cell_type": "code",
   "execution_count": 6,
   "metadata": {
    "ExecuteTime": {
     "end_time": "2020-09-21T11:08:01.167353Z",
     "start_time": "2020-09-21T11:08:01.121721Z"
    }
   },
   "outputs": [],
   "source": [
    "# Recibo o pago los flujos de esta pata\n",
    "rp = Qcf.RecPay.RECEIVE\n",
    "\n",
    "# Fecha de inicio de devengo del primer cupón\n",
    "fecha_inicio = Qcf.QCDate(17, 9, 2020)\n",
    "\n",
    "# Fecha final de devengo, antes de ajustes, del último cupón\n",
    "fecha_final = Qcf.QCDate(17, 9, 2022)\n",
    "\n",
    "# Regla para ajustes de días feriados\n",
    "bus_adj_rule = Qcf.BusyAdjRules.MODFOLLOW\n",
    "\n",
    "# Periodicidad de pago\n",
    "periodicidad = Qcf.Tenor('6M')\n",
    "\n",
    "# Tipo de período irregular (si lo hay)\n",
    "periodo_irregular = Qcf.StubPeriod.SHORTFRONT\n",
    "\n",
    "# Número de días después de la fecha final de devengo en que se paga el flujo\n",
    "lag_pago = 0\n",
    "\n",
    "# Nocional del contrato\n",
    "nocional = 10000000.0\n",
    "amort_es_flujo = True\n",
    "valor_tasa = .002181\n",
    "tasa_cupon = Qcf.QCInterestRate(valor_tasa, Qcf.QC30360(), Qcf.QCLinearWf())\n",
    "moneda = Qcf.QCUSD()\n",
    "es_bono = False\n",
    "\n",
    "# Se da de alta el objeto\n",
    "fixed_rate_leg = Qcf.LegFactory.build_bullet_fixed_rate_leg(rp,\n",
    "                                                            fecha_inicio,\n",
    "                                                            fecha_final,\n",
    "                                                            bus_adj_rule,\n",
    "                                                            periodicidad,\n",
    "                                                            periodo_irregular,\n",
    "                                                            bus_cal,\n",
    "                                                            lag_pago,\n",
    "                                                            nocional,\n",
    "                                                            amort_es_flujo,\n",
    "                                                            tasa_cupon,\n",
    "                                                            moneda,\n",
    "                                                            es_bono)"
   ]
  },
  {
   "cell_type": "code",
   "execution_count": 7,
   "metadata": {
    "ExecuteTime": {
     "end_time": "2020-09-21T11:08:01.245117Z",
     "start_time": "2020-09-21T11:08:01.169822Z"
    }
   },
   "outputs": [
    {
     "data": {
      "text/html": [
       "<style  type=\"text/css\" >\n",
       "</style><table id=\"T_b69d0276_fbfa_11ea_833d_02cba411ec9d\" ><thead>    <tr>        <th class=\"blank level0\" ></th>        <th class=\"col_heading level0 col0\" >fecha_ini</th>        <th class=\"col_heading level0 col1\" >fecha_fin</th>        <th class=\"col_heading level0 col2\" >fecha_pago</th>        <th class=\"col_heading level0 col3\" >nominal</th>        <th class=\"col_heading level0 col4\" >amort</th>        <th class=\"col_heading level0 col5\" >interes</th>        <th class=\"col_heading level0 col6\" >amort_es_flujo</th>        <th class=\"col_heading level0 col7\" >flujo</th>        <th class=\"col_heading level0 col8\" >moneda</th>        <th class=\"col_heading level0 col9\" >valor_tasa</th>        <th class=\"col_heading level0 col10\" >tipo_tasa</th>    </tr></thead><tbody>\n",
       "                <tr>\n",
       "                        <th id=\"T_b69d0276_fbfa_11ea_833d_02cba411ec9dlevel0_row0\" class=\"row_heading level0 row0\" >0</th>\n",
       "                        <td id=\"T_b69d0276_fbfa_11ea_833d_02cba411ec9drow0_col0\" class=\"data row0 col0\" >2020-09-17</td>\n",
       "                        <td id=\"T_b69d0276_fbfa_11ea_833d_02cba411ec9drow0_col1\" class=\"data row0 col1\" >2021-03-17</td>\n",
       "                        <td id=\"T_b69d0276_fbfa_11ea_833d_02cba411ec9drow0_col2\" class=\"data row0 col2\" >2021-03-17</td>\n",
       "                        <td id=\"T_b69d0276_fbfa_11ea_833d_02cba411ec9drow0_col3\" class=\"data row0 col3\" >10,000,000.00</td>\n",
       "                        <td id=\"T_b69d0276_fbfa_11ea_833d_02cba411ec9drow0_col4\" class=\"data row0 col4\" >0.00</td>\n",
       "                        <td id=\"T_b69d0276_fbfa_11ea_833d_02cba411ec9drow0_col5\" class=\"data row0 col5\" >10,905.00</td>\n",
       "                        <td id=\"T_b69d0276_fbfa_11ea_833d_02cba411ec9drow0_col6\" class=\"data row0 col6\" >True</td>\n",
       "                        <td id=\"T_b69d0276_fbfa_11ea_833d_02cba411ec9drow0_col7\" class=\"data row0 col7\" >10,905.00</td>\n",
       "                        <td id=\"T_b69d0276_fbfa_11ea_833d_02cba411ec9drow0_col8\" class=\"data row0 col8\" >USD</td>\n",
       "                        <td id=\"T_b69d0276_fbfa_11ea_833d_02cba411ec9drow0_col9\" class=\"data row0 col9\" >0.2181%</td>\n",
       "                        <td id=\"T_b69d0276_fbfa_11ea_833d_02cba411ec9drow0_col10\" class=\"data row0 col10\" >Lin30360</td>\n",
       "            </tr>\n",
       "            <tr>\n",
       "                        <th id=\"T_b69d0276_fbfa_11ea_833d_02cba411ec9dlevel0_row1\" class=\"row_heading level0 row1\" >1</th>\n",
       "                        <td id=\"T_b69d0276_fbfa_11ea_833d_02cba411ec9drow1_col0\" class=\"data row1 col0\" >2021-03-17</td>\n",
       "                        <td id=\"T_b69d0276_fbfa_11ea_833d_02cba411ec9drow1_col1\" class=\"data row1 col1\" >2021-09-17</td>\n",
       "                        <td id=\"T_b69d0276_fbfa_11ea_833d_02cba411ec9drow1_col2\" class=\"data row1 col2\" >2021-09-17</td>\n",
       "                        <td id=\"T_b69d0276_fbfa_11ea_833d_02cba411ec9drow1_col3\" class=\"data row1 col3\" >10,000,000.00</td>\n",
       "                        <td id=\"T_b69d0276_fbfa_11ea_833d_02cba411ec9drow1_col4\" class=\"data row1 col4\" >0.00</td>\n",
       "                        <td id=\"T_b69d0276_fbfa_11ea_833d_02cba411ec9drow1_col5\" class=\"data row1 col5\" >10,905.00</td>\n",
       "                        <td id=\"T_b69d0276_fbfa_11ea_833d_02cba411ec9drow1_col6\" class=\"data row1 col6\" >True</td>\n",
       "                        <td id=\"T_b69d0276_fbfa_11ea_833d_02cba411ec9drow1_col7\" class=\"data row1 col7\" >10,905.00</td>\n",
       "                        <td id=\"T_b69d0276_fbfa_11ea_833d_02cba411ec9drow1_col8\" class=\"data row1 col8\" >USD</td>\n",
       "                        <td id=\"T_b69d0276_fbfa_11ea_833d_02cba411ec9drow1_col9\" class=\"data row1 col9\" >0.2181%</td>\n",
       "                        <td id=\"T_b69d0276_fbfa_11ea_833d_02cba411ec9drow1_col10\" class=\"data row1 col10\" >Lin30360</td>\n",
       "            </tr>\n",
       "            <tr>\n",
       "                        <th id=\"T_b69d0276_fbfa_11ea_833d_02cba411ec9dlevel0_row2\" class=\"row_heading level0 row2\" >2</th>\n",
       "                        <td id=\"T_b69d0276_fbfa_11ea_833d_02cba411ec9drow2_col0\" class=\"data row2 col0\" >2021-09-17</td>\n",
       "                        <td id=\"T_b69d0276_fbfa_11ea_833d_02cba411ec9drow2_col1\" class=\"data row2 col1\" >2022-03-17</td>\n",
       "                        <td id=\"T_b69d0276_fbfa_11ea_833d_02cba411ec9drow2_col2\" class=\"data row2 col2\" >2022-03-17</td>\n",
       "                        <td id=\"T_b69d0276_fbfa_11ea_833d_02cba411ec9drow2_col3\" class=\"data row2 col3\" >10,000,000.00</td>\n",
       "                        <td id=\"T_b69d0276_fbfa_11ea_833d_02cba411ec9drow2_col4\" class=\"data row2 col4\" >0.00</td>\n",
       "                        <td id=\"T_b69d0276_fbfa_11ea_833d_02cba411ec9drow2_col5\" class=\"data row2 col5\" >10,905.00</td>\n",
       "                        <td id=\"T_b69d0276_fbfa_11ea_833d_02cba411ec9drow2_col6\" class=\"data row2 col6\" >True</td>\n",
       "                        <td id=\"T_b69d0276_fbfa_11ea_833d_02cba411ec9drow2_col7\" class=\"data row2 col7\" >10,905.00</td>\n",
       "                        <td id=\"T_b69d0276_fbfa_11ea_833d_02cba411ec9drow2_col8\" class=\"data row2 col8\" >USD</td>\n",
       "                        <td id=\"T_b69d0276_fbfa_11ea_833d_02cba411ec9drow2_col9\" class=\"data row2 col9\" >0.2181%</td>\n",
       "                        <td id=\"T_b69d0276_fbfa_11ea_833d_02cba411ec9drow2_col10\" class=\"data row2 col10\" >Lin30360</td>\n",
       "            </tr>\n",
       "            <tr>\n",
       "                        <th id=\"T_b69d0276_fbfa_11ea_833d_02cba411ec9dlevel0_row3\" class=\"row_heading level0 row3\" >3</th>\n",
       "                        <td id=\"T_b69d0276_fbfa_11ea_833d_02cba411ec9drow3_col0\" class=\"data row3 col0\" >2022-03-17</td>\n",
       "                        <td id=\"T_b69d0276_fbfa_11ea_833d_02cba411ec9drow3_col1\" class=\"data row3 col1\" >2022-09-19</td>\n",
       "                        <td id=\"T_b69d0276_fbfa_11ea_833d_02cba411ec9drow3_col2\" class=\"data row3 col2\" >2022-09-19</td>\n",
       "                        <td id=\"T_b69d0276_fbfa_11ea_833d_02cba411ec9drow3_col3\" class=\"data row3 col3\" >10,000,000.00</td>\n",
       "                        <td id=\"T_b69d0276_fbfa_11ea_833d_02cba411ec9drow3_col4\" class=\"data row3 col4\" >10,000,000.00</td>\n",
       "                        <td id=\"T_b69d0276_fbfa_11ea_833d_02cba411ec9drow3_col5\" class=\"data row3 col5\" >11,026.17</td>\n",
       "                        <td id=\"T_b69d0276_fbfa_11ea_833d_02cba411ec9drow3_col6\" class=\"data row3 col6\" >True</td>\n",
       "                        <td id=\"T_b69d0276_fbfa_11ea_833d_02cba411ec9drow3_col7\" class=\"data row3 col7\" >10,011,026.17</td>\n",
       "                        <td id=\"T_b69d0276_fbfa_11ea_833d_02cba411ec9drow3_col8\" class=\"data row3 col8\" >USD</td>\n",
       "                        <td id=\"T_b69d0276_fbfa_11ea_833d_02cba411ec9drow3_col9\" class=\"data row3 col9\" >0.2181%</td>\n",
       "                        <td id=\"T_b69d0276_fbfa_11ea_833d_02cba411ec9drow3_col10\" class=\"data row3 col10\" >Lin30360</td>\n",
       "            </tr>\n",
       "    </tbody></table>"
      ],
      "text/plain": [
       "<pandas.io.formats.style.Styler at 0x7f7f98c58ef0>"
      ]
     },
     "execution_count": 7,
     "metadata": {},
     "output_type": "execute_result"
    }
   ],
   "source": [
    "# Se define un list donde almacenar los resultados de la función show\n",
    "tabla = []\n",
    "for i in range(0, fixed_rate_leg.size()):\n",
    "    tabla.append(Qcf.show(fixed_rate_leg.get_cashflow_at(i)))\n",
    "\n",
    "# Se utiliza tabla para inicializar el Dataframe\n",
    "columnas = ['fecha_ini', 'fecha_fin', 'fecha_pago', 'nominal', 'amort', 'interes', 'amort_es_flujo', 'flujo', 'moneda',\n",
    "            'valor_tasa', 'tipo_tasa']\n",
    "df = pd.DataFrame(tabla, columns=columnas)\n",
    "\n",
    "# Se despliega la data en este formato\n",
    "df.style.format(format_dict)"
   ]
  },
  {
   "cell_type": "markdown",
   "metadata": {},
   "source": [
    "Pata Flotante"
   ]
  },
  {
   "cell_type": "code",
   "execution_count": 9,
   "metadata": {
    "ExecuteTime": {
     "end_time": "2020-09-21T11:08:40.890143Z",
     "start_time": "2020-09-21T11:08:40.874195Z"
    }
   },
   "outputs": [],
   "source": [
    "# Se da de alta los parámetros requeridos\n",
    "rp = Qcf.RecPay.PAY\n",
    "\n",
    "periodicidad_pago = Qcf.Tenor('3M')\n",
    "periodo_irregular_pago = Qcf.StubPeriod.NO\n",
    "lag_pago = 0\n",
    "periodicidad_fijacion = Qcf.Tenor('3M')\n",
    "periodo_irregular_fijacion = Qcf.StubPeriod.SHORTFRONT\n",
    "\n",
    "# vamos a usar el mismo calendario para pago y fijaciones\n",
    "lag_de_fijacion = 2\n",
    "\n",
    "# Definición del índice\n",
    "codigo = 'LIBORUSD3M'\n",
    "lin_act360 = Qcf.QCInterestRate(.0, Qcf.QCAct360(), Qcf.QCLinearWf())\n",
    "fixing_lag = Qcf.Tenor('2d')\n",
    "tenor = Qcf.Tenor('3m')\n",
    "usd = Qcf.QCUSD()\n",
    "libor_usd_3m = Qcf.InterestRateIndex(codigo,\n",
    "                                     lin_act360,\n",
    "                                     fixing_lag,\n",
    "                                     tenor,\n",
    "                                     bus_cal,\n",
    "                                     bus_cal,\n",
    "                                     usd)\n",
    "# Fin índice\n",
    "\n",
    "spread = .0\n",
    "gearing = 1.0\n",
    "\n",
    "ibor_leg = Qcf.LegFactory.build_bullet_ibor2_leg(rp, fecha_inicio, fecha_final, bus_adj_rule, periodicidad_pago,\n",
    "                                                 periodo_irregular_pago, bus_cal, lag_pago,\n",
    "                                                 periodicidad_fijacion, periodo_irregular_fijacion,\n",
    "                                                 bus_cal, lag_de_fijacion, libor_usd_3m,\n",
    "                                                 nocional, amort_es_flujo, moneda, spread, gearing)"
   ]
  },
  {
   "cell_type": "code",
   "execution_count": 10,
   "metadata": {
    "ExecuteTime": {
     "end_time": "2020-09-21T11:08:46.297943Z",
     "start_time": "2020-09-21T11:08:46.272590Z"
    }
   },
   "outputs": [
    {
     "data": {
      "text/html": [
       "<style  type=\"text/css\" >\n",
       "</style><table id=\"T_d1772914_fbfa_11ea_833d_02cba411ec9d\" ><thead>    <tr>        <th class=\"blank level0\" ></th>        <th class=\"col_heading level0 col0\" >fecha_inicial</th>        <th class=\"col_heading level0 col1\" >fecha_final</th>        <th class=\"col_heading level0 col2\" >fecha_fixing</th>        <th class=\"col_heading level0 col3\" >fecha_pago</th>        <th class=\"col_heading level0 col4\" >nominal</th>        <th class=\"col_heading level0 col5\" >amortizacion</th>        <th class=\"col_heading level0 col6\" >interes</th>        <th class=\"col_heading level0 col7\" >amort_es_flujo</th>        <th class=\"col_heading level0 col8\" >flujo</th>        <th class=\"col_heading level0 col9\" >moneda</th>        <th class=\"col_heading level0 col10\" >codigo_indice_tasa</th>        <th class=\"col_heading level0 col11\" >valor_tasa</th>        <th class=\"col_heading level0 col12\" >spread</th>        <th class=\"col_heading level0 col13\" >gearing</th>        <th class=\"col_heading level0 col14\" >tipo_tasa</th>    </tr></thead><tbody>\n",
       "                <tr>\n",
       "                        <th id=\"T_d1772914_fbfa_11ea_833d_02cba411ec9dlevel0_row0\" class=\"row_heading level0 row0\" >0</th>\n",
       "                        <td id=\"T_d1772914_fbfa_11ea_833d_02cba411ec9drow0_col0\" class=\"data row0 col0\" >2020-09-17</td>\n",
       "                        <td id=\"T_d1772914_fbfa_11ea_833d_02cba411ec9drow0_col1\" class=\"data row0 col1\" >2020-12-17</td>\n",
       "                        <td id=\"T_d1772914_fbfa_11ea_833d_02cba411ec9drow0_col2\" class=\"data row0 col2\" >2020-09-15</td>\n",
       "                        <td id=\"T_d1772914_fbfa_11ea_833d_02cba411ec9drow0_col3\" class=\"data row0 col3\" >2020-12-17</td>\n",
       "                        <td id=\"T_d1772914_fbfa_11ea_833d_02cba411ec9drow0_col4\" class=\"data row0 col4\" >-10,000,000.00</td>\n",
       "                        <td id=\"T_d1772914_fbfa_11ea_833d_02cba411ec9drow0_col5\" class=\"data row0 col5\" >0.00</td>\n",
       "                        <td id=\"T_d1772914_fbfa_11ea_833d_02cba411ec9drow0_col6\" class=\"data row0 col6\" >-0.00</td>\n",
       "                        <td id=\"T_d1772914_fbfa_11ea_833d_02cba411ec9drow0_col7\" class=\"data row0 col7\" >True</td>\n",
       "                        <td id=\"T_d1772914_fbfa_11ea_833d_02cba411ec9drow0_col8\" class=\"data row0 col8\" >0.00</td>\n",
       "                        <td id=\"T_d1772914_fbfa_11ea_833d_02cba411ec9drow0_col9\" class=\"data row0 col9\" >USD</td>\n",
       "                        <td id=\"T_d1772914_fbfa_11ea_833d_02cba411ec9drow0_col10\" class=\"data row0 col10\" >LIBORUSD3M</td>\n",
       "                        <td id=\"T_d1772914_fbfa_11ea_833d_02cba411ec9drow0_col11\" class=\"data row0 col11\" >0.0000%</td>\n",
       "                        <td id=\"T_d1772914_fbfa_11ea_833d_02cba411ec9drow0_col12\" class=\"data row0 col12\" >0.0000%</td>\n",
       "                        <td id=\"T_d1772914_fbfa_11ea_833d_02cba411ec9drow0_col13\" class=\"data row0 col13\" >1.00</td>\n",
       "                        <td id=\"T_d1772914_fbfa_11ea_833d_02cba411ec9drow0_col14\" class=\"data row0 col14\" >LinAct360</td>\n",
       "            </tr>\n",
       "            <tr>\n",
       "                        <th id=\"T_d1772914_fbfa_11ea_833d_02cba411ec9dlevel0_row1\" class=\"row_heading level0 row1\" >1</th>\n",
       "                        <td id=\"T_d1772914_fbfa_11ea_833d_02cba411ec9drow1_col0\" class=\"data row1 col0\" >2020-12-17</td>\n",
       "                        <td id=\"T_d1772914_fbfa_11ea_833d_02cba411ec9drow1_col1\" class=\"data row1 col1\" >2021-03-17</td>\n",
       "                        <td id=\"T_d1772914_fbfa_11ea_833d_02cba411ec9drow1_col2\" class=\"data row1 col2\" >2020-12-15</td>\n",
       "                        <td id=\"T_d1772914_fbfa_11ea_833d_02cba411ec9drow1_col3\" class=\"data row1 col3\" >2021-03-17</td>\n",
       "                        <td id=\"T_d1772914_fbfa_11ea_833d_02cba411ec9drow1_col4\" class=\"data row1 col4\" >-10,000,000.00</td>\n",
       "                        <td id=\"T_d1772914_fbfa_11ea_833d_02cba411ec9drow1_col5\" class=\"data row1 col5\" >0.00</td>\n",
       "                        <td id=\"T_d1772914_fbfa_11ea_833d_02cba411ec9drow1_col6\" class=\"data row1 col6\" >-0.00</td>\n",
       "                        <td id=\"T_d1772914_fbfa_11ea_833d_02cba411ec9drow1_col7\" class=\"data row1 col7\" >True</td>\n",
       "                        <td id=\"T_d1772914_fbfa_11ea_833d_02cba411ec9drow1_col8\" class=\"data row1 col8\" >0.00</td>\n",
       "                        <td id=\"T_d1772914_fbfa_11ea_833d_02cba411ec9drow1_col9\" class=\"data row1 col9\" >USD</td>\n",
       "                        <td id=\"T_d1772914_fbfa_11ea_833d_02cba411ec9drow1_col10\" class=\"data row1 col10\" >LIBORUSD3M</td>\n",
       "                        <td id=\"T_d1772914_fbfa_11ea_833d_02cba411ec9drow1_col11\" class=\"data row1 col11\" >0.0000%</td>\n",
       "                        <td id=\"T_d1772914_fbfa_11ea_833d_02cba411ec9drow1_col12\" class=\"data row1 col12\" >0.0000%</td>\n",
       "                        <td id=\"T_d1772914_fbfa_11ea_833d_02cba411ec9drow1_col13\" class=\"data row1 col13\" >1.00</td>\n",
       "                        <td id=\"T_d1772914_fbfa_11ea_833d_02cba411ec9drow1_col14\" class=\"data row1 col14\" >LinAct360</td>\n",
       "            </tr>\n",
       "            <tr>\n",
       "                        <th id=\"T_d1772914_fbfa_11ea_833d_02cba411ec9dlevel0_row2\" class=\"row_heading level0 row2\" >2</th>\n",
       "                        <td id=\"T_d1772914_fbfa_11ea_833d_02cba411ec9drow2_col0\" class=\"data row2 col0\" >2021-03-17</td>\n",
       "                        <td id=\"T_d1772914_fbfa_11ea_833d_02cba411ec9drow2_col1\" class=\"data row2 col1\" >2021-06-17</td>\n",
       "                        <td id=\"T_d1772914_fbfa_11ea_833d_02cba411ec9drow2_col2\" class=\"data row2 col2\" >2021-03-15</td>\n",
       "                        <td id=\"T_d1772914_fbfa_11ea_833d_02cba411ec9drow2_col3\" class=\"data row2 col3\" >2021-06-17</td>\n",
       "                        <td id=\"T_d1772914_fbfa_11ea_833d_02cba411ec9drow2_col4\" class=\"data row2 col4\" >-10,000,000.00</td>\n",
       "                        <td id=\"T_d1772914_fbfa_11ea_833d_02cba411ec9drow2_col5\" class=\"data row2 col5\" >0.00</td>\n",
       "                        <td id=\"T_d1772914_fbfa_11ea_833d_02cba411ec9drow2_col6\" class=\"data row2 col6\" >-0.00</td>\n",
       "                        <td id=\"T_d1772914_fbfa_11ea_833d_02cba411ec9drow2_col7\" class=\"data row2 col7\" >True</td>\n",
       "                        <td id=\"T_d1772914_fbfa_11ea_833d_02cba411ec9drow2_col8\" class=\"data row2 col8\" >0.00</td>\n",
       "                        <td id=\"T_d1772914_fbfa_11ea_833d_02cba411ec9drow2_col9\" class=\"data row2 col9\" >USD</td>\n",
       "                        <td id=\"T_d1772914_fbfa_11ea_833d_02cba411ec9drow2_col10\" class=\"data row2 col10\" >LIBORUSD3M</td>\n",
       "                        <td id=\"T_d1772914_fbfa_11ea_833d_02cba411ec9drow2_col11\" class=\"data row2 col11\" >0.0000%</td>\n",
       "                        <td id=\"T_d1772914_fbfa_11ea_833d_02cba411ec9drow2_col12\" class=\"data row2 col12\" >0.0000%</td>\n",
       "                        <td id=\"T_d1772914_fbfa_11ea_833d_02cba411ec9drow2_col13\" class=\"data row2 col13\" >1.00</td>\n",
       "                        <td id=\"T_d1772914_fbfa_11ea_833d_02cba411ec9drow2_col14\" class=\"data row2 col14\" >LinAct360</td>\n",
       "            </tr>\n",
       "            <tr>\n",
       "                        <th id=\"T_d1772914_fbfa_11ea_833d_02cba411ec9dlevel0_row3\" class=\"row_heading level0 row3\" >3</th>\n",
       "                        <td id=\"T_d1772914_fbfa_11ea_833d_02cba411ec9drow3_col0\" class=\"data row3 col0\" >2021-06-17</td>\n",
       "                        <td id=\"T_d1772914_fbfa_11ea_833d_02cba411ec9drow3_col1\" class=\"data row3 col1\" >2021-09-17</td>\n",
       "                        <td id=\"T_d1772914_fbfa_11ea_833d_02cba411ec9drow3_col2\" class=\"data row3 col2\" >2021-06-15</td>\n",
       "                        <td id=\"T_d1772914_fbfa_11ea_833d_02cba411ec9drow3_col3\" class=\"data row3 col3\" >2021-09-17</td>\n",
       "                        <td id=\"T_d1772914_fbfa_11ea_833d_02cba411ec9drow3_col4\" class=\"data row3 col4\" >-10,000,000.00</td>\n",
       "                        <td id=\"T_d1772914_fbfa_11ea_833d_02cba411ec9drow3_col5\" class=\"data row3 col5\" >0.00</td>\n",
       "                        <td id=\"T_d1772914_fbfa_11ea_833d_02cba411ec9drow3_col6\" class=\"data row3 col6\" >-0.00</td>\n",
       "                        <td id=\"T_d1772914_fbfa_11ea_833d_02cba411ec9drow3_col7\" class=\"data row3 col7\" >True</td>\n",
       "                        <td id=\"T_d1772914_fbfa_11ea_833d_02cba411ec9drow3_col8\" class=\"data row3 col8\" >0.00</td>\n",
       "                        <td id=\"T_d1772914_fbfa_11ea_833d_02cba411ec9drow3_col9\" class=\"data row3 col9\" >USD</td>\n",
       "                        <td id=\"T_d1772914_fbfa_11ea_833d_02cba411ec9drow3_col10\" class=\"data row3 col10\" >LIBORUSD3M</td>\n",
       "                        <td id=\"T_d1772914_fbfa_11ea_833d_02cba411ec9drow3_col11\" class=\"data row3 col11\" >0.0000%</td>\n",
       "                        <td id=\"T_d1772914_fbfa_11ea_833d_02cba411ec9drow3_col12\" class=\"data row3 col12\" >0.0000%</td>\n",
       "                        <td id=\"T_d1772914_fbfa_11ea_833d_02cba411ec9drow3_col13\" class=\"data row3 col13\" >1.00</td>\n",
       "                        <td id=\"T_d1772914_fbfa_11ea_833d_02cba411ec9drow3_col14\" class=\"data row3 col14\" >LinAct360</td>\n",
       "            </tr>\n",
       "            <tr>\n",
       "                        <th id=\"T_d1772914_fbfa_11ea_833d_02cba411ec9dlevel0_row4\" class=\"row_heading level0 row4\" >4</th>\n",
       "                        <td id=\"T_d1772914_fbfa_11ea_833d_02cba411ec9drow4_col0\" class=\"data row4 col0\" >2021-09-17</td>\n",
       "                        <td id=\"T_d1772914_fbfa_11ea_833d_02cba411ec9drow4_col1\" class=\"data row4 col1\" >2021-12-17</td>\n",
       "                        <td id=\"T_d1772914_fbfa_11ea_833d_02cba411ec9drow4_col2\" class=\"data row4 col2\" >2021-09-15</td>\n",
       "                        <td id=\"T_d1772914_fbfa_11ea_833d_02cba411ec9drow4_col3\" class=\"data row4 col3\" >2021-12-17</td>\n",
       "                        <td id=\"T_d1772914_fbfa_11ea_833d_02cba411ec9drow4_col4\" class=\"data row4 col4\" >-10,000,000.00</td>\n",
       "                        <td id=\"T_d1772914_fbfa_11ea_833d_02cba411ec9drow4_col5\" class=\"data row4 col5\" >0.00</td>\n",
       "                        <td id=\"T_d1772914_fbfa_11ea_833d_02cba411ec9drow4_col6\" class=\"data row4 col6\" >-0.00</td>\n",
       "                        <td id=\"T_d1772914_fbfa_11ea_833d_02cba411ec9drow4_col7\" class=\"data row4 col7\" >True</td>\n",
       "                        <td id=\"T_d1772914_fbfa_11ea_833d_02cba411ec9drow4_col8\" class=\"data row4 col8\" >0.00</td>\n",
       "                        <td id=\"T_d1772914_fbfa_11ea_833d_02cba411ec9drow4_col9\" class=\"data row4 col9\" >USD</td>\n",
       "                        <td id=\"T_d1772914_fbfa_11ea_833d_02cba411ec9drow4_col10\" class=\"data row4 col10\" >LIBORUSD3M</td>\n",
       "                        <td id=\"T_d1772914_fbfa_11ea_833d_02cba411ec9drow4_col11\" class=\"data row4 col11\" >0.0000%</td>\n",
       "                        <td id=\"T_d1772914_fbfa_11ea_833d_02cba411ec9drow4_col12\" class=\"data row4 col12\" >0.0000%</td>\n",
       "                        <td id=\"T_d1772914_fbfa_11ea_833d_02cba411ec9drow4_col13\" class=\"data row4 col13\" >1.00</td>\n",
       "                        <td id=\"T_d1772914_fbfa_11ea_833d_02cba411ec9drow4_col14\" class=\"data row4 col14\" >LinAct360</td>\n",
       "            </tr>\n",
       "            <tr>\n",
       "                        <th id=\"T_d1772914_fbfa_11ea_833d_02cba411ec9dlevel0_row5\" class=\"row_heading level0 row5\" >5</th>\n",
       "                        <td id=\"T_d1772914_fbfa_11ea_833d_02cba411ec9drow5_col0\" class=\"data row5 col0\" >2021-12-17</td>\n",
       "                        <td id=\"T_d1772914_fbfa_11ea_833d_02cba411ec9drow5_col1\" class=\"data row5 col1\" >2022-03-17</td>\n",
       "                        <td id=\"T_d1772914_fbfa_11ea_833d_02cba411ec9drow5_col2\" class=\"data row5 col2\" >2021-12-15</td>\n",
       "                        <td id=\"T_d1772914_fbfa_11ea_833d_02cba411ec9drow5_col3\" class=\"data row5 col3\" >2022-03-17</td>\n",
       "                        <td id=\"T_d1772914_fbfa_11ea_833d_02cba411ec9drow5_col4\" class=\"data row5 col4\" >-10,000,000.00</td>\n",
       "                        <td id=\"T_d1772914_fbfa_11ea_833d_02cba411ec9drow5_col5\" class=\"data row5 col5\" >0.00</td>\n",
       "                        <td id=\"T_d1772914_fbfa_11ea_833d_02cba411ec9drow5_col6\" class=\"data row5 col6\" >-0.00</td>\n",
       "                        <td id=\"T_d1772914_fbfa_11ea_833d_02cba411ec9drow5_col7\" class=\"data row5 col7\" >True</td>\n",
       "                        <td id=\"T_d1772914_fbfa_11ea_833d_02cba411ec9drow5_col8\" class=\"data row5 col8\" >0.00</td>\n",
       "                        <td id=\"T_d1772914_fbfa_11ea_833d_02cba411ec9drow5_col9\" class=\"data row5 col9\" >USD</td>\n",
       "                        <td id=\"T_d1772914_fbfa_11ea_833d_02cba411ec9drow5_col10\" class=\"data row5 col10\" >LIBORUSD3M</td>\n",
       "                        <td id=\"T_d1772914_fbfa_11ea_833d_02cba411ec9drow5_col11\" class=\"data row5 col11\" >0.0000%</td>\n",
       "                        <td id=\"T_d1772914_fbfa_11ea_833d_02cba411ec9drow5_col12\" class=\"data row5 col12\" >0.0000%</td>\n",
       "                        <td id=\"T_d1772914_fbfa_11ea_833d_02cba411ec9drow5_col13\" class=\"data row5 col13\" >1.00</td>\n",
       "                        <td id=\"T_d1772914_fbfa_11ea_833d_02cba411ec9drow5_col14\" class=\"data row5 col14\" >LinAct360</td>\n",
       "            </tr>\n",
       "            <tr>\n",
       "                        <th id=\"T_d1772914_fbfa_11ea_833d_02cba411ec9dlevel0_row6\" class=\"row_heading level0 row6\" >6</th>\n",
       "                        <td id=\"T_d1772914_fbfa_11ea_833d_02cba411ec9drow6_col0\" class=\"data row6 col0\" >2022-03-17</td>\n",
       "                        <td id=\"T_d1772914_fbfa_11ea_833d_02cba411ec9drow6_col1\" class=\"data row6 col1\" >2022-06-17</td>\n",
       "                        <td id=\"T_d1772914_fbfa_11ea_833d_02cba411ec9drow6_col2\" class=\"data row6 col2\" >2022-03-15</td>\n",
       "                        <td id=\"T_d1772914_fbfa_11ea_833d_02cba411ec9drow6_col3\" class=\"data row6 col3\" >2022-06-17</td>\n",
       "                        <td id=\"T_d1772914_fbfa_11ea_833d_02cba411ec9drow6_col4\" class=\"data row6 col4\" >-10,000,000.00</td>\n",
       "                        <td id=\"T_d1772914_fbfa_11ea_833d_02cba411ec9drow6_col5\" class=\"data row6 col5\" >0.00</td>\n",
       "                        <td id=\"T_d1772914_fbfa_11ea_833d_02cba411ec9drow6_col6\" class=\"data row6 col6\" >-0.00</td>\n",
       "                        <td id=\"T_d1772914_fbfa_11ea_833d_02cba411ec9drow6_col7\" class=\"data row6 col7\" >True</td>\n",
       "                        <td id=\"T_d1772914_fbfa_11ea_833d_02cba411ec9drow6_col8\" class=\"data row6 col8\" >0.00</td>\n",
       "                        <td id=\"T_d1772914_fbfa_11ea_833d_02cba411ec9drow6_col9\" class=\"data row6 col9\" >USD</td>\n",
       "                        <td id=\"T_d1772914_fbfa_11ea_833d_02cba411ec9drow6_col10\" class=\"data row6 col10\" >LIBORUSD3M</td>\n",
       "                        <td id=\"T_d1772914_fbfa_11ea_833d_02cba411ec9drow6_col11\" class=\"data row6 col11\" >0.0000%</td>\n",
       "                        <td id=\"T_d1772914_fbfa_11ea_833d_02cba411ec9drow6_col12\" class=\"data row6 col12\" >0.0000%</td>\n",
       "                        <td id=\"T_d1772914_fbfa_11ea_833d_02cba411ec9drow6_col13\" class=\"data row6 col13\" >1.00</td>\n",
       "                        <td id=\"T_d1772914_fbfa_11ea_833d_02cba411ec9drow6_col14\" class=\"data row6 col14\" >LinAct360</td>\n",
       "            </tr>\n",
       "            <tr>\n",
       "                        <th id=\"T_d1772914_fbfa_11ea_833d_02cba411ec9dlevel0_row7\" class=\"row_heading level0 row7\" >7</th>\n",
       "                        <td id=\"T_d1772914_fbfa_11ea_833d_02cba411ec9drow7_col0\" class=\"data row7 col0\" >2022-06-17</td>\n",
       "                        <td id=\"T_d1772914_fbfa_11ea_833d_02cba411ec9drow7_col1\" class=\"data row7 col1\" >2022-09-19</td>\n",
       "                        <td id=\"T_d1772914_fbfa_11ea_833d_02cba411ec9drow7_col2\" class=\"data row7 col2\" >2022-06-15</td>\n",
       "                        <td id=\"T_d1772914_fbfa_11ea_833d_02cba411ec9drow7_col3\" class=\"data row7 col3\" >2022-09-19</td>\n",
       "                        <td id=\"T_d1772914_fbfa_11ea_833d_02cba411ec9drow7_col4\" class=\"data row7 col4\" >-10,000,000.00</td>\n",
       "                        <td id=\"T_d1772914_fbfa_11ea_833d_02cba411ec9drow7_col5\" class=\"data row7 col5\" >-10,000,000.00</td>\n",
       "                        <td id=\"T_d1772914_fbfa_11ea_833d_02cba411ec9drow7_col6\" class=\"data row7 col6\" >-0.00</td>\n",
       "                        <td id=\"T_d1772914_fbfa_11ea_833d_02cba411ec9drow7_col7\" class=\"data row7 col7\" >True</td>\n",
       "                        <td id=\"T_d1772914_fbfa_11ea_833d_02cba411ec9drow7_col8\" class=\"data row7 col8\" >-10,000,000.00</td>\n",
       "                        <td id=\"T_d1772914_fbfa_11ea_833d_02cba411ec9drow7_col9\" class=\"data row7 col9\" >USD</td>\n",
       "                        <td id=\"T_d1772914_fbfa_11ea_833d_02cba411ec9drow7_col10\" class=\"data row7 col10\" >LIBORUSD3M</td>\n",
       "                        <td id=\"T_d1772914_fbfa_11ea_833d_02cba411ec9drow7_col11\" class=\"data row7 col11\" >0.0000%</td>\n",
       "                        <td id=\"T_d1772914_fbfa_11ea_833d_02cba411ec9drow7_col12\" class=\"data row7 col12\" >0.0000%</td>\n",
       "                        <td id=\"T_d1772914_fbfa_11ea_833d_02cba411ec9drow7_col13\" class=\"data row7 col13\" >1.00</td>\n",
       "                        <td id=\"T_d1772914_fbfa_11ea_833d_02cba411ec9drow7_col14\" class=\"data row7 col14\" >LinAct360</td>\n",
       "            </tr>\n",
       "    </tbody></table>"
      ],
      "text/plain": [
       "<pandas.io.formats.style.Styler at 0x7f7f9872f4e0>"
      ]
     },
     "execution_count": 10,
     "metadata": {},
     "output_type": "execute_result"
    }
   ],
   "source": [
    "# Se define un list donde almacenar los resultados de la función show\n",
    "tabla = []\n",
    "for i in range(0, ibor_leg.size()):\n",
    "    tabla.append(Qcf.show(ibor_leg.get_cashflow_at(i)))\n",
    "\n",
    "# Se utiliza tabla para inicializar el Dataframe\n",
    "columnas = Qcf.get_column_names('IborCashflow', '')\n",
    "df = pd.DataFrame(tabla, columns=columnas)\n",
    "\n",
    "# Se despliega la data en este formato\n",
    "df.style.format(format_dict)"
   ]
  },
  {
   "cell_type": "markdown",
   "metadata": {},
   "source": [
    "**¿Para qué sirven?**\n",
    "\n",
    "- Empresas que tengan deuda en tasa flotante y quieran protegerse contra subidas de tasas de interés.\n",
    "\n",
    "\n",
    "- Inversionistas con activos a tasa fija y quieran protegerse contra subidas de tasa de interés.\n",
    "\n",
    "\n",
    "- Empresas con deuda a tasa fija que quieran protegerse contra caídas de las tasas de interés.\n",
    "\n",
    "\n",
    "- Toma de posiciones direccionales en tasa de interés (al alza y a la baja)."
   ]
  },
  {
   "cell_type": "markdown",
   "metadata": {},
   "source": [
    "**Otros tipos de swaps**\n",
    "\n",
    "- Flotante vs Flotante en la misma divisa: por ejemplo un swap en el cual se intercambian flujos calculados a la Libor USD de 3M por flujos calculados a la Libor USD de 1Y.\n",
    "\n",
    "\n",
    "- Fijo vs Fijo en dos divisas: por ejemplo un swap en el que se intercambian flujos calculados sobre un nocional de $M_{USD}$ USD usando una tasa fija de $r_{USD}$ por flujos calculados sobre un nocional de $M_{EUR}$ EUR usando una tasa fija de $r_{EUR}$ (los swaps con dos divisas se llaman Cross Currency Swaps (CCS)).\n",
    "\n",
    "\n",
    "- Fijo vs Variable en dos divisas: por ejemplo un swap en el que se intercambian flujos calculados sobre un nocional de $M_{USD}$ USD usando una tasa fija de $r_{USD}$ por flujos calculados sobre un nocional de $M_{EUR}$ EUR usando Libor EUR de 3M.\n",
    "\n",
    "\n",
    "- Variable vs Variable en dos divisas: por ejemplo un swap en el que se intercambian flujos calculados sobre un nocional de $M_{USD}$ USD usando una Libor USD de 3M por flujos calculados sobre un nocional de $M_{EUR}$ EUR usando Libor EUR de 3M."
   ]
  },
  {
   "cell_type": "markdown",
   "metadata": {},
   "source": [
    "## Overnight Index Swaps (OIS)"
   ]
  },
  {
   "cell_type": "markdown",
   "metadata": {},
   "source": [
    "- Los OIS son swaps en los cuales se intercambian flujos calculados a una tasa fija por flujos calculados a partir de una tasa overnight interbancaria componiendo intereses.\n",
    "\n",
    "\n",
    "- Por ejemplo, en USD se utiliza la effective federal funds rate, en EUR el llamado EONIA y en GBP el índice SONIA.\n",
    "\n",
    "\n",
    "- La effective federal funds rate corresponde al promedio de las transacciones de financiamiento no colateralizado informado a la Reserva Federal de Nueva York (lineal Act/360).\n",
    "\n",
    "\n",
    "- El índice EONIA (European Overnight Index Average) se computa como el promedio de las transacciones overnight de un grupo pre establecido de bancos (lineal Act/360).\n",
    "\n",
    "\n",
    "- El índice SONIA (Sterling Overnight Index Average) se calcula como el promedio de las transacciones overnight en Londres ejecutadas a través de WMBA (The Wholesale Markets Brokers’ Association). Este índice es lineal Act/365.\n",
    "\n",
    "\n",
    "- El mercado USD está transitando hacia el uso de un nuevo benchmark overnight, la Secured Overnight Financing Rate o **SOFR**. Ver [SOFR Primer](https://www.sifma.org/wp-content/uploads/2019/07/SIFMA-Insights-SOFR-Primer.pdf)."
   ]
  },
  {
   "cell_type": "markdown",
   "metadata": {},
   "source": [
    "### Flujos de un OIS"
   ]
  },
  {
   "cell_type": "markdown",
   "metadata": {},
   "source": [
    "- En un OIS, los flujos de la pata flotante se obtienen de la composición de los factores de capitalización asociados al índice overnight.\n",
    "\n",
    "\n",
    "- Por ejemplo, suponiendo que para la pata flotante de un OIS se utiliza la effective fed funds rate de agosto 2014:"
   ]
  },
  {
   "cell_type": "code",
   "execution_count": 11,
   "metadata": {
    "ExecuteTime": {
     "end_time": "2020-09-21T11:08:46.344465Z",
     "start_time": "2020-09-21T11:08:46.301330Z"
    }
   },
   "outputs": [
    {
     "data": {
      "text/html": [
       "<style  type=\"text/css\" >\n",
       "</style><table id=\"T_d1772915_fbfa_11ea_833d_02cba411ec9d\" ><thead>    <tr>        <th class=\"blank level0\" ></th>        <th class=\"col_heading level0 col0\" >fecha_inicial</th>        <th class=\"col_heading level0 col1\" >fecha_final</th>        <th class=\"col_heading level0 col2\" >effective_fed_funds</th>    </tr></thead><tbody>\n",
       "                <tr>\n",
       "                        <th id=\"T_d1772915_fbfa_11ea_833d_02cba411ec9dlevel0_row0\" class=\"row_heading level0 row0\" >0</th>\n",
       "                        <td id=\"T_d1772915_fbfa_11ea_833d_02cba411ec9drow0_col0\" class=\"data row0 col0\" >2014-08-01</td>\n",
       "                        <td id=\"T_d1772915_fbfa_11ea_833d_02cba411ec9drow0_col1\" class=\"data row0 col1\" >2014-08-04</td>\n",
       "                        <td id=\"T_d1772915_fbfa_11ea_833d_02cba411ec9drow0_col2\" class=\"data row0 col2\" >0.09%</td>\n",
       "            </tr>\n",
       "            <tr>\n",
       "                        <th id=\"T_d1772915_fbfa_11ea_833d_02cba411ec9dlevel0_row1\" class=\"row_heading level0 row1\" >1</th>\n",
       "                        <td id=\"T_d1772915_fbfa_11ea_833d_02cba411ec9drow1_col0\" class=\"data row1 col0\" >2014-08-04</td>\n",
       "                        <td id=\"T_d1772915_fbfa_11ea_833d_02cba411ec9drow1_col1\" class=\"data row1 col1\" >2014-08-05</td>\n",
       "                        <td id=\"T_d1772915_fbfa_11ea_833d_02cba411ec9drow1_col2\" class=\"data row1 col2\" >0.09%</td>\n",
       "            </tr>\n",
       "            <tr>\n",
       "                        <th id=\"T_d1772915_fbfa_11ea_833d_02cba411ec9dlevel0_row2\" class=\"row_heading level0 row2\" >2</th>\n",
       "                        <td id=\"T_d1772915_fbfa_11ea_833d_02cba411ec9drow2_col0\" class=\"data row2 col0\" >2014-08-05</td>\n",
       "                        <td id=\"T_d1772915_fbfa_11ea_833d_02cba411ec9drow2_col1\" class=\"data row2 col1\" >2014-08-06</td>\n",
       "                        <td id=\"T_d1772915_fbfa_11ea_833d_02cba411ec9drow2_col2\" class=\"data row2 col2\" >0.09%</td>\n",
       "            </tr>\n",
       "            <tr>\n",
       "                        <th id=\"T_d1772915_fbfa_11ea_833d_02cba411ec9dlevel0_row3\" class=\"row_heading level0 row3\" >3</th>\n",
       "                        <td id=\"T_d1772915_fbfa_11ea_833d_02cba411ec9drow3_col0\" class=\"data row3 col0\" >2014-08-06</td>\n",
       "                        <td id=\"T_d1772915_fbfa_11ea_833d_02cba411ec9drow3_col1\" class=\"data row3 col1\" >2014-08-07</td>\n",
       "                        <td id=\"T_d1772915_fbfa_11ea_833d_02cba411ec9drow3_col2\" class=\"data row3 col2\" >0.09%</td>\n",
       "            </tr>\n",
       "            <tr>\n",
       "                        <th id=\"T_d1772915_fbfa_11ea_833d_02cba411ec9dlevel0_row4\" class=\"row_heading level0 row4\" >4</th>\n",
       "                        <td id=\"T_d1772915_fbfa_11ea_833d_02cba411ec9drow4_col0\" class=\"data row4 col0\" >2014-08-07</td>\n",
       "                        <td id=\"T_d1772915_fbfa_11ea_833d_02cba411ec9drow4_col1\" class=\"data row4 col1\" >2014-08-08</td>\n",
       "                        <td id=\"T_d1772915_fbfa_11ea_833d_02cba411ec9drow4_col2\" class=\"data row4 col2\" >0.09%</td>\n",
       "            </tr>\n",
       "            <tr>\n",
       "                        <th id=\"T_d1772915_fbfa_11ea_833d_02cba411ec9dlevel0_row5\" class=\"row_heading level0 row5\" >5</th>\n",
       "                        <td id=\"T_d1772915_fbfa_11ea_833d_02cba411ec9drow5_col0\" class=\"data row5 col0\" >2014-08-08</td>\n",
       "                        <td id=\"T_d1772915_fbfa_11ea_833d_02cba411ec9drow5_col1\" class=\"data row5 col1\" >2014-08-11</td>\n",
       "                        <td id=\"T_d1772915_fbfa_11ea_833d_02cba411ec9drow5_col2\" class=\"data row5 col2\" >0.09%</td>\n",
       "            </tr>\n",
       "            <tr>\n",
       "                        <th id=\"T_d1772915_fbfa_11ea_833d_02cba411ec9dlevel0_row6\" class=\"row_heading level0 row6\" >6</th>\n",
       "                        <td id=\"T_d1772915_fbfa_11ea_833d_02cba411ec9drow6_col0\" class=\"data row6 col0\" >2014-08-11</td>\n",
       "                        <td id=\"T_d1772915_fbfa_11ea_833d_02cba411ec9drow6_col1\" class=\"data row6 col1\" >2014-08-12</td>\n",
       "                        <td id=\"T_d1772915_fbfa_11ea_833d_02cba411ec9drow6_col2\" class=\"data row6 col2\" >0.09%</td>\n",
       "            </tr>\n",
       "            <tr>\n",
       "                        <th id=\"T_d1772915_fbfa_11ea_833d_02cba411ec9dlevel0_row7\" class=\"row_heading level0 row7\" >7</th>\n",
       "                        <td id=\"T_d1772915_fbfa_11ea_833d_02cba411ec9drow7_col0\" class=\"data row7 col0\" >2014-08-12</td>\n",
       "                        <td id=\"T_d1772915_fbfa_11ea_833d_02cba411ec9drow7_col1\" class=\"data row7 col1\" >2014-08-13</td>\n",
       "                        <td id=\"T_d1772915_fbfa_11ea_833d_02cba411ec9drow7_col2\" class=\"data row7 col2\" >0.09%</td>\n",
       "            </tr>\n",
       "            <tr>\n",
       "                        <th id=\"T_d1772915_fbfa_11ea_833d_02cba411ec9dlevel0_row8\" class=\"row_heading level0 row8\" >8</th>\n",
       "                        <td id=\"T_d1772915_fbfa_11ea_833d_02cba411ec9drow8_col0\" class=\"data row8 col0\" >2014-08-13</td>\n",
       "                        <td id=\"T_d1772915_fbfa_11ea_833d_02cba411ec9drow8_col1\" class=\"data row8 col1\" >2014-08-14</td>\n",
       "                        <td id=\"T_d1772915_fbfa_11ea_833d_02cba411ec9drow8_col2\" class=\"data row8 col2\" >0.09%</td>\n",
       "            </tr>\n",
       "            <tr>\n",
       "                        <th id=\"T_d1772915_fbfa_11ea_833d_02cba411ec9dlevel0_row9\" class=\"row_heading level0 row9\" >9</th>\n",
       "                        <td id=\"T_d1772915_fbfa_11ea_833d_02cba411ec9drow9_col0\" class=\"data row9 col0\" >2014-08-14</td>\n",
       "                        <td id=\"T_d1772915_fbfa_11ea_833d_02cba411ec9drow9_col1\" class=\"data row9 col1\" >2014-08-15</td>\n",
       "                        <td id=\"T_d1772915_fbfa_11ea_833d_02cba411ec9drow9_col2\" class=\"data row9 col2\" >0.09%</td>\n",
       "            </tr>\n",
       "            <tr>\n",
       "                        <th id=\"T_d1772915_fbfa_11ea_833d_02cba411ec9dlevel0_row10\" class=\"row_heading level0 row10\" >10</th>\n",
       "                        <td id=\"T_d1772915_fbfa_11ea_833d_02cba411ec9drow10_col0\" class=\"data row10 col0\" >2014-08-15</td>\n",
       "                        <td id=\"T_d1772915_fbfa_11ea_833d_02cba411ec9drow10_col1\" class=\"data row10 col1\" >2014-08-18</td>\n",
       "                        <td id=\"T_d1772915_fbfa_11ea_833d_02cba411ec9drow10_col2\" class=\"data row10 col2\" >0.09%</td>\n",
       "            </tr>\n",
       "            <tr>\n",
       "                        <th id=\"T_d1772915_fbfa_11ea_833d_02cba411ec9dlevel0_row11\" class=\"row_heading level0 row11\" >11</th>\n",
       "                        <td id=\"T_d1772915_fbfa_11ea_833d_02cba411ec9drow11_col0\" class=\"data row11 col0\" >2014-08-18</td>\n",
       "                        <td id=\"T_d1772915_fbfa_11ea_833d_02cba411ec9drow11_col1\" class=\"data row11 col1\" >2014-08-19</td>\n",
       "                        <td id=\"T_d1772915_fbfa_11ea_833d_02cba411ec9drow11_col2\" class=\"data row11 col2\" >0.09%</td>\n",
       "            </tr>\n",
       "            <tr>\n",
       "                        <th id=\"T_d1772915_fbfa_11ea_833d_02cba411ec9dlevel0_row12\" class=\"row_heading level0 row12\" >12</th>\n",
       "                        <td id=\"T_d1772915_fbfa_11ea_833d_02cba411ec9drow12_col0\" class=\"data row12 col0\" >2014-08-19</td>\n",
       "                        <td id=\"T_d1772915_fbfa_11ea_833d_02cba411ec9drow12_col1\" class=\"data row12 col1\" >2014-08-20</td>\n",
       "                        <td id=\"T_d1772915_fbfa_11ea_833d_02cba411ec9drow12_col2\" class=\"data row12 col2\" >0.09%</td>\n",
       "            </tr>\n",
       "            <tr>\n",
       "                        <th id=\"T_d1772915_fbfa_11ea_833d_02cba411ec9dlevel0_row13\" class=\"row_heading level0 row13\" >13</th>\n",
       "                        <td id=\"T_d1772915_fbfa_11ea_833d_02cba411ec9drow13_col0\" class=\"data row13 col0\" >2014-08-20</td>\n",
       "                        <td id=\"T_d1772915_fbfa_11ea_833d_02cba411ec9drow13_col1\" class=\"data row13 col1\" >2014-08-21</td>\n",
       "                        <td id=\"T_d1772915_fbfa_11ea_833d_02cba411ec9drow13_col2\" class=\"data row13 col2\" >0.09%</td>\n",
       "            </tr>\n",
       "            <tr>\n",
       "                        <th id=\"T_d1772915_fbfa_11ea_833d_02cba411ec9dlevel0_row14\" class=\"row_heading level0 row14\" >14</th>\n",
       "                        <td id=\"T_d1772915_fbfa_11ea_833d_02cba411ec9drow14_col0\" class=\"data row14 col0\" >2014-08-21</td>\n",
       "                        <td id=\"T_d1772915_fbfa_11ea_833d_02cba411ec9drow14_col1\" class=\"data row14 col1\" >2014-08-22</td>\n",
       "                        <td id=\"T_d1772915_fbfa_11ea_833d_02cba411ec9drow14_col2\" class=\"data row14 col2\" >0.09%</td>\n",
       "            </tr>\n",
       "            <tr>\n",
       "                        <th id=\"T_d1772915_fbfa_11ea_833d_02cba411ec9dlevel0_row15\" class=\"row_heading level0 row15\" >15</th>\n",
       "                        <td id=\"T_d1772915_fbfa_11ea_833d_02cba411ec9drow15_col0\" class=\"data row15 col0\" >2014-08-22</td>\n",
       "                        <td id=\"T_d1772915_fbfa_11ea_833d_02cba411ec9drow15_col1\" class=\"data row15 col1\" >2014-08-25</td>\n",
       "                        <td id=\"T_d1772915_fbfa_11ea_833d_02cba411ec9drow15_col2\" class=\"data row15 col2\" >0.09%</td>\n",
       "            </tr>\n",
       "            <tr>\n",
       "                        <th id=\"T_d1772915_fbfa_11ea_833d_02cba411ec9dlevel0_row16\" class=\"row_heading level0 row16\" >16</th>\n",
       "                        <td id=\"T_d1772915_fbfa_11ea_833d_02cba411ec9drow16_col0\" class=\"data row16 col0\" >2014-08-25</td>\n",
       "                        <td id=\"T_d1772915_fbfa_11ea_833d_02cba411ec9drow16_col1\" class=\"data row16 col1\" >2014-08-26</td>\n",
       "                        <td id=\"T_d1772915_fbfa_11ea_833d_02cba411ec9drow16_col2\" class=\"data row16 col2\" >0.09%</td>\n",
       "            </tr>\n",
       "            <tr>\n",
       "                        <th id=\"T_d1772915_fbfa_11ea_833d_02cba411ec9dlevel0_row17\" class=\"row_heading level0 row17\" >17</th>\n",
       "                        <td id=\"T_d1772915_fbfa_11ea_833d_02cba411ec9drow17_col0\" class=\"data row17 col0\" >2014-08-26</td>\n",
       "                        <td id=\"T_d1772915_fbfa_11ea_833d_02cba411ec9drow17_col1\" class=\"data row17 col1\" >2014-08-27</td>\n",
       "                        <td id=\"T_d1772915_fbfa_11ea_833d_02cba411ec9drow17_col2\" class=\"data row17 col2\" >0.09%</td>\n",
       "            </tr>\n",
       "            <tr>\n",
       "                        <th id=\"T_d1772915_fbfa_11ea_833d_02cba411ec9dlevel0_row18\" class=\"row_heading level0 row18\" >18</th>\n",
       "                        <td id=\"T_d1772915_fbfa_11ea_833d_02cba411ec9drow18_col0\" class=\"data row18 col0\" >2014-08-27</td>\n",
       "                        <td id=\"T_d1772915_fbfa_11ea_833d_02cba411ec9drow18_col1\" class=\"data row18 col1\" >2014-08-28</td>\n",
       "                        <td id=\"T_d1772915_fbfa_11ea_833d_02cba411ec9drow18_col2\" class=\"data row18 col2\" >0.09%</td>\n",
       "            </tr>\n",
       "            <tr>\n",
       "                        <th id=\"T_d1772915_fbfa_11ea_833d_02cba411ec9dlevel0_row19\" class=\"row_heading level0 row19\" >19</th>\n",
       "                        <td id=\"T_d1772915_fbfa_11ea_833d_02cba411ec9drow19_col0\" class=\"data row19 col0\" >2014-08-28</td>\n",
       "                        <td id=\"T_d1772915_fbfa_11ea_833d_02cba411ec9drow19_col1\" class=\"data row19 col1\" >2014-08-29</td>\n",
       "                        <td id=\"T_d1772915_fbfa_11ea_833d_02cba411ec9drow19_col2\" class=\"data row19 col2\" >0.09%</td>\n",
       "            </tr>\n",
       "            <tr>\n",
       "                        <th id=\"T_d1772915_fbfa_11ea_833d_02cba411ec9dlevel0_row20\" class=\"row_heading level0 row20\" >20</th>\n",
       "                        <td id=\"T_d1772915_fbfa_11ea_833d_02cba411ec9drow20_col0\" class=\"data row20 col0\" >2014-08-29</td>\n",
       "                        <td id=\"T_d1772915_fbfa_11ea_833d_02cba411ec9drow20_col1\" class=\"data row20 col1\" >2014-09-01</td>\n",
       "                        <td id=\"T_d1772915_fbfa_11ea_833d_02cba411ec9drow20_col2\" class=\"data row20 col2\" >0.07%</td>\n",
       "            </tr>\n",
       "    </tbody></table>"
      ],
      "text/plain": [
       "<pandas.io.formats.style.Styler at 0x7f7f98c76160>"
      ]
     },
     "execution_count": 11,
     "metadata": {},
     "output_type": "execute_result"
    }
   ],
   "source": [
    "# Se importa el archivo Excel a un DataFrame de pandas\n",
    "eff_1 = pd.read_excel('data/effective_fed_funds_1.xlsx')\n",
    "\n",
    "# Los campos de fecha se importan como datetime (con horas, minutos y segundos).\n",
    "# Se mantiene sólo la fecha.\n",
    "eff_1['fecha_inicial'] = eff_1['fecha_inicial'].dt.date\n",
    "eff_1['fecha_final'] = eff_1['fecha_final'].dt.date\n",
    "\n",
    "# Se visualiza el resultado\n",
    "eff_1.style.format({'effective_fed_funds': '{0:.2%}'})"
   ]
  },
  {
   "cell_type": "markdown",
   "metadata": {},
   "source": [
    "Primero se calcula el factor de capitalización entre las fechas iniciales y finales de cada una de las tasas. Se define una pequeña función auxiliar:"
   ]
  },
  {
   "cell_type": "code",
   "execution_count": 12,
   "metadata": {
    "ExecuteTime": {
     "end_time": "2020-09-21T11:08:46.351584Z",
     "start_time": "2020-09-21T11:08:46.346280Z"
    }
   },
   "outputs": [],
   "source": [
    "def get_wf(fecha_inicial: date, fecha_final: date, valor_tasa: float) -> float:\n",
    "    \"\"\"\n",
    "    Retorna el factor de capitalización para una tasa (cuyo valor es uno de los argumentos\n",
    "    de la función) entre dos fechas. Supone que la convención de la tasa es LinAct360.\n",
    "    \"\"\"\n",
    "    qc_fec_ini = Qcf.QCDate(fecha_inicial.day, fecha_inicial.month, fecha_inicial.year)\n",
    "    qc_fec_fin = Qcf.QCDate(fecha_final.day, fecha_final.month, fecha_final.year)\n",
    "    qc_tasa = Qcf.QCInterestRate(valor_tasa, Qcf.QCAct360(), Qcf.QCLinearWf())\n",
    "    return qc_tasa.wf(qc_fec_ini, qc_fec_fin)"
   ]
  },
  {
   "cell_type": "markdown",
   "metadata": {},
   "source": [
    "Se aplica esta función para agregar la columna **wf** al `DataFrame` anterior."
   ]
  },
  {
   "cell_type": "code",
   "execution_count": 13,
   "metadata": {
    "ExecuteTime": {
     "end_time": "2020-09-21T11:08:46.371806Z",
     "start_time": "2020-09-21T11:08:46.354064Z"
    }
   },
   "outputs": [
    {
     "data": {
      "text/html": [
       "<style  type=\"text/css\" >\n",
       "</style><table id=\"T_d1772916_fbfa_11ea_833d_02cba411ec9d\" ><thead>    <tr>        <th class=\"blank level0\" ></th>        <th class=\"col_heading level0 col0\" >fecha_inicial</th>        <th class=\"col_heading level0 col1\" >fecha_final</th>        <th class=\"col_heading level0 col2\" >effective_fed_funds</th>        <th class=\"col_heading level0 col3\" >wf</th>    </tr></thead><tbody>\n",
       "                <tr>\n",
       "                        <th id=\"T_d1772916_fbfa_11ea_833d_02cba411ec9dlevel0_row0\" class=\"row_heading level0 row0\" >0</th>\n",
       "                        <td id=\"T_d1772916_fbfa_11ea_833d_02cba411ec9drow0_col0\" class=\"data row0 col0\" >2014-08-01</td>\n",
       "                        <td id=\"T_d1772916_fbfa_11ea_833d_02cba411ec9drow0_col1\" class=\"data row0 col1\" >2014-08-04</td>\n",
       "                        <td id=\"T_d1772916_fbfa_11ea_833d_02cba411ec9drow0_col2\" class=\"data row0 col2\" >0.09%</td>\n",
       "                        <td id=\"T_d1772916_fbfa_11ea_833d_02cba411ec9drow0_col3\" class=\"data row0 col3\" >100.000750%</td>\n",
       "            </tr>\n",
       "            <tr>\n",
       "                        <th id=\"T_d1772916_fbfa_11ea_833d_02cba411ec9dlevel0_row1\" class=\"row_heading level0 row1\" >1</th>\n",
       "                        <td id=\"T_d1772916_fbfa_11ea_833d_02cba411ec9drow1_col0\" class=\"data row1 col0\" >2014-08-04</td>\n",
       "                        <td id=\"T_d1772916_fbfa_11ea_833d_02cba411ec9drow1_col1\" class=\"data row1 col1\" >2014-08-05</td>\n",
       "                        <td id=\"T_d1772916_fbfa_11ea_833d_02cba411ec9drow1_col2\" class=\"data row1 col2\" >0.09%</td>\n",
       "                        <td id=\"T_d1772916_fbfa_11ea_833d_02cba411ec9drow1_col3\" class=\"data row1 col3\" >100.000250%</td>\n",
       "            </tr>\n",
       "            <tr>\n",
       "                        <th id=\"T_d1772916_fbfa_11ea_833d_02cba411ec9dlevel0_row2\" class=\"row_heading level0 row2\" >2</th>\n",
       "                        <td id=\"T_d1772916_fbfa_11ea_833d_02cba411ec9drow2_col0\" class=\"data row2 col0\" >2014-08-05</td>\n",
       "                        <td id=\"T_d1772916_fbfa_11ea_833d_02cba411ec9drow2_col1\" class=\"data row2 col1\" >2014-08-06</td>\n",
       "                        <td id=\"T_d1772916_fbfa_11ea_833d_02cba411ec9drow2_col2\" class=\"data row2 col2\" >0.09%</td>\n",
       "                        <td id=\"T_d1772916_fbfa_11ea_833d_02cba411ec9drow2_col3\" class=\"data row2 col3\" >100.000250%</td>\n",
       "            </tr>\n",
       "            <tr>\n",
       "                        <th id=\"T_d1772916_fbfa_11ea_833d_02cba411ec9dlevel0_row3\" class=\"row_heading level0 row3\" >3</th>\n",
       "                        <td id=\"T_d1772916_fbfa_11ea_833d_02cba411ec9drow3_col0\" class=\"data row3 col0\" >2014-08-06</td>\n",
       "                        <td id=\"T_d1772916_fbfa_11ea_833d_02cba411ec9drow3_col1\" class=\"data row3 col1\" >2014-08-07</td>\n",
       "                        <td id=\"T_d1772916_fbfa_11ea_833d_02cba411ec9drow3_col2\" class=\"data row3 col2\" >0.09%</td>\n",
       "                        <td id=\"T_d1772916_fbfa_11ea_833d_02cba411ec9drow3_col3\" class=\"data row3 col3\" >100.000250%</td>\n",
       "            </tr>\n",
       "            <tr>\n",
       "                        <th id=\"T_d1772916_fbfa_11ea_833d_02cba411ec9dlevel0_row4\" class=\"row_heading level0 row4\" >4</th>\n",
       "                        <td id=\"T_d1772916_fbfa_11ea_833d_02cba411ec9drow4_col0\" class=\"data row4 col0\" >2014-08-07</td>\n",
       "                        <td id=\"T_d1772916_fbfa_11ea_833d_02cba411ec9drow4_col1\" class=\"data row4 col1\" >2014-08-08</td>\n",
       "                        <td id=\"T_d1772916_fbfa_11ea_833d_02cba411ec9drow4_col2\" class=\"data row4 col2\" >0.09%</td>\n",
       "                        <td id=\"T_d1772916_fbfa_11ea_833d_02cba411ec9drow4_col3\" class=\"data row4 col3\" >100.000250%</td>\n",
       "            </tr>\n",
       "            <tr>\n",
       "                        <th id=\"T_d1772916_fbfa_11ea_833d_02cba411ec9dlevel0_row5\" class=\"row_heading level0 row5\" >5</th>\n",
       "                        <td id=\"T_d1772916_fbfa_11ea_833d_02cba411ec9drow5_col0\" class=\"data row5 col0\" >2014-08-08</td>\n",
       "                        <td id=\"T_d1772916_fbfa_11ea_833d_02cba411ec9drow5_col1\" class=\"data row5 col1\" >2014-08-11</td>\n",
       "                        <td id=\"T_d1772916_fbfa_11ea_833d_02cba411ec9drow5_col2\" class=\"data row5 col2\" >0.09%</td>\n",
       "                        <td id=\"T_d1772916_fbfa_11ea_833d_02cba411ec9drow5_col3\" class=\"data row5 col3\" >100.000750%</td>\n",
       "            </tr>\n",
       "            <tr>\n",
       "                        <th id=\"T_d1772916_fbfa_11ea_833d_02cba411ec9dlevel0_row6\" class=\"row_heading level0 row6\" >6</th>\n",
       "                        <td id=\"T_d1772916_fbfa_11ea_833d_02cba411ec9drow6_col0\" class=\"data row6 col0\" >2014-08-11</td>\n",
       "                        <td id=\"T_d1772916_fbfa_11ea_833d_02cba411ec9drow6_col1\" class=\"data row6 col1\" >2014-08-12</td>\n",
       "                        <td id=\"T_d1772916_fbfa_11ea_833d_02cba411ec9drow6_col2\" class=\"data row6 col2\" >0.09%</td>\n",
       "                        <td id=\"T_d1772916_fbfa_11ea_833d_02cba411ec9drow6_col3\" class=\"data row6 col3\" >100.000250%</td>\n",
       "            </tr>\n",
       "            <tr>\n",
       "                        <th id=\"T_d1772916_fbfa_11ea_833d_02cba411ec9dlevel0_row7\" class=\"row_heading level0 row7\" >7</th>\n",
       "                        <td id=\"T_d1772916_fbfa_11ea_833d_02cba411ec9drow7_col0\" class=\"data row7 col0\" >2014-08-12</td>\n",
       "                        <td id=\"T_d1772916_fbfa_11ea_833d_02cba411ec9drow7_col1\" class=\"data row7 col1\" >2014-08-13</td>\n",
       "                        <td id=\"T_d1772916_fbfa_11ea_833d_02cba411ec9drow7_col2\" class=\"data row7 col2\" >0.09%</td>\n",
       "                        <td id=\"T_d1772916_fbfa_11ea_833d_02cba411ec9drow7_col3\" class=\"data row7 col3\" >100.000250%</td>\n",
       "            </tr>\n",
       "            <tr>\n",
       "                        <th id=\"T_d1772916_fbfa_11ea_833d_02cba411ec9dlevel0_row8\" class=\"row_heading level0 row8\" >8</th>\n",
       "                        <td id=\"T_d1772916_fbfa_11ea_833d_02cba411ec9drow8_col0\" class=\"data row8 col0\" >2014-08-13</td>\n",
       "                        <td id=\"T_d1772916_fbfa_11ea_833d_02cba411ec9drow8_col1\" class=\"data row8 col1\" >2014-08-14</td>\n",
       "                        <td id=\"T_d1772916_fbfa_11ea_833d_02cba411ec9drow8_col2\" class=\"data row8 col2\" >0.09%</td>\n",
       "                        <td id=\"T_d1772916_fbfa_11ea_833d_02cba411ec9drow8_col3\" class=\"data row8 col3\" >100.000250%</td>\n",
       "            </tr>\n",
       "            <tr>\n",
       "                        <th id=\"T_d1772916_fbfa_11ea_833d_02cba411ec9dlevel0_row9\" class=\"row_heading level0 row9\" >9</th>\n",
       "                        <td id=\"T_d1772916_fbfa_11ea_833d_02cba411ec9drow9_col0\" class=\"data row9 col0\" >2014-08-14</td>\n",
       "                        <td id=\"T_d1772916_fbfa_11ea_833d_02cba411ec9drow9_col1\" class=\"data row9 col1\" >2014-08-15</td>\n",
       "                        <td id=\"T_d1772916_fbfa_11ea_833d_02cba411ec9drow9_col2\" class=\"data row9 col2\" >0.09%</td>\n",
       "                        <td id=\"T_d1772916_fbfa_11ea_833d_02cba411ec9drow9_col3\" class=\"data row9 col3\" >100.000250%</td>\n",
       "            </tr>\n",
       "            <tr>\n",
       "                        <th id=\"T_d1772916_fbfa_11ea_833d_02cba411ec9dlevel0_row10\" class=\"row_heading level0 row10\" >10</th>\n",
       "                        <td id=\"T_d1772916_fbfa_11ea_833d_02cba411ec9drow10_col0\" class=\"data row10 col0\" >2014-08-15</td>\n",
       "                        <td id=\"T_d1772916_fbfa_11ea_833d_02cba411ec9drow10_col1\" class=\"data row10 col1\" >2014-08-18</td>\n",
       "                        <td id=\"T_d1772916_fbfa_11ea_833d_02cba411ec9drow10_col2\" class=\"data row10 col2\" >0.09%</td>\n",
       "                        <td id=\"T_d1772916_fbfa_11ea_833d_02cba411ec9drow10_col3\" class=\"data row10 col3\" >100.000750%</td>\n",
       "            </tr>\n",
       "            <tr>\n",
       "                        <th id=\"T_d1772916_fbfa_11ea_833d_02cba411ec9dlevel0_row11\" class=\"row_heading level0 row11\" >11</th>\n",
       "                        <td id=\"T_d1772916_fbfa_11ea_833d_02cba411ec9drow11_col0\" class=\"data row11 col0\" >2014-08-18</td>\n",
       "                        <td id=\"T_d1772916_fbfa_11ea_833d_02cba411ec9drow11_col1\" class=\"data row11 col1\" >2014-08-19</td>\n",
       "                        <td id=\"T_d1772916_fbfa_11ea_833d_02cba411ec9drow11_col2\" class=\"data row11 col2\" >0.09%</td>\n",
       "                        <td id=\"T_d1772916_fbfa_11ea_833d_02cba411ec9drow11_col3\" class=\"data row11 col3\" >100.000250%</td>\n",
       "            </tr>\n",
       "            <tr>\n",
       "                        <th id=\"T_d1772916_fbfa_11ea_833d_02cba411ec9dlevel0_row12\" class=\"row_heading level0 row12\" >12</th>\n",
       "                        <td id=\"T_d1772916_fbfa_11ea_833d_02cba411ec9drow12_col0\" class=\"data row12 col0\" >2014-08-19</td>\n",
       "                        <td id=\"T_d1772916_fbfa_11ea_833d_02cba411ec9drow12_col1\" class=\"data row12 col1\" >2014-08-20</td>\n",
       "                        <td id=\"T_d1772916_fbfa_11ea_833d_02cba411ec9drow12_col2\" class=\"data row12 col2\" >0.09%</td>\n",
       "                        <td id=\"T_d1772916_fbfa_11ea_833d_02cba411ec9drow12_col3\" class=\"data row12 col3\" >100.000250%</td>\n",
       "            </tr>\n",
       "            <tr>\n",
       "                        <th id=\"T_d1772916_fbfa_11ea_833d_02cba411ec9dlevel0_row13\" class=\"row_heading level0 row13\" >13</th>\n",
       "                        <td id=\"T_d1772916_fbfa_11ea_833d_02cba411ec9drow13_col0\" class=\"data row13 col0\" >2014-08-20</td>\n",
       "                        <td id=\"T_d1772916_fbfa_11ea_833d_02cba411ec9drow13_col1\" class=\"data row13 col1\" >2014-08-21</td>\n",
       "                        <td id=\"T_d1772916_fbfa_11ea_833d_02cba411ec9drow13_col2\" class=\"data row13 col2\" >0.09%</td>\n",
       "                        <td id=\"T_d1772916_fbfa_11ea_833d_02cba411ec9drow13_col3\" class=\"data row13 col3\" >100.000250%</td>\n",
       "            </tr>\n",
       "            <tr>\n",
       "                        <th id=\"T_d1772916_fbfa_11ea_833d_02cba411ec9dlevel0_row14\" class=\"row_heading level0 row14\" >14</th>\n",
       "                        <td id=\"T_d1772916_fbfa_11ea_833d_02cba411ec9drow14_col0\" class=\"data row14 col0\" >2014-08-21</td>\n",
       "                        <td id=\"T_d1772916_fbfa_11ea_833d_02cba411ec9drow14_col1\" class=\"data row14 col1\" >2014-08-22</td>\n",
       "                        <td id=\"T_d1772916_fbfa_11ea_833d_02cba411ec9drow14_col2\" class=\"data row14 col2\" >0.09%</td>\n",
       "                        <td id=\"T_d1772916_fbfa_11ea_833d_02cba411ec9drow14_col3\" class=\"data row14 col3\" >100.000250%</td>\n",
       "            </tr>\n",
       "            <tr>\n",
       "                        <th id=\"T_d1772916_fbfa_11ea_833d_02cba411ec9dlevel0_row15\" class=\"row_heading level0 row15\" >15</th>\n",
       "                        <td id=\"T_d1772916_fbfa_11ea_833d_02cba411ec9drow15_col0\" class=\"data row15 col0\" >2014-08-22</td>\n",
       "                        <td id=\"T_d1772916_fbfa_11ea_833d_02cba411ec9drow15_col1\" class=\"data row15 col1\" >2014-08-25</td>\n",
       "                        <td id=\"T_d1772916_fbfa_11ea_833d_02cba411ec9drow15_col2\" class=\"data row15 col2\" >0.09%</td>\n",
       "                        <td id=\"T_d1772916_fbfa_11ea_833d_02cba411ec9drow15_col3\" class=\"data row15 col3\" >100.000750%</td>\n",
       "            </tr>\n",
       "            <tr>\n",
       "                        <th id=\"T_d1772916_fbfa_11ea_833d_02cba411ec9dlevel0_row16\" class=\"row_heading level0 row16\" >16</th>\n",
       "                        <td id=\"T_d1772916_fbfa_11ea_833d_02cba411ec9drow16_col0\" class=\"data row16 col0\" >2014-08-25</td>\n",
       "                        <td id=\"T_d1772916_fbfa_11ea_833d_02cba411ec9drow16_col1\" class=\"data row16 col1\" >2014-08-26</td>\n",
       "                        <td id=\"T_d1772916_fbfa_11ea_833d_02cba411ec9drow16_col2\" class=\"data row16 col2\" >0.09%</td>\n",
       "                        <td id=\"T_d1772916_fbfa_11ea_833d_02cba411ec9drow16_col3\" class=\"data row16 col3\" >100.000250%</td>\n",
       "            </tr>\n",
       "            <tr>\n",
       "                        <th id=\"T_d1772916_fbfa_11ea_833d_02cba411ec9dlevel0_row17\" class=\"row_heading level0 row17\" >17</th>\n",
       "                        <td id=\"T_d1772916_fbfa_11ea_833d_02cba411ec9drow17_col0\" class=\"data row17 col0\" >2014-08-26</td>\n",
       "                        <td id=\"T_d1772916_fbfa_11ea_833d_02cba411ec9drow17_col1\" class=\"data row17 col1\" >2014-08-27</td>\n",
       "                        <td id=\"T_d1772916_fbfa_11ea_833d_02cba411ec9drow17_col2\" class=\"data row17 col2\" >0.09%</td>\n",
       "                        <td id=\"T_d1772916_fbfa_11ea_833d_02cba411ec9drow17_col3\" class=\"data row17 col3\" >100.000250%</td>\n",
       "            </tr>\n",
       "            <tr>\n",
       "                        <th id=\"T_d1772916_fbfa_11ea_833d_02cba411ec9dlevel0_row18\" class=\"row_heading level0 row18\" >18</th>\n",
       "                        <td id=\"T_d1772916_fbfa_11ea_833d_02cba411ec9drow18_col0\" class=\"data row18 col0\" >2014-08-27</td>\n",
       "                        <td id=\"T_d1772916_fbfa_11ea_833d_02cba411ec9drow18_col1\" class=\"data row18 col1\" >2014-08-28</td>\n",
       "                        <td id=\"T_d1772916_fbfa_11ea_833d_02cba411ec9drow18_col2\" class=\"data row18 col2\" >0.09%</td>\n",
       "                        <td id=\"T_d1772916_fbfa_11ea_833d_02cba411ec9drow18_col3\" class=\"data row18 col3\" >100.000250%</td>\n",
       "            </tr>\n",
       "            <tr>\n",
       "                        <th id=\"T_d1772916_fbfa_11ea_833d_02cba411ec9dlevel0_row19\" class=\"row_heading level0 row19\" >19</th>\n",
       "                        <td id=\"T_d1772916_fbfa_11ea_833d_02cba411ec9drow19_col0\" class=\"data row19 col0\" >2014-08-28</td>\n",
       "                        <td id=\"T_d1772916_fbfa_11ea_833d_02cba411ec9drow19_col1\" class=\"data row19 col1\" >2014-08-29</td>\n",
       "                        <td id=\"T_d1772916_fbfa_11ea_833d_02cba411ec9drow19_col2\" class=\"data row19 col2\" >0.09%</td>\n",
       "                        <td id=\"T_d1772916_fbfa_11ea_833d_02cba411ec9drow19_col3\" class=\"data row19 col3\" >100.000250%</td>\n",
       "            </tr>\n",
       "            <tr>\n",
       "                        <th id=\"T_d1772916_fbfa_11ea_833d_02cba411ec9dlevel0_row20\" class=\"row_heading level0 row20\" >20</th>\n",
       "                        <td id=\"T_d1772916_fbfa_11ea_833d_02cba411ec9drow20_col0\" class=\"data row20 col0\" >2014-08-29</td>\n",
       "                        <td id=\"T_d1772916_fbfa_11ea_833d_02cba411ec9drow20_col1\" class=\"data row20 col1\" >2014-09-01</td>\n",
       "                        <td id=\"T_d1772916_fbfa_11ea_833d_02cba411ec9drow20_col2\" class=\"data row20 col2\" >0.07%</td>\n",
       "                        <td id=\"T_d1772916_fbfa_11ea_833d_02cba411ec9drow20_col3\" class=\"data row20 col3\" >100.000583%</td>\n",
       "            </tr>\n",
       "    </tbody></table>"
      ],
      "text/plain": [
       "<pandas.io.formats.style.Styler at 0x7f7fc5c42ac8>"
      ]
     },
     "execution_count": 13,
     "metadata": {},
     "output_type": "execute_result"
    }
   ],
   "source": [
    "eff_1['wf'] = eff_1.apply(\n",
    "    lambda row: get_wf(row['fecha_inicial'], row['fecha_final'], row['effective_fed_funds']),\n",
    "    axis=1\n",
    ")\n",
    "\n",
    "# Se visualiza el resultado\n",
    "eff_1.style.format({'effective_fed_funds': '{0:.2%}', 'wf': '{0:.6%}'})"
   ]
  },
  {
   "cell_type": "markdown",
   "metadata": {},
   "source": [
    "Se calcula el producto de todos los factores de capitalización y luego se deduce la tasa equivalente en convención LinAct360 entre la primera fecha inicial y la última fecha final."
   ]
  },
  {
   "cell_type": "code",
   "execution_count": 14,
   "metadata": {
    "ExecuteTime": {
     "end_time": "2020-09-21T11:08:46.385627Z",
     "start_time": "2020-09-21T11:08:46.374973Z"
    }
   },
   "outputs": [
    {
     "name": "stdout",
     "output_type": "stream",
     "text": [
      "Producto wf: 100.007584%\n",
      "Días totales: 31\n",
      "Tasa equivalente: 0.088068%\n"
     ]
    }
   ],
   "source": [
    "prod = eff_1['wf'].product()\n",
    "\n",
    "qc_fec_ini = Qcf.QCDate(\n",
    "    eff_1.iloc[0]['fecha_inicial'].day,\n",
    "    eff_1.iloc[0]['fecha_inicial'].month,\n",
    "    eff_1.iloc[0]['fecha_inicial'].year\n",
    ")\n",
    "qc_fec_fin = Qcf.QCDate(\n",
    "    eff_1.iloc[20]['fecha_final'].day,\n",
    "    eff_1.iloc[20]['fecha_final'].month,\n",
    "    eff_1.iloc[20]['fecha_final'].year\n",
    ")\n",
    "\n",
    "dias = qc_fec_ini.day_diff(qc_fec_fin)\n",
    "tasa_eq = (prod - 1) * 360.0 / dias\n",
    "\n",
    "print(f'Producto wf: {prod:.6%}')\n",
    "print(f'Días totales: {dias}')\n",
    "print(f'Tasa equivalente: {tasa_eq:.6%}')"
   ]
  },
  {
   "cell_type": "markdown",
   "metadata": {},
   "source": [
    "Finalmente, para obtener los intereses de la pata flotante, se aplica la tasa equivalente, por el número de días del cupón, al nocional del contrato."
   ]
  },
  {
   "cell_type": "code",
   "execution_count": 15,
   "metadata": {
    "ExecuteTime": {
     "end_time": "2020-09-21T11:08:46.392158Z",
     "start_time": "2020-09-21T11:08:46.387943Z"
    }
   },
   "outputs": [
    {
     "name": "stdout",
     "output_type": "stream",
     "text": [
      "Para un nocional de 100,000,000 los intereses de la pata flotante del OIS son: 7,583.60 .\n"
     ]
    }
   ],
   "source": [
    "nocional = 100000000\n",
    "interes_flot_ois = nocional * tasa_eq * dias / 360\n",
    "print(f\"Para un nocional de {nocional:,.0f} los intereses de la pata flotante del OIS son: {interes_flot_ois:,.2f} .\")"
   ]
  },
  {
   "cell_type": "markdown",
   "metadata": {},
   "source": [
    "Utilizando la librería:"
   ]
  },
  {
   "cell_type": "code",
   "execution_count": 16,
   "metadata": {
    "ExecuteTime": {
     "end_time": "2020-09-21T11:08:46.398631Z",
     "start_time": "2020-09-21T11:08:46.394383Z"
    }
   },
   "outputs": [
    {
     "name": "stdout",
     "output_type": "stream",
     "text": [
      "Intereses: 7,583.60\n"
     ]
    }
   ],
   "source": [
    "qc_tasa_eq = Qcf.QCInterestRate(tasa_eq, Qcf.QCAct360(), Qcf.QCLinearWf())\n",
    "print(f'Intereses: {nocional * (qc_tasa_eq.wf(qc_fec_ini, qc_fec_fin) - 1):,.2f}')"
   ]
  },
  {
   "cell_type": "markdown",
   "metadata": {},
   "source": [
    "- Se cotizan distintas madureces (con distinta liquidez) hasta 30Y.\n",
    "\n",
    "\n",
    "- Los tenors de corto plazo son contratos que tienen una única compensación al vencimiento.\n",
    "\n",
    "\n",
    "- Los tenors desde 2Y en adelante suelen tener cupones intermedios, siendo las periodicidades más comunes 1M, 3M, 6M y 1Y.\n",
    "\n",
    "\n",
    "- En particular, dado que el índice flotante es overnight, este parámetro es totalmente configurable en un OIS.\n",
    "\n",
    "\n",
    "- Esto no es así en un swap de Libor u otro índice similar, en donde nos vemos restringidos por el plazo de la tasa flotante."
   ]
  },
  {
   "cell_type": "markdown",
   "metadata": {},
   "source": [
    "## Swaps del Mercado Chileno"
   ]
  },
  {
   "cell_type": "markdown",
   "metadata": {},
   "source": [
    "- En el mercado interbancario chileno, uno de los swaps que se opera regularmente y para el cual es posible encontrar precios de mercado a distintos plazos es el **swap cámara promedio en CLP**.\n",
    "\n",
    "\n",
    "- El comportamiento de la tasa flotante replica el costo de financiamiento (beneficio de inversión) que se tiene tomando (pasando) fondos en forma diaria a la tasa interbancaria promedio a 1 día componiendo intereses.\n",
    "\n",
    "\n",
    "- Dicho de otra manera, un swap cámara promedio en CLP, es un OIS, cuyo índice overnight es la tasa interbancaria promedio a 1 día."
   ]
  },
  {
   "cell_type": "markdown",
   "metadata": {},
   "source": [
    "- Los plazos líquidos que los bancos cotizan son 3M, 6M, 9M, 1Y, 1Y6M, entre 2Y y 10Y plazos anuales, 12Y, 15Y, 20Y\n",
    "\n",
    "\n",
    "- Así como los OIS en otras divisas, los cinco plazos más cortos son swaps sin cupones, es decir hay una única compensación de intereses al vencimiento del swap.\n",
    "\n",
    "\n",
    "- Los swaps de plazos más largos tienen pagos semestrales en ambas patas."
   ]
  },
  {
   "cell_type": "code",
   "execution_count": 17,
   "metadata": {
    "ExecuteTime": {
     "end_time": "2020-09-21T11:08:46.407628Z",
     "start_time": "2020-09-21T11:08:46.400830Z"
    }
   },
   "outputs": [
    {
     "data": {
      "text/html": [
       "<img src=\"img/20200917_swap_icp.png\" width=\"540\" height=\"432\"/>"
      ],
      "text/plain": [
       "<IPython.core.display.Image object>"
      ]
     },
     "execution_count": 17,
     "metadata": {},
     "output_type": "execute_result"
    }
   ],
   "source": [
    "Image(url=\"img/20200917_swap_icp.png\", width=450*1.2, height=360*1.2)"
   ]
  },
  {
   "cell_type": "markdown",
   "metadata": {},
   "source": [
    "**Fuente:** Closing de ICAP al 17-09-2020."
   ]
  },
  {
   "cell_type": "code",
   "execution_count": 18,
   "metadata": {
    "ExecuteTime": {
     "end_time": "2020-09-21T11:08:46.416260Z",
     "start_time": "2020-09-21T11:08:46.410325Z"
    }
   },
   "outputs": [
    {
     "data": {
      "text/plain": [
       "('fecha_inicial',\n",
       " 'fecha_final',\n",
       " 'fecha_pago',\n",
       " 'nominal',\n",
       " 'amortizacion',\n",
       " 'amort_es_flujo',\n",
       " 'flujo',\n",
       " 'moneda',\n",
       " 'icp_inicial',\n",
       " 'icp_final',\n",
       " 'valor_tasa',\n",
       " 'interes',\n",
       " 'spread',\n",
       " 'gearing',\n",
       " 'tipo_tasa')"
      ]
     },
     "execution_count": 18,
     "metadata": {},
     "output_type": "execute_result"
    }
   ],
   "source": [
    "Qcf.get_column_names('IcpClpCashflow', '')"
   ]
  }
 ],
 "metadata": {
  "kernelspec": {
   "display_name": "Python 3",
   "language": "python",
   "name": "python3"
  },
  "language_info": {
   "codemirror_mode": {
    "name": "ipython",
    "version": 3
   },
   "file_extension": ".py",
   "mimetype": "text/x-python",
   "name": "python",
   "nbconvert_exporter": "python",
   "pygments_lexer": "ipython3",
   "version": "3.7.3"
  },
  "toc": {
   "base_numbering": "2",
   "nav_menu": {},
   "number_sections": true,
   "sideBar": true,
   "skip_h1_title": false,
   "title_cell": "Table of Contents",
   "title_sidebar": "Contenido",
   "toc_cell": false,
   "toc_position": {
    "height": "calc(100% - 180px)",
    "left": "10px",
    "top": "150px",
    "width": "318px"
   },
   "toc_section_display": true,
   "toc_window_display": true
  }
 },
 "nbformat": 4,
 "nbformat_minor": 4
}
