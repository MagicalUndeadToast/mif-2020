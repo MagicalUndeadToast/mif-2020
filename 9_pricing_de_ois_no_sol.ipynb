{
 "cells": [
  {
   "cell_type": "markdown",
   "metadata": {},
   "source": [
    "# Pricing de OIS"
   ]
  },
  {
   "cell_type": "markdown",
   "metadata": {},
   "source": [
    "Entre sí, los bancos operan los instrumentos estándar. En el caso de los OIS, éstos son instrumentos con periodicidad anual, amortización bullet y a los plazos predefinidos.\n",
    "\n",
    "¿Qué se hace cuándo es necesario cotizar un swap con características distintas? En esos casos, se hace *pricing* de este contrato especial, utilizando la curva cupón cero que se ha obtenido de los swaps estándar."
   ]
  },
  {
   "cell_type": "markdown",
   "metadata": {},
   "source": [
    "## Configuración"
   ]
  },
  {
   "cell_type": "markdown",
   "metadata": {},
   "source": [
    "### Librerías"
   ]
  },
  {
   "cell_type": "code",
   "execution_count": 1,
   "metadata": {
    "ExecuteTime": {
     "end_time": "2020-10-23T20:14:27.019026Z",
     "start_time": "2020-10-23T20:14:26.568054Z"
    }
   },
   "outputs": [],
   "source": [
    "from finrisk import QC_Financial_3 as Qcf\n",
    "from scipy.optimize import root_scalar\n",
    "import modules.auxiliary as aux\n",
    "from functools import partial\n",
    "from enum import Enum\n",
    "import pandas as pd"
   ]
  },
  {
   "cell_type": "markdown",
   "metadata": {},
   "source": [
    "### Variables Globales"
   ]
  },
  {
   "cell_type": "code",
   "execution_count": 2,
   "metadata": {
    "ExecuteTime": {
     "end_time": "2020-10-23T20:17:07.713842Z",
     "start_time": "2020-10-23T20:17:07.708552Z"
    }
   },
   "outputs": [],
   "source": [
    "frmt = {\n",
    "    'tasa': '{:.6%}',\n",
    "    'df': '{:.6%}',\n",
    "    'valor_tasa': '{:.4%}',\n",
    "    'spread': '{:.4%}',\n",
    "    'nominal': '{:,.2f}',\n",
    "    'interes': '{:,.2f}',\n",
    "    'amortizacion': '{:,.2f}',\n",
    "    'flujo': '{:,.2f}',\n",
    "}"
   ]
  },
  {
   "cell_type": "markdown",
   "metadata": {},
   "source": [
    "## Carga Curva Cero Cupón"
   ]
  },
  {
   "cell_type": "markdown",
   "metadata": {},
   "source": [
    "Se importa la data de la curva cupón cero que fue construida en el notebook 5."
   ]
  },
  {
   "cell_type": "code",
   "execution_count": 3,
   "metadata": {
    "ExecuteTime": {
     "end_time": "2020-10-23T20:17:43.662869Z",
     "start_time": "2020-10-23T20:17:43.632749Z"
    }
   },
   "outputs": [],
   "source": [
    "df_curva = pd.read_excel('data/20201012_built_sofr_zero.xlsx')"
   ]
  },
  {
   "cell_type": "code",
   "execution_count": 4,
   "metadata": {
    "ExecuteTime": {
     "end_time": "2020-10-23T20:17:46.975112Z",
     "start_time": "2020-10-23T20:17:46.900658Z"
    }
   },
   "outputs": [
    {
     "data": {
      "text/html": [
       "<style  type=\"text/css\" >\n",
       "</style><table id=\"T_d0dbe43c_156c_11eb_833d_02cba411ec9d\" ><thead>    <tr>        <th class=\"blank level0\" ></th>        <th class=\"col_heading level0 col0\" >plazo</th>        <th class=\"col_heading level0 col1\" >tasa</th>        <th class=\"col_heading level0 col2\" >df</th>    </tr></thead><tbody>\n",
       "                <tr>\n",
       "                        <th id=\"T_d0dbe43c_156c_11eb_833d_02cba411ec9dlevel0_row0\" class=\"row_heading level0 row0\" >0</th>\n",
       "                        <td id=\"T_d0dbe43c_156c_11eb_833d_02cba411ec9drow0_col0\" class=\"data row0 col0\" >1</td>\n",
       "                        <td id=\"T_d0dbe43c_156c_11eb_833d_02cba411ec9drow0_col1\" class=\"data row0 col1\" >0.081111%</td>\n",
       "                        <td id=\"T_d0dbe43c_156c_11eb_833d_02cba411ec9drow0_col2\" class=\"data row0 col2\" >99.999778%</td>\n",
       "            </tr>\n",
       "            <tr>\n",
       "                        <th id=\"T_d0dbe43c_156c_11eb_833d_02cba411ec9dlevel0_row1\" class=\"row_heading level0 row1\" >1</th>\n",
       "                        <td id=\"T_d0dbe43c_156c_11eb_833d_02cba411ec9drow1_col0\" class=\"data row1 col0\" >7</td>\n",
       "                        <td id=\"T_d0dbe43c_156c_11eb_833d_02cba411ec9drow1_col1\" class=\"data row1 col1\" >0.084051%</td>\n",
       "                        <td id=\"T_d0dbe43c_156c_11eb_833d_02cba411ec9drow1_col2\" class=\"data row1 col2\" >99.998388%</td>\n",
       "            </tr>\n",
       "            <tr>\n",
       "                        <th id=\"T_d0dbe43c_156c_11eb_833d_02cba411ec9dlevel0_row2\" class=\"row_heading level0 row2\" >2</th>\n",
       "                        <td id=\"T_d0dbe43c_156c_11eb_833d_02cba411ec9drow2_col0\" class=\"data row2 col0\" >14</td>\n",
       "                        <td id=\"T_d0dbe43c_156c_11eb_833d_02cba411ec9drow2_col1\" class=\"data row2 col1\" >0.077967%</td>\n",
       "                        <td id=\"T_d0dbe43c_156c_11eb_833d_02cba411ec9drow2_col2\" class=\"data row2 col2\" >99.997010%</td>\n",
       "            </tr>\n",
       "            <tr>\n",
       "                        <th id=\"T_d0dbe43c_156c_11eb_833d_02cba411ec9dlevel0_row3\" class=\"row_heading level0 row3\" >3</th>\n",
       "                        <td id=\"T_d0dbe43c_156c_11eb_833d_02cba411ec9drow3_col0\" class=\"data row3 col0\" >21</td>\n",
       "                        <td id=\"T_d0dbe43c_156c_11eb_833d_02cba411ec9drow3_col1\" class=\"data row3 col1\" >0.077358%</td>\n",
       "                        <td id=\"T_d0dbe43c_156c_11eb_833d_02cba411ec9drow3_col2\" class=\"data row3 col2\" >99.995549%</td>\n",
       "            </tr>\n",
       "            <tr>\n",
       "                        <th id=\"T_d0dbe43c_156c_11eb_833d_02cba411ec9dlevel0_row4\" class=\"row_heading level0 row4\" >4</th>\n",
       "                        <td id=\"T_d0dbe43c_156c_11eb_833d_02cba411ec9drow4_col0\" class=\"data row4 col0\" >33</td>\n",
       "                        <td id=\"T_d0dbe43c_156c_11eb_833d_02cba411ec9drow4_col1\" class=\"data row4 col1\" >0.078067%</td>\n",
       "                        <td id=\"T_d0dbe43c_156c_11eb_833d_02cba411ec9drow4_col2\" class=\"data row4 col2\" >99.992942%</td>\n",
       "            </tr>\n",
       "    </tbody></table>"
      ],
      "text/plain": [
       "<pandas.io.formats.style.Styler at 0x7f7d0c0d9be0>"
      ]
     },
     "execution_count": 4,
     "metadata": {},
     "output_type": "execute_result"
    }
   ],
   "source": [
    "df_curva.head().style.format(frmt)"
   ]
  },
  {
   "cell_type": "code",
   "execution_count": 5,
   "metadata": {
    "ExecuteTime": {
     "end_time": "2020-10-23T20:19:20.771106Z",
     "start_time": "2020-10-23T20:19:20.764336Z"
    }
   },
   "outputs": [],
   "source": [
    "zcc = aux.get_curve_from_dataframe(Qcf.QCAct365(),Qcf.QCCompoundWf(), df_curva)"
   ]
  },
  {
   "cell_type": "markdown",
   "metadata": {},
   "source": [
    "Algunos métodos del objeto`zcc`."
   ]
  },
  {
   "cell_type": "code",
   "execution_count": 6,
   "metadata": {
    "ExecuteTime": {
     "end_time": "2020-10-23T20:19:27.664516Z",
     "start_time": "2020-10-23T20:19:27.657304Z"
    }
   },
   "outputs": [
    {
     "name": "stdout",
     "output_type": "stream",
     "text": [
      "Tasa a 900 días es igual a 0.0652%\n",
      "Factor de descuento a 900 días es igual a 99.839384%\n"
     ]
    }
   ],
   "source": [
    "plazo = 900\n",
    "print(f\"Tasa a {plazo} días es igual a {zcc.get_rate_at(plazo):.4%}\")\n",
    "print(f\"Factor de descuento a {plazo} días es igual a {zcc.get_discount_factor_at(plazo):.6%}\")"
   ]
  },
  {
   "cell_type": "markdown",
   "metadata": {},
   "source": [
    "## Pricing"
   ]
  },
  {
   "cell_type": "code",
   "execution_count": null,
   "metadata": {},
   "outputs": [],
   "source": [
    "f = f(x, y): R -> R\n",
    "    f(x0, ): R -> R\n",
    "        \n",
    "    f(x, y) = x + y\n",
    "    f(2, y) = 2 + y"
   ]
  },
  {
   "cell_type": "code",
   "execution_count": 7,
   "metadata": {
    "ExecuteTime": {
     "end_time": "2020-10-23T20:25:19.312525Z",
     "start_time": "2020-10-23T20:25:19.307151Z"
    },
    "code_folding": []
   },
   "outputs": [],
   "source": [
    "get_ois_sofr = partial(aux.get_ois_using_template, aux.type_ois_template, aux.TypeOis.SOFR)"
   ]
  },
  {
   "cell_type": "code",
   "execution_count": 8,
   "metadata": {
    "ExecuteTime": {
     "end_time": "2020-10-23T20:25:36.648026Z",
     "start_time": "2020-10-23T20:25:36.642640Z"
    }
   },
   "outputs": [
    {
     "data": {
      "text/plain": [
       "functools.partial"
      ]
     },
     "execution_count": 8,
     "metadata": {},
     "output_type": "execute_result"
    }
   ],
   "source": [
    "type(get_ois_sofr)"
   ]
  },
  {
   "cell_type": "markdown",
   "metadata": {},
   "source": [
    "### Operación con Plazo Distinto"
   ]
  },
  {
   "cell_type": "code",
   "execution_count": 9,
   "metadata": {
    "ExecuteTime": {
     "end_time": "2020-10-23T20:27:49.994169Z",
     "start_time": "2020-10-23T20:27:49.902808Z"
    }
   },
   "outputs": [
    {
     "data": {
      "text/plain": [
       "(<finrisk.QC_Financial_3.Leg at 0x7f7d0be143d8>,\n",
       " <finrisk.QC_Financial_3.Leg at 0x7f7d0be14370>)"
      ]
     },
     "execution_count": 9,
     "metadata": {},
     "output_type": "execute_result"
    }
   ],
   "source": [
    "op = get_ois_sofr(\n",
    "    rp=Qcf.RecPay.RECEIVE,\n",
    "    notional=10000000,\n",
    "    start_date=Qcf.QCDate(14, 10, 2020),\n",
    "    tenor=Qcf.Tenor('2Y6M'),\n",
    "    fixed_rate_value=.01,\n",
    "    spread=0.0,\n",
    "    gearing=1.0\n",
    ")\n",
    "op"
   ]
  },
  {
   "cell_type": "code",
   "execution_count": 10,
   "metadata": {
    "ExecuteTime": {
     "end_time": "2020-10-23T20:27:59.660093Z",
     "start_time": "2020-10-23T20:27:59.644082Z"
    }
   },
   "outputs": [
    {
     "data": {
      "text/html": [
       "<style  type=\"text/css\" >\n",
       "</style><table id=\"T_3e0cd3a8_156e_11eb_833d_02cba411ec9d\" ><thead>    <tr>        <th class=\"blank level0\" ></th>        <th class=\"col_heading level0 col0\" >fecha_inicial</th>        <th class=\"col_heading level0 col1\" >fecha_final</th>        <th class=\"col_heading level0 col2\" >fecha_pago</th>        <th class=\"col_heading level0 col3\" >nominal</th>        <th class=\"col_heading level0 col4\" >amortizacion</th>        <th class=\"col_heading level0 col5\" >interes</th>        <th class=\"col_heading level0 col6\" >amort_es_flujo</th>        <th class=\"col_heading level0 col7\" >flujo</th>        <th class=\"col_heading level0 col8\" >moneda</th>        <th class=\"col_heading level0 col9\" >valor_tasa</th>        <th class=\"col_heading level0 col10\" >tipo_tasa</th>    </tr></thead><tbody>\n",
       "                <tr>\n",
       "                        <th id=\"T_3e0cd3a8_156e_11eb_833d_02cba411ec9dlevel0_row0\" class=\"row_heading level0 row0\" >0</th>\n",
       "                        <td id=\"T_3e0cd3a8_156e_11eb_833d_02cba411ec9drow0_col0\" class=\"data row0 col0\" >2020-10-14</td>\n",
       "                        <td id=\"T_3e0cd3a8_156e_11eb_833d_02cba411ec9drow0_col1\" class=\"data row0 col1\" >2021-04-14</td>\n",
       "                        <td id=\"T_3e0cd3a8_156e_11eb_833d_02cba411ec9drow0_col2\" class=\"data row0 col2\" >2021-04-14</td>\n",
       "                        <td id=\"T_3e0cd3a8_156e_11eb_833d_02cba411ec9drow0_col3\" class=\"data row0 col3\" >10,000,000.00</td>\n",
       "                        <td id=\"T_3e0cd3a8_156e_11eb_833d_02cba411ec9drow0_col4\" class=\"data row0 col4\" >0.00</td>\n",
       "                        <td id=\"T_3e0cd3a8_156e_11eb_833d_02cba411ec9drow0_col5\" class=\"data row0 col5\" >50,555.56</td>\n",
       "                        <td id=\"T_3e0cd3a8_156e_11eb_833d_02cba411ec9drow0_col6\" class=\"data row0 col6\" >True</td>\n",
       "                        <td id=\"T_3e0cd3a8_156e_11eb_833d_02cba411ec9drow0_col7\" class=\"data row0 col7\" >50,555.56</td>\n",
       "                        <td id=\"T_3e0cd3a8_156e_11eb_833d_02cba411ec9drow0_col8\" class=\"data row0 col8\" >USD</td>\n",
       "                        <td id=\"T_3e0cd3a8_156e_11eb_833d_02cba411ec9drow0_col9\" class=\"data row0 col9\" >1.0000%</td>\n",
       "                        <td id=\"T_3e0cd3a8_156e_11eb_833d_02cba411ec9drow0_col10\" class=\"data row0 col10\" >LinAct360</td>\n",
       "            </tr>\n",
       "            <tr>\n",
       "                        <th id=\"T_3e0cd3a8_156e_11eb_833d_02cba411ec9dlevel0_row1\" class=\"row_heading level0 row1\" >1</th>\n",
       "                        <td id=\"T_3e0cd3a8_156e_11eb_833d_02cba411ec9drow1_col0\" class=\"data row1 col0\" >2021-04-14</td>\n",
       "                        <td id=\"T_3e0cd3a8_156e_11eb_833d_02cba411ec9drow1_col1\" class=\"data row1 col1\" >2022-04-14</td>\n",
       "                        <td id=\"T_3e0cd3a8_156e_11eb_833d_02cba411ec9drow1_col2\" class=\"data row1 col2\" >2022-04-14</td>\n",
       "                        <td id=\"T_3e0cd3a8_156e_11eb_833d_02cba411ec9drow1_col3\" class=\"data row1 col3\" >10,000,000.00</td>\n",
       "                        <td id=\"T_3e0cd3a8_156e_11eb_833d_02cba411ec9drow1_col4\" class=\"data row1 col4\" >0.00</td>\n",
       "                        <td id=\"T_3e0cd3a8_156e_11eb_833d_02cba411ec9drow1_col5\" class=\"data row1 col5\" >101,388.89</td>\n",
       "                        <td id=\"T_3e0cd3a8_156e_11eb_833d_02cba411ec9drow1_col6\" class=\"data row1 col6\" >True</td>\n",
       "                        <td id=\"T_3e0cd3a8_156e_11eb_833d_02cba411ec9drow1_col7\" class=\"data row1 col7\" >101,388.89</td>\n",
       "                        <td id=\"T_3e0cd3a8_156e_11eb_833d_02cba411ec9drow1_col8\" class=\"data row1 col8\" >USD</td>\n",
       "                        <td id=\"T_3e0cd3a8_156e_11eb_833d_02cba411ec9drow1_col9\" class=\"data row1 col9\" >1.0000%</td>\n",
       "                        <td id=\"T_3e0cd3a8_156e_11eb_833d_02cba411ec9drow1_col10\" class=\"data row1 col10\" >LinAct360</td>\n",
       "            </tr>\n",
       "            <tr>\n",
       "                        <th id=\"T_3e0cd3a8_156e_11eb_833d_02cba411ec9dlevel0_row2\" class=\"row_heading level0 row2\" >2</th>\n",
       "                        <td id=\"T_3e0cd3a8_156e_11eb_833d_02cba411ec9drow2_col0\" class=\"data row2 col0\" >2022-04-14</td>\n",
       "                        <td id=\"T_3e0cd3a8_156e_11eb_833d_02cba411ec9drow2_col1\" class=\"data row2 col1\" >2023-04-14</td>\n",
       "                        <td id=\"T_3e0cd3a8_156e_11eb_833d_02cba411ec9drow2_col2\" class=\"data row2 col2\" >2023-04-14</td>\n",
       "                        <td id=\"T_3e0cd3a8_156e_11eb_833d_02cba411ec9drow2_col3\" class=\"data row2 col3\" >10,000,000.00</td>\n",
       "                        <td id=\"T_3e0cd3a8_156e_11eb_833d_02cba411ec9drow2_col4\" class=\"data row2 col4\" >10,000,000.00</td>\n",
       "                        <td id=\"T_3e0cd3a8_156e_11eb_833d_02cba411ec9drow2_col5\" class=\"data row2 col5\" >101,388.89</td>\n",
       "                        <td id=\"T_3e0cd3a8_156e_11eb_833d_02cba411ec9drow2_col6\" class=\"data row2 col6\" >True</td>\n",
       "                        <td id=\"T_3e0cd3a8_156e_11eb_833d_02cba411ec9drow2_col7\" class=\"data row2 col7\" >10,101,388.89</td>\n",
       "                        <td id=\"T_3e0cd3a8_156e_11eb_833d_02cba411ec9drow2_col8\" class=\"data row2 col8\" >USD</td>\n",
       "                        <td id=\"T_3e0cd3a8_156e_11eb_833d_02cba411ec9drow2_col9\" class=\"data row2 col9\" >1.0000%</td>\n",
       "                        <td id=\"T_3e0cd3a8_156e_11eb_833d_02cba411ec9drow2_col10\" class=\"data row2 col10\" >LinAct360</td>\n",
       "            </tr>\n",
       "    </tbody></table>"
      ],
      "text/plain": [
       "<pandas.io.formats.style.Styler at 0x7f7d0c0ada58>"
      ]
     },
     "execution_count": 10,
     "metadata": {},
     "output_type": "execute_result"
    }
   ],
   "source": [
    "aux.show_leg(op[0], 'FixedRateCashflow', '').style.format(frmt)"
   ]
  },
  {
   "cell_type": "code",
   "execution_count": 11,
   "metadata": {
    "ExecuteTime": {
     "end_time": "2020-10-23T20:28:42.905628Z",
     "start_time": "2020-10-23T20:28:42.886042Z"
    }
   },
   "outputs": [
    {
     "data": {
      "text/html": [
       "<style  type=\"text/css\" >\n",
       "</style><table id=\"T_57d2be9c_156e_11eb_833d_02cba411ec9d\" ><thead>    <tr>        <th class=\"blank level0\" ></th>        <th class=\"col_heading level0 col0\" >fecha_inicial</th>        <th class=\"col_heading level0 col1\" >fecha_final</th>        <th class=\"col_heading level0 col2\" >fecha_pago</th>        <th class=\"col_heading level0 col3\" >nominal</th>        <th class=\"col_heading level0 col4\" >amortizacion</th>        <th class=\"col_heading level0 col5\" >amort_es_flujo</th>        <th class=\"col_heading level0 col6\" >flujo</th>        <th class=\"col_heading level0 col7\" >moneda</th>        <th class=\"col_heading level0 col8\" >icp_inicial</th>        <th class=\"col_heading level0 col9\" >icp_final</th>        <th class=\"col_heading level0 col10\" >valor_tasa</th>        <th class=\"col_heading level0 col11\" >interes</th>        <th class=\"col_heading level0 col12\" >spread</th>        <th class=\"col_heading level0 col13\" >gearing</th>        <th class=\"col_heading level0 col14\" >tipo_tasa</th>    </tr></thead><tbody>\n",
       "                <tr>\n",
       "                        <th id=\"T_57d2be9c_156e_11eb_833d_02cba411ec9dlevel0_row0\" class=\"row_heading level0 row0\" >0</th>\n",
       "                        <td id=\"T_57d2be9c_156e_11eb_833d_02cba411ec9drow0_col0\" class=\"data row0 col0\" >2020-10-14</td>\n",
       "                        <td id=\"T_57d2be9c_156e_11eb_833d_02cba411ec9drow0_col1\" class=\"data row0 col1\" >2021-04-14</td>\n",
       "                        <td id=\"T_57d2be9c_156e_11eb_833d_02cba411ec9drow0_col2\" class=\"data row0 col2\" >2021-04-14</td>\n",
       "                        <td id=\"T_57d2be9c_156e_11eb_833d_02cba411ec9drow0_col3\" class=\"data row0 col3\" >-10,000,000.00</td>\n",
       "                        <td id=\"T_57d2be9c_156e_11eb_833d_02cba411ec9drow0_col4\" class=\"data row0 col4\" >0.00</td>\n",
       "                        <td id=\"T_57d2be9c_156e_11eb_833d_02cba411ec9drow0_col5\" class=\"data row0 col5\" >True</td>\n",
       "                        <td id=\"T_57d2be9c_156e_11eb_833d_02cba411ec9drow0_col6\" class=\"data row0 col6\" >0.00</td>\n",
       "                        <td id=\"T_57d2be9c_156e_11eb_833d_02cba411ec9drow0_col7\" class=\"data row0 col7\" >CLP</td>\n",
       "                        <td id=\"T_57d2be9c_156e_11eb_833d_02cba411ec9drow0_col8\" class=\"data row0 col8\" >1.000000</td>\n",
       "                        <td id=\"T_57d2be9c_156e_11eb_833d_02cba411ec9drow0_col9\" class=\"data row0 col9\" >1.000000</td>\n",
       "                        <td id=\"T_57d2be9c_156e_11eb_833d_02cba411ec9drow0_col10\" class=\"data row0 col10\" >0.0000%</td>\n",
       "                        <td id=\"T_57d2be9c_156e_11eb_833d_02cba411ec9drow0_col11\" class=\"data row0 col11\" >-0.00</td>\n",
       "                        <td id=\"T_57d2be9c_156e_11eb_833d_02cba411ec9drow0_col12\" class=\"data row0 col12\" >0.0000%</td>\n",
       "                        <td id=\"T_57d2be9c_156e_11eb_833d_02cba411ec9drow0_col13\" class=\"data row0 col13\" >1.000000</td>\n",
       "                        <td id=\"T_57d2be9c_156e_11eb_833d_02cba411ec9drow0_col14\" class=\"data row0 col14\" >LinAct360</td>\n",
       "            </tr>\n",
       "            <tr>\n",
       "                        <th id=\"T_57d2be9c_156e_11eb_833d_02cba411ec9dlevel0_row1\" class=\"row_heading level0 row1\" >1</th>\n",
       "                        <td id=\"T_57d2be9c_156e_11eb_833d_02cba411ec9drow1_col0\" class=\"data row1 col0\" >2021-04-14</td>\n",
       "                        <td id=\"T_57d2be9c_156e_11eb_833d_02cba411ec9drow1_col1\" class=\"data row1 col1\" >2022-04-14</td>\n",
       "                        <td id=\"T_57d2be9c_156e_11eb_833d_02cba411ec9drow1_col2\" class=\"data row1 col2\" >2022-04-14</td>\n",
       "                        <td id=\"T_57d2be9c_156e_11eb_833d_02cba411ec9drow1_col3\" class=\"data row1 col3\" >-10,000,000.00</td>\n",
       "                        <td id=\"T_57d2be9c_156e_11eb_833d_02cba411ec9drow1_col4\" class=\"data row1 col4\" >0.00</td>\n",
       "                        <td id=\"T_57d2be9c_156e_11eb_833d_02cba411ec9drow1_col5\" class=\"data row1 col5\" >True</td>\n",
       "                        <td id=\"T_57d2be9c_156e_11eb_833d_02cba411ec9drow1_col6\" class=\"data row1 col6\" >0.00</td>\n",
       "                        <td id=\"T_57d2be9c_156e_11eb_833d_02cba411ec9drow1_col7\" class=\"data row1 col7\" >CLP</td>\n",
       "                        <td id=\"T_57d2be9c_156e_11eb_833d_02cba411ec9drow1_col8\" class=\"data row1 col8\" >1.000000</td>\n",
       "                        <td id=\"T_57d2be9c_156e_11eb_833d_02cba411ec9drow1_col9\" class=\"data row1 col9\" >1.000000</td>\n",
       "                        <td id=\"T_57d2be9c_156e_11eb_833d_02cba411ec9drow1_col10\" class=\"data row1 col10\" >0.0000%</td>\n",
       "                        <td id=\"T_57d2be9c_156e_11eb_833d_02cba411ec9drow1_col11\" class=\"data row1 col11\" >-0.00</td>\n",
       "                        <td id=\"T_57d2be9c_156e_11eb_833d_02cba411ec9drow1_col12\" class=\"data row1 col12\" >0.0000%</td>\n",
       "                        <td id=\"T_57d2be9c_156e_11eb_833d_02cba411ec9drow1_col13\" class=\"data row1 col13\" >1.000000</td>\n",
       "                        <td id=\"T_57d2be9c_156e_11eb_833d_02cba411ec9drow1_col14\" class=\"data row1 col14\" >LinAct360</td>\n",
       "            </tr>\n",
       "            <tr>\n",
       "                        <th id=\"T_57d2be9c_156e_11eb_833d_02cba411ec9dlevel0_row2\" class=\"row_heading level0 row2\" >2</th>\n",
       "                        <td id=\"T_57d2be9c_156e_11eb_833d_02cba411ec9drow2_col0\" class=\"data row2 col0\" >2022-04-14</td>\n",
       "                        <td id=\"T_57d2be9c_156e_11eb_833d_02cba411ec9drow2_col1\" class=\"data row2 col1\" >2023-04-14</td>\n",
       "                        <td id=\"T_57d2be9c_156e_11eb_833d_02cba411ec9drow2_col2\" class=\"data row2 col2\" >2023-04-14</td>\n",
       "                        <td id=\"T_57d2be9c_156e_11eb_833d_02cba411ec9drow2_col3\" class=\"data row2 col3\" >-10,000,000.00</td>\n",
       "                        <td id=\"T_57d2be9c_156e_11eb_833d_02cba411ec9drow2_col4\" class=\"data row2 col4\" >-10,000,000.00</td>\n",
       "                        <td id=\"T_57d2be9c_156e_11eb_833d_02cba411ec9drow2_col5\" class=\"data row2 col5\" >True</td>\n",
       "                        <td id=\"T_57d2be9c_156e_11eb_833d_02cba411ec9drow2_col6\" class=\"data row2 col6\" >-10,000,000.00</td>\n",
       "                        <td id=\"T_57d2be9c_156e_11eb_833d_02cba411ec9drow2_col7\" class=\"data row2 col7\" >CLP</td>\n",
       "                        <td id=\"T_57d2be9c_156e_11eb_833d_02cba411ec9drow2_col8\" class=\"data row2 col8\" >1.000000</td>\n",
       "                        <td id=\"T_57d2be9c_156e_11eb_833d_02cba411ec9drow2_col9\" class=\"data row2 col9\" >1.000000</td>\n",
       "                        <td id=\"T_57d2be9c_156e_11eb_833d_02cba411ec9drow2_col10\" class=\"data row2 col10\" >0.0000%</td>\n",
       "                        <td id=\"T_57d2be9c_156e_11eb_833d_02cba411ec9drow2_col11\" class=\"data row2 col11\" >-0.00</td>\n",
       "                        <td id=\"T_57d2be9c_156e_11eb_833d_02cba411ec9drow2_col12\" class=\"data row2 col12\" >0.0000%</td>\n",
       "                        <td id=\"T_57d2be9c_156e_11eb_833d_02cba411ec9drow2_col13\" class=\"data row2 col13\" >1.000000</td>\n",
       "                        <td id=\"T_57d2be9c_156e_11eb_833d_02cba411ec9drow2_col14\" class=\"data row2 col14\" >LinAct360</td>\n",
       "            </tr>\n",
       "    </tbody></table>"
      ],
      "text/plain": [
       "<pandas.io.formats.style.Styler at 0x7f7d0bdc7978>"
      ]
     },
     "execution_count": 11,
     "metadata": {},
     "output_type": "execute_result"
    }
   ],
   "source": [
    "aux.show_leg(op[1], 'IcpClpCashflow', '').style.format(frmt)"
   ]
  },
  {
   "cell_type": "markdown",
   "metadata": {},
   "source": [
    "#### Valor Presente Pata Fija"
   ]
  },
  {
   "cell_type": "code",
   "execution_count": 12,
   "metadata": {
    "ExecuteTime": {
     "end_time": "2020-10-23T20:29:46.364471Z",
     "start_time": "2020-10-23T20:29:46.361093Z"
    }
   },
   "outputs": [],
   "source": [
    "vp = Qcf.PresentValue()"
   ]
  },
  {
   "cell_type": "code",
   "execution_count": 13,
   "metadata": {
    "ExecuteTime": {
     "end_time": "2020-10-23T20:29:55.430139Z",
     "start_time": "2020-10-23T20:29:55.426817Z"
    }
   },
   "outputs": [],
   "source": [
    "fecha_val = Qcf.QCDate(14, 10, 2020)"
   ]
  },
  {
   "cell_type": "code",
   "execution_count": 14,
   "metadata": {
    "ExecuteTime": {
     "end_time": "2020-10-23T20:30:04.516444Z",
     "start_time": "2020-10-23T20:30:04.511073Z"
    }
   },
   "outputs": [
    {
     "name": "stdout",
     "output_type": "stream",
     "text": [
      "El valor presente de la pata fija es: USD 10,236,626.11\n"
     ]
    }
   ],
   "source": [
    "vp_fija = vp.pv(fecha_val, op[0], zcc)\n",
    "print(f'El valor presente de la pata fija es: USD {vp_fija:,.2f}')"
   ]
  },
  {
   "cell_type": "markdown",
   "metadata": {},
   "source": [
    "#### Valor Presente Pata Flotante"
   ]
  },
  {
   "cell_type": "code",
   "execution_count": 15,
   "metadata": {
    "ExecuteTime": {
     "end_time": "2020-10-23T20:30:28.471083Z",
     "start_time": "2020-10-23T20:30:28.466726Z"
    }
   },
   "outputs": [],
   "source": [
    "fwd = Qcf.ForwardRates()"
   ]
  },
  {
   "cell_type": "code",
   "execution_count": 17,
   "metadata": {
    "ExecuteTime": {
     "end_time": "2020-10-23T20:30:57.870089Z",
     "start_time": "2020-10-23T20:30:57.866294Z"
    }
   },
   "outputs": [],
   "source": [
    "fwd.set_rates_icp_clp_leg(fecha_val, 1.0, op[1], zcc)"
   ]
  },
  {
   "cell_type": "code",
   "execution_count": 18,
   "metadata": {
    "ExecuteTime": {
     "end_time": "2020-10-23T20:31:01.260734Z",
     "start_time": "2020-10-23T20:31:01.243076Z"
    }
   },
   "outputs": [
    {
     "data": {
      "text/html": [
       "<style  type=\"text/css\" >\n",
       "</style><table id=\"T_aa4a4fc8_156e_11eb_833d_02cba411ec9d\" ><thead>    <tr>        <th class=\"blank level0\" ></th>        <th class=\"col_heading level0 col0\" >fecha_inicial</th>        <th class=\"col_heading level0 col1\" >fecha_final</th>        <th class=\"col_heading level0 col2\" >fecha_pago</th>        <th class=\"col_heading level0 col3\" >nominal</th>        <th class=\"col_heading level0 col4\" >amortizacion</th>        <th class=\"col_heading level0 col5\" >amort_es_flujo</th>        <th class=\"col_heading level0 col6\" >flujo</th>        <th class=\"col_heading level0 col7\" >moneda</th>        <th class=\"col_heading level0 col8\" >icp_inicial</th>        <th class=\"col_heading level0 col9\" >icp_final</th>        <th class=\"col_heading level0 col10\" >valor_tasa</th>        <th class=\"col_heading level0 col11\" >interes</th>        <th class=\"col_heading level0 col12\" >spread</th>        <th class=\"col_heading level0 col13\" >gearing</th>        <th class=\"col_heading level0 col14\" >tipo_tasa</th>    </tr></thead><tbody>\n",
       "                <tr>\n",
       "                        <th id=\"T_aa4a4fc8_156e_11eb_833d_02cba411ec9dlevel0_row0\" class=\"row_heading level0 row0\" >0</th>\n",
       "                        <td id=\"T_aa4a4fc8_156e_11eb_833d_02cba411ec9drow0_col0\" class=\"data row0 col0\" >2020-10-14</td>\n",
       "                        <td id=\"T_aa4a4fc8_156e_11eb_833d_02cba411ec9drow0_col1\" class=\"data row0 col1\" >2021-04-14</td>\n",
       "                        <td id=\"T_aa4a4fc8_156e_11eb_833d_02cba411ec9drow0_col2\" class=\"data row0 col2\" >2021-04-14</td>\n",
       "                        <td id=\"T_aa4a4fc8_156e_11eb_833d_02cba411ec9drow0_col3\" class=\"data row0 col3\" >-10,000,000.00</td>\n",
       "                        <td id=\"T_aa4a4fc8_156e_11eb_833d_02cba411ec9drow0_col4\" class=\"data row0 col4\" >0.00</td>\n",
       "                        <td id=\"T_aa4a4fc8_156e_11eb_833d_02cba411ec9drow0_col5\" class=\"data row0 col5\" >True</td>\n",
       "                        <td id=\"T_aa4a4fc8_156e_11eb_833d_02cba411ec9drow0_col6\" class=\"data row0 col6\" >-3,739.71</td>\n",
       "                        <td id=\"T_aa4a4fc8_156e_11eb_833d_02cba411ec9drow0_col7\" class=\"data row0 col7\" >CLP</td>\n",
       "                        <td id=\"T_aa4a4fc8_156e_11eb_833d_02cba411ec9drow0_col8\" class=\"data row0 col8\" >1.000000</td>\n",
       "                        <td id=\"T_aa4a4fc8_156e_11eb_833d_02cba411ec9drow0_col9\" class=\"data row0 col9\" >1.000374</td>\n",
       "                        <td id=\"T_aa4a4fc8_156e_11eb_833d_02cba411ec9drow0_col10\" class=\"data row0 col10\" >0.0700%</td>\n",
       "                        <td id=\"T_aa4a4fc8_156e_11eb_833d_02cba411ec9drow0_col11\" class=\"data row0 col11\" >-3,538.89</td>\n",
       "                        <td id=\"T_aa4a4fc8_156e_11eb_833d_02cba411ec9drow0_col12\" class=\"data row0 col12\" >0.0000%</td>\n",
       "                        <td id=\"T_aa4a4fc8_156e_11eb_833d_02cba411ec9drow0_col13\" class=\"data row0 col13\" >1.000000</td>\n",
       "                        <td id=\"T_aa4a4fc8_156e_11eb_833d_02cba411ec9drow0_col14\" class=\"data row0 col14\" >LinAct360</td>\n",
       "            </tr>\n",
       "            <tr>\n",
       "                        <th id=\"T_aa4a4fc8_156e_11eb_833d_02cba411ec9dlevel0_row1\" class=\"row_heading level0 row1\" >1</th>\n",
       "                        <td id=\"T_aa4a4fc8_156e_11eb_833d_02cba411ec9drow1_col0\" class=\"data row1 col0\" >2021-04-14</td>\n",
       "                        <td id=\"T_aa4a4fc8_156e_11eb_833d_02cba411ec9drow1_col1\" class=\"data row1 col1\" >2022-04-14</td>\n",
       "                        <td id=\"T_aa4a4fc8_156e_11eb_833d_02cba411ec9drow1_col2\" class=\"data row1 col2\" >2022-04-14</td>\n",
       "                        <td id=\"T_aa4a4fc8_156e_11eb_833d_02cba411ec9drow1_col3\" class=\"data row1 col3\" >-10,000,000.00</td>\n",
       "                        <td id=\"T_aa4a4fc8_156e_11eb_833d_02cba411ec9drow1_col4\" class=\"data row1 col4\" >0.00</td>\n",
       "                        <td id=\"T_aa4a4fc8_156e_11eb_833d_02cba411ec9drow1_col5\" class=\"data row1 col5\" >True</td>\n",
       "                        <td id=\"T_aa4a4fc8_156e_11eb_833d_02cba411ec9drow1_col6\" class=\"data row1 col6\" >-5,874.97</td>\n",
       "                        <td id=\"T_aa4a4fc8_156e_11eb_833d_02cba411ec9drow1_col7\" class=\"data row1 col7\" >CLP</td>\n",
       "                        <td id=\"T_aa4a4fc8_156e_11eb_833d_02cba411ec9drow1_col8\" class=\"data row1 col8\" >1.000374</td>\n",
       "                        <td id=\"T_aa4a4fc8_156e_11eb_833d_02cba411ec9drow1_col9\" class=\"data row1 col9\" >1.000962</td>\n",
       "                        <td id=\"T_aa4a4fc8_156e_11eb_833d_02cba411ec9drow1_col10\" class=\"data row1 col10\" >0.0600%</td>\n",
       "                        <td id=\"T_aa4a4fc8_156e_11eb_833d_02cba411ec9drow1_col11\" class=\"data row1 col11\" >-6,083.33</td>\n",
       "                        <td id=\"T_aa4a4fc8_156e_11eb_833d_02cba411ec9drow1_col12\" class=\"data row1 col12\" >0.0000%</td>\n",
       "                        <td id=\"T_aa4a4fc8_156e_11eb_833d_02cba411ec9drow1_col13\" class=\"data row1 col13\" >1.000000</td>\n",
       "                        <td id=\"T_aa4a4fc8_156e_11eb_833d_02cba411ec9drow1_col14\" class=\"data row1 col14\" >LinAct360</td>\n",
       "            </tr>\n",
       "            <tr>\n",
       "                        <th id=\"T_aa4a4fc8_156e_11eb_833d_02cba411ec9dlevel0_row2\" class=\"row_heading level0 row2\" >2</th>\n",
       "                        <td id=\"T_aa4a4fc8_156e_11eb_833d_02cba411ec9drow2_col0\" class=\"data row2 col0\" >2022-04-14</td>\n",
       "                        <td id=\"T_aa4a4fc8_156e_11eb_833d_02cba411ec9drow2_col1\" class=\"data row2 col1\" >2023-04-14</td>\n",
       "                        <td id=\"T_aa4a4fc8_156e_11eb_833d_02cba411ec9drow2_col2\" class=\"data row2 col2\" >2023-04-14</td>\n",
       "                        <td id=\"T_aa4a4fc8_156e_11eb_833d_02cba411ec9drow2_col3\" class=\"data row2 col3\" >-10,000,000.00</td>\n",
       "                        <td id=\"T_aa4a4fc8_156e_11eb_833d_02cba411ec9drow2_col4\" class=\"data row2 col4\" >-10,000,000.00</td>\n",
       "                        <td id=\"T_aa4a4fc8_156e_11eb_833d_02cba411ec9drow2_col5\" class=\"data row2 col5\" >True</td>\n",
       "                        <td id=\"T_aa4a4fc8_156e_11eb_833d_02cba411ec9drow2_col6\" class=\"data row2 col6\" >-10,006,827.97</td>\n",
       "                        <td id=\"T_aa4a4fc8_156e_11eb_833d_02cba411ec9drow2_col7\" class=\"data row2 col7\" >CLP</td>\n",
       "                        <td id=\"T_aa4a4fc8_156e_11eb_833d_02cba411ec9drow2_col8\" class=\"data row2 col8\" >1.000962</td>\n",
       "                        <td id=\"T_aa4a4fc8_156e_11eb_833d_02cba411ec9drow2_col9\" class=\"data row2 col9\" >1.001645</td>\n",
       "                        <td id=\"T_aa4a4fc8_156e_11eb_833d_02cba411ec9drow2_col10\" class=\"data row2 col10\" >0.0700%</td>\n",
       "                        <td id=\"T_aa4a4fc8_156e_11eb_833d_02cba411ec9drow2_col11\" class=\"data row2 col11\" >-7,097.22</td>\n",
       "                        <td id=\"T_aa4a4fc8_156e_11eb_833d_02cba411ec9drow2_col12\" class=\"data row2 col12\" >0.0000%</td>\n",
       "                        <td id=\"T_aa4a4fc8_156e_11eb_833d_02cba411ec9drow2_col13\" class=\"data row2 col13\" >1.000000</td>\n",
       "                        <td id=\"T_aa4a4fc8_156e_11eb_833d_02cba411ec9drow2_col14\" class=\"data row2 col14\" >LinAct360</td>\n",
       "            </tr>\n",
       "    </tbody></table>"
      ],
      "text/plain": [
       "<pandas.io.formats.style.Styler at 0x7f7d0bb64da0>"
      ]
     },
     "execution_count": 18,
     "metadata": {},
     "output_type": "execute_result"
    }
   ],
   "source": [
    "aux.show_leg(op[1], 'IcpClpCashflow', '').style.format(frmt)"
   ]
  },
  {
   "cell_type": "code",
   "execution_count": 19,
   "metadata": {
    "ExecuteTime": {
     "end_time": "2020-10-23T20:31:28.286783Z",
     "start_time": "2020-10-23T20:31:28.282128Z"
    }
   },
   "outputs": [
    {
     "name": "stdout",
     "output_type": "stream",
     "text": [
      "El valor presente de la pata flotante es: USD -10,000,000.00\n"
     ]
    }
   ],
   "source": [
    "vp_flot = vp.pv(fecha_val, op[1], zcc)\n",
    "print(f'El valor presente de la pata flotante es: USD {vp_flot:,.2f}')"
   ]
  },
  {
   "cell_type": "code",
   "execution_count": 20,
   "metadata": {
    "ExecuteTime": {
     "end_time": "2020-10-23T20:32:11.453908Z",
     "start_time": "2020-10-23T20:32:11.448873Z"
    },
    "hide_input": false
   },
   "outputs": [
    {
     "name": "stdout",
     "output_type": "stream",
     "text": [
      "Por lo tanto, el valor total de la operación es:\n",
      "Valor total: USD 236,626.11\n"
     ]
    }
   ],
   "source": [
    "print(f'Por lo tanto, el valor total de la operación es:\\nValor total: USD {vp_fija + vp_flot:,.2f}')"
   ]
  },
  {
   "cell_type": "markdown",
   "metadata": {},
   "source": [
    "#### Ejercicio\n",
    "\n",
    "Haga el *pricing* de la operación: determine qué tasa fija hace que el valor total de la operación sea 0."
   ]
  },
  {
   "cell_type": "markdown",
   "metadata": {},
   "source": [
    "### Operación con Amortizaciones"
   ]
  },
  {
   "cell_type": "code",
   "execution_count": 25,
   "metadata": {
    "ExecuteTime": {
     "end_time": "2020-10-23T19:52:05.705343Z",
     "start_time": "2020-10-23T19:52:05.614919Z"
    }
   },
   "outputs": [
    {
     "data": {
      "text/plain": [
       "(<finrisk.QC_Financial_3.Leg at 0x7f75b4c842a0>,\n",
       " <finrisk.QC_Financial_3.Leg at 0x7f75b4c84308>)"
      ]
     },
     "execution_count": 25,
     "metadata": {},
     "output_type": "execute_result"
    }
   ],
   "source": [
    "op2 = get_ois_sofr(\n",
    "    rp=Qcf.RecPay.RECEIVE,\n",
    "    notional=10000000,\n",
    "    start_date=Qcf.QCDate(14, 10, 2020),\n",
    "    tenor=Qcf.Tenor('4Y'),\n",
    "    fixed_rate_value=.01,\n",
    "    spread=0.0,\n",
    "    gearing=1.0\n",
    ")\n",
    "op2"
   ]
  },
  {
   "cell_type": "code",
   "execution_count": 26,
   "metadata": {
    "ExecuteTime": {
     "end_time": "2020-10-23T19:52:05.733659Z",
     "start_time": "2020-10-23T19:52:05.709096Z"
    }
   },
   "outputs": [
    {
     "data": {
      "text/html": [
       "<style  type=\"text/css\" >\n",
       "</style><table id=\"T_3a34c420_1569_11eb_833d_02cba411ec9d\" ><thead>    <tr>        <th class=\"blank level0\" ></th>        <th class=\"col_heading level0 col0\" >fecha_inicial</th>        <th class=\"col_heading level0 col1\" >fecha_final</th>        <th class=\"col_heading level0 col2\" >fecha_pago</th>        <th class=\"col_heading level0 col3\" >nominal</th>        <th class=\"col_heading level0 col4\" >amortizacion</th>        <th class=\"col_heading level0 col5\" >interes</th>        <th class=\"col_heading level0 col6\" >amort_es_flujo</th>        <th class=\"col_heading level0 col7\" >flujo</th>        <th class=\"col_heading level0 col8\" >moneda</th>        <th class=\"col_heading level0 col9\" >valor_tasa</th>        <th class=\"col_heading level0 col10\" >tipo_tasa</th>    </tr></thead><tbody>\n",
       "                <tr>\n",
       "                        <th id=\"T_3a34c420_1569_11eb_833d_02cba411ec9dlevel0_row0\" class=\"row_heading level0 row0\" >0</th>\n",
       "                        <td id=\"T_3a34c420_1569_11eb_833d_02cba411ec9drow0_col0\" class=\"data row0 col0\" >2020-10-14</td>\n",
       "                        <td id=\"T_3a34c420_1569_11eb_833d_02cba411ec9drow0_col1\" class=\"data row0 col1\" >2021-10-14</td>\n",
       "                        <td id=\"T_3a34c420_1569_11eb_833d_02cba411ec9drow0_col2\" class=\"data row0 col2\" >2021-10-14</td>\n",
       "                        <td id=\"T_3a34c420_1569_11eb_833d_02cba411ec9drow0_col3\" class=\"data row0 col3\" >10,000,000.00</td>\n",
       "                        <td id=\"T_3a34c420_1569_11eb_833d_02cba411ec9drow0_col4\" class=\"data row0 col4\" >0.00</td>\n",
       "                        <td id=\"T_3a34c420_1569_11eb_833d_02cba411ec9drow0_col5\" class=\"data row0 col5\" >101,388.89</td>\n",
       "                        <td id=\"T_3a34c420_1569_11eb_833d_02cba411ec9drow0_col6\" class=\"data row0 col6\" >True</td>\n",
       "                        <td id=\"T_3a34c420_1569_11eb_833d_02cba411ec9drow0_col7\" class=\"data row0 col7\" >101,388.89</td>\n",
       "                        <td id=\"T_3a34c420_1569_11eb_833d_02cba411ec9drow0_col8\" class=\"data row0 col8\" >USD</td>\n",
       "                        <td id=\"T_3a34c420_1569_11eb_833d_02cba411ec9drow0_col9\" class=\"data row0 col9\" >1.0000%</td>\n",
       "                        <td id=\"T_3a34c420_1569_11eb_833d_02cba411ec9drow0_col10\" class=\"data row0 col10\" >LinAct360</td>\n",
       "            </tr>\n",
       "            <tr>\n",
       "                        <th id=\"T_3a34c420_1569_11eb_833d_02cba411ec9dlevel0_row1\" class=\"row_heading level0 row1\" >1</th>\n",
       "                        <td id=\"T_3a34c420_1569_11eb_833d_02cba411ec9drow1_col0\" class=\"data row1 col0\" >2021-10-14</td>\n",
       "                        <td id=\"T_3a34c420_1569_11eb_833d_02cba411ec9drow1_col1\" class=\"data row1 col1\" >2022-10-14</td>\n",
       "                        <td id=\"T_3a34c420_1569_11eb_833d_02cba411ec9drow1_col2\" class=\"data row1 col2\" >2022-10-14</td>\n",
       "                        <td id=\"T_3a34c420_1569_11eb_833d_02cba411ec9drow1_col3\" class=\"data row1 col3\" >10,000,000.00</td>\n",
       "                        <td id=\"T_3a34c420_1569_11eb_833d_02cba411ec9drow1_col4\" class=\"data row1 col4\" >0.00</td>\n",
       "                        <td id=\"T_3a34c420_1569_11eb_833d_02cba411ec9drow1_col5\" class=\"data row1 col5\" >101,388.89</td>\n",
       "                        <td id=\"T_3a34c420_1569_11eb_833d_02cba411ec9drow1_col6\" class=\"data row1 col6\" >True</td>\n",
       "                        <td id=\"T_3a34c420_1569_11eb_833d_02cba411ec9drow1_col7\" class=\"data row1 col7\" >101,388.89</td>\n",
       "                        <td id=\"T_3a34c420_1569_11eb_833d_02cba411ec9drow1_col8\" class=\"data row1 col8\" >USD</td>\n",
       "                        <td id=\"T_3a34c420_1569_11eb_833d_02cba411ec9drow1_col9\" class=\"data row1 col9\" >1.0000%</td>\n",
       "                        <td id=\"T_3a34c420_1569_11eb_833d_02cba411ec9drow1_col10\" class=\"data row1 col10\" >LinAct360</td>\n",
       "            </tr>\n",
       "            <tr>\n",
       "                        <th id=\"T_3a34c420_1569_11eb_833d_02cba411ec9dlevel0_row2\" class=\"row_heading level0 row2\" >2</th>\n",
       "                        <td id=\"T_3a34c420_1569_11eb_833d_02cba411ec9drow2_col0\" class=\"data row2 col0\" >2022-10-14</td>\n",
       "                        <td id=\"T_3a34c420_1569_11eb_833d_02cba411ec9drow2_col1\" class=\"data row2 col1\" >2023-10-16</td>\n",
       "                        <td id=\"T_3a34c420_1569_11eb_833d_02cba411ec9drow2_col2\" class=\"data row2 col2\" >2023-10-16</td>\n",
       "                        <td id=\"T_3a34c420_1569_11eb_833d_02cba411ec9drow2_col3\" class=\"data row2 col3\" >10,000,000.00</td>\n",
       "                        <td id=\"T_3a34c420_1569_11eb_833d_02cba411ec9drow2_col4\" class=\"data row2 col4\" >0.00</td>\n",
       "                        <td id=\"T_3a34c420_1569_11eb_833d_02cba411ec9drow2_col5\" class=\"data row2 col5\" >101,944.44</td>\n",
       "                        <td id=\"T_3a34c420_1569_11eb_833d_02cba411ec9drow2_col6\" class=\"data row2 col6\" >True</td>\n",
       "                        <td id=\"T_3a34c420_1569_11eb_833d_02cba411ec9drow2_col7\" class=\"data row2 col7\" >101,944.44</td>\n",
       "                        <td id=\"T_3a34c420_1569_11eb_833d_02cba411ec9drow2_col8\" class=\"data row2 col8\" >USD</td>\n",
       "                        <td id=\"T_3a34c420_1569_11eb_833d_02cba411ec9drow2_col9\" class=\"data row2 col9\" >1.0000%</td>\n",
       "                        <td id=\"T_3a34c420_1569_11eb_833d_02cba411ec9drow2_col10\" class=\"data row2 col10\" >LinAct360</td>\n",
       "            </tr>\n",
       "            <tr>\n",
       "                        <th id=\"T_3a34c420_1569_11eb_833d_02cba411ec9dlevel0_row3\" class=\"row_heading level0 row3\" >3</th>\n",
       "                        <td id=\"T_3a34c420_1569_11eb_833d_02cba411ec9drow3_col0\" class=\"data row3 col0\" >2023-10-16</td>\n",
       "                        <td id=\"T_3a34c420_1569_11eb_833d_02cba411ec9drow3_col1\" class=\"data row3 col1\" >2024-10-15</td>\n",
       "                        <td id=\"T_3a34c420_1569_11eb_833d_02cba411ec9drow3_col2\" class=\"data row3 col2\" >2024-10-15</td>\n",
       "                        <td id=\"T_3a34c420_1569_11eb_833d_02cba411ec9drow3_col3\" class=\"data row3 col3\" >10,000,000.00</td>\n",
       "                        <td id=\"T_3a34c420_1569_11eb_833d_02cba411ec9drow3_col4\" class=\"data row3 col4\" >10,000,000.00</td>\n",
       "                        <td id=\"T_3a34c420_1569_11eb_833d_02cba411ec9drow3_col5\" class=\"data row3 col5\" >101,388.89</td>\n",
       "                        <td id=\"T_3a34c420_1569_11eb_833d_02cba411ec9drow3_col6\" class=\"data row3 col6\" >True</td>\n",
       "                        <td id=\"T_3a34c420_1569_11eb_833d_02cba411ec9drow3_col7\" class=\"data row3 col7\" >10,101,388.89</td>\n",
       "                        <td id=\"T_3a34c420_1569_11eb_833d_02cba411ec9drow3_col8\" class=\"data row3 col8\" >USD</td>\n",
       "                        <td id=\"T_3a34c420_1569_11eb_833d_02cba411ec9drow3_col9\" class=\"data row3 col9\" >1.0000%</td>\n",
       "                        <td id=\"T_3a34c420_1569_11eb_833d_02cba411ec9drow3_col10\" class=\"data row3 col10\" >LinAct360</td>\n",
       "            </tr>\n",
       "    </tbody></table>"
      ],
      "text/plain": [
       "<pandas.io.formats.style.Styler at 0x7f75b4c83fd0>"
      ]
     },
     "execution_count": 26,
     "metadata": {},
     "output_type": "execute_result"
    }
   ],
   "source": [
    "aux.show_leg(op2[0], 'FixedRateCashflow', '').style.format(frmt)"
   ]
  },
  {
   "cell_type": "code",
   "execution_count": 27,
   "metadata": {
    "ExecuteTime": {
     "end_time": "2020-10-23T19:52:05.763508Z",
     "start_time": "2020-10-23T19:52:05.737307Z"
    }
   },
   "outputs": [
    {
     "data": {
      "text/html": [
       "<style  type=\"text/css\" >\n",
       "</style><table id=\"T_3a34c421_1569_11eb_833d_02cba411ec9d\" ><thead>    <tr>        <th class=\"blank level0\" ></th>        <th class=\"col_heading level0 col0\" >fecha_inicial</th>        <th class=\"col_heading level0 col1\" >fecha_final</th>        <th class=\"col_heading level0 col2\" >fecha_pago</th>        <th class=\"col_heading level0 col3\" >nominal</th>        <th class=\"col_heading level0 col4\" >amortizacion</th>        <th class=\"col_heading level0 col5\" >amort_es_flujo</th>        <th class=\"col_heading level0 col6\" >flujo</th>        <th class=\"col_heading level0 col7\" >moneda</th>        <th class=\"col_heading level0 col8\" >icp_inicial</th>        <th class=\"col_heading level0 col9\" >icp_final</th>        <th class=\"col_heading level0 col10\" >valor_tasa</th>        <th class=\"col_heading level0 col11\" >interes</th>        <th class=\"col_heading level0 col12\" >spread</th>        <th class=\"col_heading level0 col13\" >gearing</th>        <th class=\"col_heading level0 col14\" >tipo_tasa</th>    </tr></thead><tbody>\n",
       "                <tr>\n",
       "                        <th id=\"T_3a34c421_1569_11eb_833d_02cba411ec9dlevel0_row0\" class=\"row_heading level0 row0\" >0</th>\n",
       "                        <td id=\"T_3a34c421_1569_11eb_833d_02cba411ec9drow0_col0\" class=\"data row0 col0\" >2020-10-14</td>\n",
       "                        <td id=\"T_3a34c421_1569_11eb_833d_02cba411ec9drow0_col1\" class=\"data row0 col1\" >2021-10-14</td>\n",
       "                        <td id=\"T_3a34c421_1569_11eb_833d_02cba411ec9drow0_col2\" class=\"data row0 col2\" >2021-10-14</td>\n",
       "                        <td id=\"T_3a34c421_1569_11eb_833d_02cba411ec9drow0_col3\" class=\"data row0 col3\" >-10,000,000.00</td>\n",
       "                        <td id=\"T_3a34c421_1569_11eb_833d_02cba411ec9drow0_col4\" class=\"data row0 col4\" >0.00</td>\n",
       "                        <td id=\"T_3a34c421_1569_11eb_833d_02cba411ec9drow0_col5\" class=\"data row0 col5\" >True</td>\n",
       "                        <td id=\"T_3a34c421_1569_11eb_833d_02cba411ec9drow0_col6\" class=\"data row0 col6\" >0.00</td>\n",
       "                        <td id=\"T_3a34c421_1569_11eb_833d_02cba411ec9drow0_col7\" class=\"data row0 col7\" >CLP</td>\n",
       "                        <td id=\"T_3a34c421_1569_11eb_833d_02cba411ec9drow0_col8\" class=\"data row0 col8\" >1.000000</td>\n",
       "                        <td id=\"T_3a34c421_1569_11eb_833d_02cba411ec9drow0_col9\" class=\"data row0 col9\" >1.000000</td>\n",
       "                        <td id=\"T_3a34c421_1569_11eb_833d_02cba411ec9drow0_col10\" class=\"data row0 col10\" >0.0000%</td>\n",
       "                        <td id=\"T_3a34c421_1569_11eb_833d_02cba411ec9drow0_col11\" class=\"data row0 col11\" >-0.00</td>\n",
       "                        <td id=\"T_3a34c421_1569_11eb_833d_02cba411ec9drow0_col12\" class=\"data row0 col12\" >0.0000%</td>\n",
       "                        <td id=\"T_3a34c421_1569_11eb_833d_02cba411ec9drow0_col13\" class=\"data row0 col13\" >1.000000</td>\n",
       "                        <td id=\"T_3a34c421_1569_11eb_833d_02cba411ec9drow0_col14\" class=\"data row0 col14\" >LinAct360</td>\n",
       "            </tr>\n",
       "            <tr>\n",
       "                        <th id=\"T_3a34c421_1569_11eb_833d_02cba411ec9dlevel0_row1\" class=\"row_heading level0 row1\" >1</th>\n",
       "                        <td id=\"T_3a34c421_1569_11eb_833d_02cba411ec9drow1_col0\" class=\"data row1 col0\" >2021-10-14</td>\n",
       "                        <td id=\"T_3a34c421_1569_11eb_833d_02cba411ec9drow1_col1\" class=\"data row1 col1\" >2022-10-14</td>\n",
       "                        <td id=\"T_3a34c421_1569_11eb_833d_02cba411ec9drow1_col2\" class=\"data row1 col2\" >2022-10-14</td>\n",
       "                        <td id=\"T_3a34c421_1569_11eb_833d_02cba411ec9drow1_col3\" class=\"data row1 col3\" >-10,000,000.00</td>\n",
       "                        <td id=\"T_3a34c421_1569_11eb_833d_02cba411ec9drow1_col4\" class=\"data row1 col4\" >0.00</td>\n",
       "                        <td id=\"T_3a34c421_1569_11eb_833d_02cba411ec9drow1_col5\" class=\"data row1 col5\" >True</td>\n",
       "                        <td id=\"T_3a34c421_1569_11eb_833d_02cba411ec9drow1_col6\" class=\"data row1 col6\" >0.00</td>\n",
       "                        <td id=\"T_3a34c421_1569_11eb_833d_02cba411ec9drow1_col7\" class=\"data row1 col7\" >CLP</td>\n",
       "                        <td id=\"T_3a34c421_1569_11eb_833d_02cba411ec9drow1_col8\" class=\"data row1 col8\" >1.000000</td>\n",
       "                        <td id=\"T_3a34c421_1569_11eb_833d_02cba411ec9drow1_col9\" class=\"data row1 col9\" >1.000000</td>\n",
       "                        <td id=\"T_3a34c421_1569_11eb_833d_02cba411ec9drow1_col10\" class=\"data row1 col10\" >0.0000%</td>\n",
       "                        <td id=\"T_3a34c421_1569_11eb_833d_02cba411ec9drow1_col11\" class=\"data row1 col11\" >-0.00</td>\n",
       "                        <td id=\"T_3a34c421_1569_11eb_833d_02cba411ec9drow1_col12\" class=\"data row1 col12\" >0.0000%</td>\n",
       "                        <td id=\"T_3a34c421_1569_11eb_833d_02cba411ec9drow1_col13\" class=\"data row1 col13\" >1.000000</td>\n",
       "                        <td id=\"T_3a34c421_1569_11eb_833d_02cba411ec9drow1_col14\" class=\"data row1 col14\" >LinAct360</td>\n",
       "            </tr>\n",
       "            <tr>\n",
       "                        <th id=\"T_3a34c421_1569_11eb_833d_02cba411ec9dlevel0_row2\" class=\"row_heading level0 row2\" >2</th>\n",
       "                        <td id=\"T_3a34c421_1569_11eb_833d_02cba411ec9drow2_col0\" class=\"data row2 col0\" >2022-10-14</td>\n",
       "                        <td id=\"T_3a34c421_1569_11eb_833d_02cba411ec9drow2_col1\" class=\"data row2 col1\" >2023-10-16</td>\n",
       "                        <td id=\"T_3a34c421_1569_11eb_833d_02cba411ec9drow2_col2\" class=\"data row2 col2\" >2023-10-16</td>\n",
       "                        <td id=\"T_3a34c421_1569_11eb_833d_02cba411ec9drow2_col3\" class=\"data row2 col3\" >-10,000,000.00</td>\n",
       "                        <td id=\"T_3a34c421_1569_11eb_833d_02cba411ec9drow2_col4\" class=\"data row2 col4\" >0.00</td>\n",
       "                        <td id=\"T_3a34c421_1569_11eb_833d_02cba411ec9drow2_col5\" class=\"data row2 col5\" >True</td>\n",
       "                        <td id=\"T_3a34c421_1569_11eb_833d_02cba411ec9drow2_col6\" class=\"data row2 col6\" >0.00</td>\n",
       "                        <td id=\"T_3a34c421_1569_11eb_833d_02cba411ec9drow2_col7\" class=\"data row2 col7\" >CLP</td>\n",
       "                        <td id=\"T_3a34c421_1569_11eb_833d_02cba411ec9drow2_col8\" class=\"data row2 col8\" >1.000000</td>\n",
       "                        <td id=\"T_3a34c421_1569_11eb_833d_02cba411ec9drow2_col9\" class=\"data row2 col9\" >1.000000</td>\n",
       "                        <td id=\"T_3a34c421_1569_11eb_833d_02cba411ec9drow2_col10\" class=\"data row2 col10\" >0.0000%</td>\n",
       "                        <td id=\"T_3a34c421_1569_11eb_833d_02cba411ec9drow2_col11\" class=\"data row2 col11\" >-0.00</td>\n",
       "                        <td id=\"T_3a34c421_1569_11eb_833d_02cba411ec9drow2_col12\" class=\"data row2 col12\" >0.0000%</td>\n",
       "                        <td id=\"T_3a34c421_1569_11eb_833d_02cba411ec9drow2_col13\" class=\"data row2 col13\" >1.000000</td>\n",
       "                        <td id=\"T_3a34c421_1569_11eb_833d_02cba411ec9drow2_col14\" class=\"data row2 col14\" >LinAct360</td>\n",
       "            </tr>\n",
       "            <tr>\n",
       "                        <th id=\"T_3a34c421_1569_11eb_833d_02cba411ec9dlevel0_row3\" class=\"row_heading level0 row3\" >3</th>\n",
       "                        <td id=\"T_3a34c421_1569_11eb_833d_02cba411ec9drow3_col0\" class=\"data row3 col0\" >2023-10-16</td>\n",
       "                        <td id=\"T_3a34c421_1569_11eb_833d_02cba411ec9drow3_col1\" class=\"data row3 col1\" >2024-10-15</td>\n",
       "                        <td id=\"T_3a34c421_1569_11eb_833d_02cba411ec9drow3_col2\" class=\"data row3 col2\" >2024-10-15</td>\n",
       "                        <td id=\"T_3a34c421_1569_11eb_833d_02cba411ec9drow3_col3\" class=\"data row3 col3\" >-10,000,000.00</td>\n",
       "                        <td id=\"T_3a34c421_1569_11eb_833d_02cba411ec9drow3_col4\" class=\"data row3 col4\" >-10,000,000.00</td>\n",
       "                        <td id=\"T_3a34c421_1569_11eb_833d_02cba411ec9drow3_col5\" class=\"data row3 col5\" >True</td>\n",
       "                        <td id=\"T_3a34c421_1569_11eb_833d_02cba411ec9drow3_col6\" class=\"data row3 col6\" >-10,000,000.00</td>\n",
       "                        <td id=\"T_3a34c421_1569_11eb_833d_02cba411ec9drow3_col7\" class=\"data row3 col7\" >CLP</td>\n",
       "                        <td id=\"T_3a34c421_1569_11eb_833d_02cba411ec9drow3_col8\" class=\"data row3 col8\" >1.000000</td>\n",
       "                        <td id=\"T_3a34c421_1569_11eb_833d_02cba411ec9drow3_col9\" class=\"data row3 col9\" >1.000000</td>\n",
       "                        <td id=\"T_3a34c421_1569_11eb_833d_02cba411ec9drow3_col10\" class=\"data row3 col10\" >0.0000%</td>\n",
       "                        <td id=\"T_3a34c421_1569_11eb_833d_02cba411ec9drow3_col11\" class=\"data row3 col11\" >-0.00</td>\n",
       "                        <td id=\"T_3a34c421_1569_11eb_833d_02cba411ec9drow3_col12\" class=\"data row3 col12\" >0.0000%</td>\n",
       "                        <td id=\"T_3a34c421_1569_11eb_833d_02cba411ec9drow3_col13\" class=\"data row3 col13\" >1.000000</td>\n",
       "                        <td id=\"T_3a34c421_1569_11eb_833d_02cba411ec9drow3_col14\" class=\"data row3 col14\" >LinAct360</td>\n",
       "            </tr>\n",
       "    </tbody></table>"
      ],
      "text/plain": [
       "<pandas.io.formats.style.Styler at 0x7f75b4d01048>"
      ]
     },
     "execution_count": 27,
     "metadata": {},
     "output_type": "execute_result"
    }
   ],
   "source": [
    "aux.show_leg(op2[1], 'IcpClpCashflow', '').style.format(frmt)"
   ]
  },
  {
   "cell_type": "markdown",
   "metadata": {},
   "source": [
    "Vamos a agregar una amortización por la mitad del nocional en el segundo cupón de cada pata. Veamos primero la pata fija."
   ]
  },
  {
   "cell_type": "code",
   "execution_count": 28,
   "metadata": {
    "ExecuteTime": {
     "end_time": "2020-10-23T19:52:05.772667Z",
     "start_time": "2020-10-23T19:52:05.767352Z"
    }
   },
   "outputs": [],
   "source": [
    "cshflw = op2[0].get_cashflow_at(1)\n",
    "cshflw.set_amortization(5000000)"
   ]
  },
  {
   "cell_type": "code",
   "execution_count": 29,
   "metadata": {
    "ExecuteTime": {
     "end_time": "2020-10-23T19:52:05.799488Z",
     "start_time": "2020-10-23T19:52:05.776347Z"
    }
   },
   "outputs": [
    {
     "data": {
      "text/html": [
       "<style  type=\"text/css\" >\n",
       "</style><table id=\"T_3a34c422_1569_11eb_833d_02cba411ec9d\" ><thead>    <tr>        <th class=\"blank level0\" ></th>        <th class=\"col_heading level0 col0\" >fecha_inicial</th>        <th class=\"col_heading level0 col1\" >fecha_final</th>        <th class=\"col_heading level0 col2\" >fecha_pago</th>        <th class=\"col_heading level0 col3\" >nominal</th>        <th class=\"col_heading level0 col4\" >amortizacion</th>        <th class=\"col_heading level0 col5\" >interes</th>        <th class=\"col_heading level0 col6\" >amort_es_flujo</th>        <th class=\"col_heading level0 col7\" >flujo</th>        <th class=\"col_heading level0 col8\" >moneda</th>        <th class=\"col_heading level0 col9\" >valor_tasa</th>        <th class=\"col_heading level0 col10\" >tipo_tasa</th>    </tr></thead><tbody>\n",
       "                <tr>\n",
       "                        <th id=\"T_3a34c422_1569_11eb_833d_02cba411ec9dlevel0_row0\" class=\"row_heading level0 row0\" >0</th>\n",
       "                        <td id=\"T_3a34c422_1569_11eb_833d_02cba411ec9drow0_col0\" class=\"data row0 col0\" >2020-10-14</td>\n",
       "                        <td id=\"T_3a34c422_1569_11eb_833d_02cba411ec9drow0_col1\" class=\"data row0 col1\" >2021-10-14</td>\n",
       "                        <td id=\"T_3a34c422_1569_11eb_833d_02cba411ec9drow0_col2\" class=\"data row0 col2\" >2021-10-14</td>\n",
       "                        <td id=\"T_3a34c422_1569_11eb_833d_02cba411ec9drow0_col3\" class=\"data row0 col3\" >10,000,000.00</td>\n",
       "                        <td id=\"T_3a34c422_1569_11eb_833d_02cba411ec9drow0_col4\" class=\"data row0 col4\" >0.00</td>\n",
       "                        <td id=\"T_3a34c422_1569_11eb_833d_02cba411ec9drow0_col5\" class=\"data row0 col5\" >101,388.89</td>\n",
       "                        <td id=\"T_3a34c422_1569_11eb_833d_02cba411ec9drow0_col6\" class=\"data row0 col6\" >True</td>\n",
       "                        <td id=\"T_3a34c422_1569_11eb_833d_02cba411ec9drow0_col7\" class=\"data row0 col7\" >101,388.89</td>\n",
       "                        <td id=\"T_3a34c422_1569_11eb_833d_02cba411ec9drow0_col8\" class=\"data row0 col8\" >USD</td>\n",
       "                        <td id=\"T_3a34c422_1569_11eb_833d_02cba411ec9drow0_col9\" class=\"data row0 col9\" >1.0000%</td>\n",
       "                        <td id=\"T_3a34c422_1569_11eb_833d_02cba411ec9drow0_col10\" class=\"data row0 col10\" >LinAct360</td>\n",
       "            </tr>\n",
       "            <tr>\n",
       "                        <th id=\"T_3a34c422_1569_11eb_833d_02cba411ec9dlevel0_row1\" class=\"row_heading level0 row1\" >1</th>\n",
       "                        <td id=\"T_3a34c422_1569_11eb_833d_02cba411ec9drow1_col0\" class=\"data row1 col0\" >2021-10-14</td>\n",
       "                        <td id=\"T_3a34c422_1569_11eb_833d_02cba411ec9drow1_col1\" class=\"data row1 col1\" >2022-10-14</td>\n",
       "                        <td id=\"T_3a34c422_1569_11eb_833d_02cba411ec9drow1_col2\" class=\"data row1 col2\" >2022-10-14</td>\n",
       "                        <td id=\"T_3a34c422_1569_11eb_833d_02cba411ec9drow1_col3\" class=\"data row1 col3\" >10,000,000.00</td>\n",
       "                        <td id=\"T_3a34c422_1569_11eb_833d_02cba411ec9drow1_col4\" class=\"data row1 col4\" >5,000,000.00</td>\n",
       "                        <td id=\"T_3a34c422_1569_11eb_833d_02cba411ec9drow1_col5\" class=\"data row1 col5\" >101,388.89</td>\n",
       "                        <td id=\"T_3a34c422_1569_11eb_833d_02cba411ec9drow1_col6\" class=\"data row1 col6\" >True</td>\n",
       "                        <td id=\"T_3a34c422_1569_11eb_833d_02cba411ec9drow1_col7\" class=\"data row1 col7\" >5,101,388.89</td>\n",
       "                        <td id=\"T_3a34c422_1569_11eb_833d_02cba411ec9drow1_col8\" class=\"data row1 col8\" >USD</td>\n",
       "                        <td id=\"T_3a34c422_1569_11eb_833d_02cba411ec9drow1_col9\" class=\"data row1 col9\" >1.0000%</td>\n",
       "                        <td id=\"T_3a34c422_1569_11eb_833d_02cba411ec9drow1_col10\" class=\"data row1 col10\" >LinAct360</td>\n",
       "            </tr>\n",
       "            <tr>\n",
       "                        <th id=\"T_3a34c422_1569_11eb_833d_02cba411ec9dlevel0_row2\" class=\"row_heading level0 row2\" >2</th>\n",
       "                        <td id=\"T_3a34c422_1569_11eb_833d_02cba411ec9drow2_col0\" class=\"data row2 col0\" >2022-10-14</td>\n",
       "                        <td id=\"T_3a34c422_1569_11eb_833d_02cba411ec9drow2_col1\" class=\"data row2 col1\" >2023-10-16</td>\n",
       "                        <td id=\"T_3a34c422_1569_11eb_833d_02cba411ec9drow2_col2\" class=\"data row2 col2\" >2023-10-16</td>\n",
       "                        <td id=\"T_3a34c422_1569_11eb_833d_02cba411ec9drow2_col3\" class=\"data row2 col3\" >10,000,000.00</td>\n",
       "                        <td id=\"T_3a34c422_1569_11eb_833d_02cba411ec9drow2_col4\" class=\"data row2 col4\" >0.00</td>\n",
       "                        <td id=\"T_3a34c422_1569_11eb_833d_02cba411ec9drow2_col5\" class=\"data row2 col5\" >101,944.44</td>\n",
       "                        <td id=\"T_3a34c422_1569_11eb_833d_02cba411ec9drow2_col6\" class=\"data row2 col6\" >True</td>\n",
       "                        <td id=\"T_3a34c422_1569_11eb_833d_02cba411ec9drow2_col7\" class=\"data row2 col7\" >101,944.44</td>\n",
       "                        <td id=\"T_3a34c422_1569_11eb_833d_02cba411ec9drow2_col8\" class=\"data row2 col8\" >USD</td>\n",
       "                        <td id=\"T_3a34c422_1569_11eb_833d_02cba411ec9drow2_col9\" class=\"data row2 col9\" >1.0000%</td>\n",
       "                        <td id=\"T_3a34c422_1569_11eb_833d_02cba411ec9drow2_col10\" class=\"data row2 col10\" >LinAct360</td>\n",
       "            </tr>\n",
       "            <tr>\n",
       "                        <th id=\"T_3a34c422_1569_11eb_833d_02cba411ec9dlevel0_row3\" class=\"row_heading level0 row3\" >3</th>\n",
       "                        <td id=\"T_3a34c422_1569_11eb_833d_02cba411ec9drow3_col0\" class=\"data row3 col0\" >2023-10-16</td>\n",
       "                        <td id=\"T_3a34c422_1569_11eb_833d_02cba411ec9drow3_col1\" class=\"data row3 col1\" >2024-10-15</td>\n",
       "                        <td id=\"T_3a34c422_1569_11eb_833d_02cba411ec9drow3_col2\" class=\"data row3 col2\" >2024-10-15</td>\n",
       "                        <td id=\"T_3a34c422_1569_11eb_833d_02cba411ec9drow3_col3\" class=\"data row3 col3\" >10,000,000.00</td>\n",
       "                        <td id=\"T_3a34c422_1569_11eb_833d_02cba411ec9drow3_col4\" class=\"data row3 col4\" >10,000,000.00</td>\n",
       "                        <td id=\"T_3a34c422_1569_11eb_833d_02cba411ec9drow3_col5\" class=\"data row3 col5\" >101,388.89</td>\n",
       "                        <td id=\"T_3a34c422_1569_11eb_833d_02cba411ec9drow3_col6\" class=\"data row3 col6\" >True</td>\n",
       "                        <td id=\"T_3a34c422_1569_11eb_833d_02cba411ec9drow3_col7\" class=\"data row3 col7\" >10,101,388.89</td>\n",
       "                        <td id=\"T_3a34c422_1569_11eb_833d_02cba411ec9drow3_col8\" class=\"data row3 col8\" >USD</td>\n",
       "                        <td id=\"T_3a34c422_1569_11eb_833d_02cba411ec9drow3_col9\" class=\"data row3 col9\" >1.0000%</td>\n",
       "                        <td id=\"T_3a34c422_1569_11eb_833d_02cba411ec9drow3_col10\" class=\"data row3 col10\" >LinAct360</td>\n",
       "            </tr>\n",
       "    </tbody></table>"
      ],
      "text/plain": [
       "<pandas.io.formats.style.Styler at 0x7f75b4c93b00>"
      ]
     },
     "execution_count": 29,
     "metadata": {},
     "output_type": "execute_result"
    }
   ],
   "source": [
    "aux.show_leg(op2[0], 'FixedRateCashflow', '').style.format(frmt)"
   ]
  },
  {
   "cell_type": "markdown",
   "metadata": {},
   "source": [
    "Vemos que la amortización queda bien ingresada, sin embargo, los flujos siguientes no la consideran. Vamos a arreglar eso:"
   ]
  },
  {
   "cell_type": "code",
   "execution_count": 30,
   "metadata": {
    "ExecuteTime": {
     "end_time": "2020-10-23T19:52:05.810581Z",
     "start_time": "2020-10-23T19:52:05.803590Z"
    }
   },
   "outputs": [],
   "source": [
    "cshflw = op2[0].get_cashflow_at(2)\n",
    "cshflw.set_nominal(5000000)\n",
    "\n",
    "cshflw = op2[0].get_cashflow_at(3)\n",
    "cshflw.set_nominal(5000000)\n",
    "cshflw.set_amortization(5000000)"
   ]
  },
  {
   "cell_type": "code",
   "execution_count": 31,
   "metadata": {
    "ExecuteTime": {
     "end_time": "2020-10-23T19:52:05.838899Z",
     "start_time": "2020-10-23T19:52:05.814406Z"
    }
   },
   "outputs": [
    {
     "data": {
      "text/html": [
       "<style  type=\"text/css\" >\n",
       "</style><table id=\"T_3a34c423_1569_11eb_833d_02cba411ec9d\" ><thead>    <tr>        <th class=\"blank level0\" ></th>        <th class=\"col_heading level0 col0\" >fecha_inicial</th>        <th class=\"col_heading level0 col1\" >fecha_final</th>        <th class=\"col_heading level0 col2\" >fecha_pago</th>        <th class=\"col_heading level0 col3\" >nominal</th>        <th class=\"col_heading level0 col4\" >amortizacion</th>        <th class=\"col_heading level0 col5\" >interes</th>        <th class=\"col_heading level0 col6\" >amort_es_flujo</th>        <th class=\"col_heading level0 col7\" >flujo</th>        <th class=\"col_heading level0 col8\" >moneda</th>        <th class=\"col_heading level0 col9\" >valor_tasa</th>        <th class=\"col_heading level0 col10\" >tipo_tasa</th>    </tr></thead><tbody>\n",
       "                <tr>\n",
       "                        <th id=\"T_3a34c423_1569_11eb_833d_02cba411ec9dlevel0_row0\" class=\"row_heading level0 row0\" >0</th>\n",
       "                        <td id=\"T_3a34c423_1569_11eb_833d_02cba411ec9drow0_col0\" class=\"data row0 col0\" >2020-10-14</td>\n",
       "                        <td id=\"T_3a34c423_1569_11eb_833d_02cba411ec9drow0_col1\" class=\"data row0 col1\" >2021-10-14</td>\n",
       "                        <td id=\"T_3a34c423_1569_11eb_833d_02cba411ec9drow0_col2\" class=\"data row0 col2\" >2021-10-14</td>\n",
       "                        <td id=\"T_3a34c423_1569_11eb_833d_02cba411ec9drow0_col3\" class=\"data row0 col3\" >10,000,000.00</td>\n",
       "                        <td id=\"T_3a34c423_1569_11eb_833d_02cba411ec9drow0_col4\" class=\"data row0 col4\" >0.00</td>\n",
       "                        <td id=\"T_3a34c423_1569_11eb_833d_02cba411ec9drow0_col5\" class=\"data row0 col5\" >101,388.89</td>\n",
       "                        <td id=\"T_3a34c423_1569_11eb_833d_02cba411ec9drow0_col6\" class=\"data row0 col6\" >True</td>\n",
       "                        <td id=\"T_3a34c423_1569_11eb_833d_02cba411ec9drow0_col7\" class=\"data row0 col7\" >101,388.89</td>\n",
       "                        <td id=\"T_3a34c423_1569_11eb_833d_02cba411ec9drow0_col8\" class=\"data row0 col8\" >USD</td>\n",
       "                        <td id=\"T_3a34c423_1569_11eb_833d_02cba411ec9drow0_col9\" class=\"data row0 col9\" >1.0000%</td>\n",
       "                        <td id=\"T_3a34c423_1569_11eb_833d_02cba411ec9drow0_col10\" class=\"data row0 col10\" >LinAct360</td>\n",
       "            </tr>\n",
       "            <tr>\n",
       "                        <th id=\"T_3a34c423_1569_11eb_833d_02cba411ec9dlevel0_row1\" class=\"row_heading level0 row1\" >1</th>\n",
       "                        <td id=\"T_3a34c423_1569_11eb_833d_02cba411ec9drow1_col0\" class=\"data row1 col0\" >2021-10-14</td>\n",
       "                        <td id=\"T_3a34c423_1569_11eb_833d_02cba411ec9drow1_col1\" class=\"data row1 col1\" >2022-10-14</td>\n",
       "                        <td id=\"T_3a34c423_1569_11eb_833d_02cba411ec9drow1_col2\" class=\"data row1 col2\" >2022-10-14</td>\n",
       "                        <td id=\"T_3a34c423_1569_11eb_833d_02cba411ec9drow1_col3\" class=\"data row1 col3\" >10,000,000.00</td>\n",
       "                        <td id=\"T_3a34c423_1569_11eb_833d_02cba411ec9drow1_col4\" class=\"data row1 col4\" >5,000,000.00</td>\n",
       "                        <td id=\"T_3a34c423_1569_11eb_833d_02cba411ec9drow1_col5\" class=\"data row1 col5\" >101,388.89</td>\n",
       "                        <td id=\"T_3a34c423_1569_11eb_833d_02cba411ec9drow1_col6\" class=\"data row1 col6\" >True</td>\n",
       "                        <td id=\"T_3a34c423_1569_11eb_833d_02cba411ec9drow1_col7\" class=\"data row1 col7\" >5,101,388.89</td>\n",
       "                        <td id=\"T_3a34c423_1569_11eb_833d_02cba411ec9drow1_col8\" class=\"data row1 col8\" >USD</td>\n",
       "                        <td id=\"T_3a34c423_1569_11eb_833d_02cba411ec9drow1_col9\" class=\"data row1 col9\" >1.0000%</td>\n",
       "                        <td id=\"T_3a34c423_1569_11eb_833d_02cba411ec9drow1_col10\" class=\"data row1 col10\" >LinAct360</td>\n",
       "            </tr>\n",
       "            <tr>\n",
       "                        <th id=\"T_3a34c423_1569_11eb_833d_02cba411ec9dlevel0_row2\" class=\"row_heading level0 row2\" >2</th>\n",
       "                        <td id=\"T_3a34c423_1569_11eb_833d_02cba411ec9drow2_col0\" class=\"data row2 col0\" >2022-10-14</td>\n",
       "                        <td id=\"T_3a34c423_1569_11eb_833d_02cba411ec9drow2_col1\" class=\"data row2 col1\" >2023-10-16</td>\n",
       "                        <td id=\"T_3a34c423_1569_11eb_833d_02cba411ec9drow2_col2\" class=\"data row2 col2\" >2023-10-16</td>\n",
       "                        <td id=\"T_3a34c423_1569_11eb_833d_02cba411ec9drow2_col3\" class=\"data row2 col3\" >5,000,000.00</td>\n",
       "                        <td id=\"T_3a34c423_1569_11eb_833d_02cba411ec9drow2_col4\" class=\"data row2 col4\" >0.00</td>\n",
       "                        <td id=\"T_3a34c423_1569_11eb_833d_02cba411ec9drow2_col5\" class=\"data row2 col5\" >50,972.22</td>\n",
       "                        <td id=\"T_3a34c423_1569_11eb_833d_02cba411ec9drow2_col6\" class=\"data row2 col6\" >True</td>\n",
       "                        <td id=\"T_3a34c423_1569_11eb_833d_02cba411ec9drow2_col7\" class=\"data row2 col7\" >50,972.22</td>\n",
       "                        <td id=\"T_3a34c423_1569_11eb_833d_02cba411ec9drow2_col8\" class=\"data row2 col8\" >USD</td>\n",
       "                        <td id=\"T_3a34c423_1569_11eb_833d_02cba411ec9drow2_col9\" class=\"data row2 col9\" >1.0000%</td>\n",
       "                        <td id=\"T_3a34c423_1569_11eb_833d_02cba411ec9drow2_col10\" class=\"data row2 col10\" >LinAct360</td>\n",
       "            </tr>\n",
       "            <tr>\n",
       "                        <th id=\"T_3a34c423_1569_11eb_833d_02cba411ec9dlevel0_row3\" class=\"row_heading level0 row3\" >3</th>\n",
       "                        <td id=\"T_3a34c423_1569_11eb_833d_02cba411ec9drow3_col0\" class=\"data row3 col0\" >2023-10-16</td>\n",
       "                        <td id=\"T_3a34c423_1569_11eb_833d_02cba411ec9drow3_col1\" class=\"data row3 col1\" >2024-10-15</td>\n",
       "                        <td id=\"T_3a34c423_1569_11eb_833d_02cba411ec9drow3_col2\" class=\"data row3 col2\" >2024-10-15</td>\n",
       "                        <td id=\"T_3a34c423_1569_11eb_833d_02cba411ec9drow3_col3\" class=\"data row3 col3\" >5,000,000.00</td>\n",
       "                        <td id=\"T_3a34c423_1569_11eb_833d_02cba411ec9drow3_col4\" class=\"data row3 col4\" >5,000,000.00</td>\n",
       "                        <td id=\"T_3a34c423_1569_11eb_833d_02cba411ec9drow3_col5\" class=\"data row3 col5\" >50,694.44</td>\n",
       "                        <td id=\"T_3a34c423_1569_11eb_833d_02cba411ec9drow3_col6\" class=\"data row3 col6\" >True</td>\n",
       "                        <td id=\"T_3a34c423_1569_11eb_833d_02cba411ec9drow3_col7\" class=\"data row3 col7\" >5,050,694.44</td>\n",
       "                        <td id=\"T_3a34c423_1569_11eb_833d_02cba411ec9drow3_col8\" class=\"data row3 col8\" >USD</td>\n",
       "                        <td id=\"T_3a34c423_1569_11eb_833d_02cba411ec9drow3_col9\" class=\"data row3 col9\" >1.0000%</td>\n",
       "                        <td id=\"T_3a34c423_1569_11eb_833d_02cba411ec9drow3_col10\" class=\"data row3 col10\" >LinAct360</td>\n",
       "            </tr>\n",
       "    </tbody></table>"
      ],
      "text/plain": [
       "<pandas.io.formats.style.Styler at 0x7f75b4c9a940>"
      ]
     },
     "execution_count": 31,
     "metadata": {},
     "output_type": "execute_result"
    }
   ],
   "source": [
    "aux.show_leg(op2[0], 'FixedRateCashflow', '').style.format(frmt)"
   ]
  },
  {
   "cell_type": "markdown",
   "metadata": {},
   "source": [
    "Hagamos ahora la pata flotante. Dado que esta es la pata que pagamos, hay que usar signo negativo."
   ]
  },
  {
   "cell_type": "code",
   "execution_count": 32,
   "metadata": {
    "ExecuteTime": {
     "end_time": "2020-10-23T19:52:05.855647Z",
     "start_time": "2020-10-23T19:52:05.846896Z"
    }
   },
   "outputs": [],
   "source": [
    "cshflw = op2[1].get_cashflow_at(1)\n",
    "cshflw.set_amortization(-5000000)\n",
    "\n",
    "cshflw = op2[1].get_cashflow_at(2)\n",
    "cshflw.set_nominal(-5000000)\n",
    "\n",
    "cshflw = op2[1].get_cashflow_at(3)\n",
    "cshflw.set_nominal(-5000000)\n",
    "cshflw.set_amortization(-5000000)"
   ]
  },
  {
   "cell_type": "code",
   "execution_count": 33,
   "metadata": {
    "ExecuteTime": {
     "end_time": "2020-10-23T19:52:05.886099Z",
     "start_time": "2020-10-23T19:52:05.859803Z"
    }
   },
   "outputs": [
    {
     "data": {
      "text/html": [
       "<style  type=\"text/css\" >\n",
       "</style><table id=\"T_3a34c424_1569_11eb_833d_02cba411ec9d\" ><thead>    <tr>        <th class=\"blank level0\" ></th>        <th class=\"col_heading level0 col0\" >fecha_inicial</th>        <th class=\"col_heading level0 col1\" >fecha_final</th>        <th class=\"col_heading level0 col2\" >fecha_pago</th>        <th class=\"col_heading level0 col3\" >nominal</th>        <th class=\"col_heading level0 col4\" >amortizacion</th>        <th class=\"col_heading level0 col5\" >amort_es_flujo</th>        <th class=\"col_heading level0 col6\" >flujo</th>        <th class=\"col_heading level0 col7\" >moneda</th>        <th class=\"col_heading level0 col8\" >icp_inicial</th>        <th class=\"col_heading level0 col9\" >icp_final</th>        <th class=\"col_heading level0 col10\" >valor_tasa</th>        <th class=\"col_heading level0 col11\" >interes</th>        <th class=\"col_heading level0 col12\" >spread</th>        <th class=\"col_heading level0 col13\" >gearing</th>        <th class=\"col_heading level0 col14\" >tipo_tasa</th>    </tr></thead><tbody>\n",
       "                <tr>\n",
       "                        <th id=\"T_3a34c424_1569_11eb_833d_02cba411ec9dlevel0_row0\" class=\"row_heading level0 row0\" >0</th>\n",
       "                        <td id=\"T_3a34c424_1569_11eb_833d_02cba411ec9drow0_col0\" class=\"data row0 col0\" >2020-10-14</td>\n",
       "                        <td id=\"T_3a34c424_1569_11eb_833d_02cba411ec9drow0_col1\" class=\"data row0 col1\" >2021-10-14</td>\n",
       "                        <td id=\"T_3a34c424_1569_11eb_833d_02cba411ec9drow0_col2\" class=\"data row0 col2\" >2021-10-14</td>\n",
       "                        <td id=\"T_3a34c424_1569_11eb_833d_02cba411ec9drow0_col3\" class=\"data row0 col3\" >-10,000,000.00</td>\n",
       "                        <td id=\"T_3a34c424_1569_11eb_833d_02cba411ec9drow0_col4\" class=\"data row0 col4\" >0.00</td>\n",
       "                        <td id=\"T_3a34c424_1569_11eb_833d_02cba411ec9drow0_col5\" class=\"data row0 col5\" >True</td>\n",
       "                        <td id=\"T_3a34c424_1569_11eb_833d_02cba411ec9drow0_col6\" class=\"data row0 col6\" >0.00</td>\n",
       "                        <td id=\"T_3a34c424_1569_11eb_833d_02cba411ec9drow0_col7\" class=\"data row0 col7\" >CLP</td>\n",
       "                        <td id=\"T_3a34c424_1569_11eb_833d_02cba411ec9drow0_col8\" class=\"data row0 col8\" >1.000000</td>\n",
       "                        <td id=\"T_3a34c424_1569_11eb_833d_02cba411ec9drow0_col9\" class=\"data row0 col9\" >1.000000</td>\n",
       "                        <td id=\"T_3a34c424_1569_11eb_833d_02cba411ec9drow0_col10\" class=\"data row0 col10\" >0.0000%</td>\n",
       "                        <td id=\"T_3a34c424_1569_11eb_833d_02cba411ec9drow0_col11\" class=\"data row0 col11\" >-0.00</td>\n",
       "                        <td id=\"T_3a34c424_1569_11eb_833d_02cba411ec9drow0_col12\" class=\"data row0 col12\" >0.0000%</td>\n",
       "                        <td id=\"T_3a34c424_1569_11eb_833d_02cba411ec9drow0_col13\" class=\"data row0 col13\" >1.000000</td>\n",
       "                        <td id=\"T_3a34c424_1569_11eb_833d_02cba411ec9drow0_col14\" class=\"data row0 col14\" >LinAct360</td>\n",
       "            </tr>\n",
       "            <tr>\n",
       "                        <th id=\"T_3a34c424_1569_11eb_833d_02cba411ec9dlevel0_row1\" class=\"row_heading level0 row1\" >1</th>\n",
       "                        <td id=\"T_3a34c424_1569_11eb_833d_02cba411ec9drow1_col0\" class=\"data row1 col0\" >2021-10-14</td>\n",
       "                        <td id=\"T_3a34c424_1569_11eb_833d_02cba411ec9drow1_col1\" class=\"data row1 col1\" >2022-10-14</td>\n",
       "                        <td id=\"T_3a34c424_1569_11eb_833d_02cba411ec9drow1_col2\" class=\"data row1 col2\" >2022-10-14</td>\n",
       "                        <td id=\"T_3a34c424_1569_11eb_833d_02cba411ec9drow1_col3\" class=\"data row1 col3\" >-10,000,000.00</td>\n",
       "                        <td id=\"T_3a34c424_1569_11eb_833d_02cba411ec9drow1_col4\" class=\"data row1 col4\" >-5,000,000.00</td>\n",
       "                        <td id=\"T_3a34c424_1569_11eb_833d_02cba411ec9drow1_col5\" class=\"data row1 col5\" >True</td>\n",
       "                        <td id=\"T_3a34c424_1569_11eb_833d_02cba411ec9drow1_col6\" class=\"data row1 col6\" >-5,000,000.00</td>\n",
       "                        <td id=\"T_3a34c424_1569_11eb_833d_02cba411ec9drow1_col7\" class=\"data row1 col7\" >CLP</td>\n",
       "                        <td id=\"T_3a34c424_1569_11eb_833d_02cba411ec9drow1_col8\" class=\"data row1 col8\" >1.000000</td>\n",
       "                        <td id=\"T_3a34c424_1569_11eb_833d_02cba411ec9drow1_col9\" class=\"data row1 col9\" >1.000000</td>\n",
       "                        <td id=\"T_3a34c424_1569_11eb_833d_02cba411ec9drow1_col10\" class=\"data row1 col10\" >0.0000%</td>\n",
       "                        <td id=\"T_3a34c424_1569_11eb_833d_02cba411ec9drow1_col11\" class=\"data row1 col11\" >-0.00</td>\n",
       "                        <td id=\"T_3a34c424_1569_11eb_833d_02cba411ec9drow1_col12\" class=\"data row1 col12\" >0.0000%</td>\n",
       "                        <td id=\"T_3a34c424_1569_11eb_833d_02cba411ec9drow1_col13\" class=\"data row1 col13\" >1.000000</td>\n",
       "                        <td id=\"T_3a34c424_1569_11eb_833d_02cba411ec9drow1_col14\" class=\"data row1 col14\" >LinAct360</td>\n",
       "            </tr>\n",
       "            <tr>\n",
       "                        <th id=\"T_3a34c424_1569_11eb_833d_02cba411ec9dlevel0_row2\" class=\"row_heading level0 row2\" >2</th>\n",
       "                        <td id=\"T_3a34c424_1569_11eb_833d_02cba411ec9drow2_col0\" class=\"data row2 col0\" >2022-10-14</td>\n",
       "                        <td id=\"T_3a34c424_1569_11eb_833d_02cba411ec9drow2_col1\" class=\"data row2 col1\" >2023-10-16</td>\n",
       "                        <td id=\"T_3a34c424_1569_11eb_833d_02cba411ec9drow2_col2\" class=\"data row2 col2\" >2023-10-16</td>\n",
       "                        <td id=\"T_3a34c424_1569_11eb_833d_02cba411ec9drow2_col3\" class=\"data row2 col3\" >-5,000,000.00</td>\n",
       "                        <td id=\"T_3a34c424_1569_11eb_833d_02cba411ec9drow2_col4\" class=\"data row2 col4\" >0.00</td>\n",
       "                        <td id=\"T_3a34c424_1569_11eb_833d_02cba411ec9drow2_col5\" class=\"data row2 col5\" >True</td>\n",
       "                        <td id=\"T_3a34c424_1569_11eb_833d_02cba411ec9drow2_col6\" class=\"data row2 col6\" >0.00</td>\n",
       "                        <td id=\"T_3a34c424_1569_11eb_833d_02cba411ec9drow2_col7\" class=\"data row2 col7\" >CLP</td>\n",
       "                        <td id=\"T_3a34c424_1569_11eb_833d_02cba411ec9drow2_col8\" class=\"data row2 col8\" >1.000000</td>\n",
       "                        <td id=\"T_3a34c424_1569_11eb_833d_02cba411ec9drow2_col9\" class=\"data row2 col9\" >1.000000</td>\n",
       "                        <td id=\"T_3a34c424_1569_11eb_833d_02cba411ec9drow2_col10\" class=\"data row2 col10\" >0.0000%</td>\n",
       "                        <td id=\"T_3a34c424_1569_11eb_833d_02cba411ec9drow2_col11\" class=\"data row2 col11\" >-0.00</td>\n",
       "                        <td id=\"T_3a34c424_1569_11eb_833d_02cba411ec9drow2_col12\" class=\"data row2 col12\" >0.0000%</td>\n",
       "                        <td id=\"T_3a34c424_1569_11eb_833d_02cba411ec9drow2_col13\" class=\"data row2 col13\" >1.000000</td>\n",
       "                        <td id=\"T_3a34c424_1569_11eb_833d_02cba411ec9drow2_col14\" class=\"data row2 col14\" >LinAct360</td>\n",
       "            </tr>\n",
       "            <tr>\n",
       "                        <th id=\"T_3a34c424_1569_11eb_833d_02cba411ec9dlevel0_row3\" class=\"row_heading level0 row3\" >3</th>\n",
       "                        <td id=\"T_3a34c424_1569_11eb_833d_02cba411ec9drow3_col0\" class=\"data row3 col0\" >2023-10-16</td>\n",
       "                        <td id=\"T_3a34c424_1569_11eb_833d_02cba411ec9drow3_col1\" class=\"data row3 col1\" >2024-10-15</td>\n",
       "                        <td id=\"T_3a34c424_1569_11eb_833d_02cba411ec9drow3_col2\" class=\"data row3 col2\" >2024-10-15</td>\n",
       "                        <td id=\"T_3a34c424_1569_11eb_833d_02cba411ec9drow3_col3\" class=\"data row3 col3\" >-5,000,000.00</td>\n",
       "                        <td id=\"T_3a34c424_1569_11eb_833d_02cba411ec9drow3_col4\" class=\"data row3 col4\" >-5,000,000.00</td>\n",
       "                        <td id=\"T_3a34c424_1569_11eb_833d_02cba411ec9drow3_col5\" class=\"data row3 col5\" >True</td>\n",
       "                        <td id=\"T_3a34c424_1569_11eb_833d_02cba411ec9drow3_col6\" class=\"data row3 col6\" >-5,000,000.00</td>\n",
       "                        <td id=\"T_3a34c424_1569_11eb_833d_02cba411ec9drow3_col7\" class=\"data row3 col7\" >CLP</td>\n",
       "                        <td id=\"T_3a34c424_1569_11eb_833d_02cba411ec9drow3_col8\" class=\"data row3 col8\" >1.000000</td>\n",
       "                        <td id=\"T_3a34c424_1569_11eb_833d_02cba411ec9drow3_col9\" class=\"data row3 col9\" >1.000000</td>\n",
       "                        <td id=\"T_3a34c424_1569_11eb_833d_02cba411ec9drow3_col10\" class=\"data row3 col10\" >0.0000%</td>\n",
       "                        <td id=\"T_3a34c424_1569_11eb_833d_02cba411ec9drow3_col11\" class=\"data row3 col11\" >-0.00</td>\n",
       "                        <td id=\"T_3a34c424_1569_11eb_833d_02cba411ec9drow3_col12\" class=\"data row3 col12\" >0.0000%</td>\n",
       "                        <td id=\"T_3a34c424_1569_11eb_833d_02cba411ec9drow3_col13\" class=\"data row3 col13\" >1.000000</td>\n",
       "                        <td id=\"T_3a34c424_1569_11eb_833d_02cba411ec9drow3_col14\" class=\"data row3 col14\" >LinAct360</td>\n",
       "            </tr>\n",
       "    </tbody></table>"
      ],
      "text/plain": [
       "<pandas.io.formats.style.Styler at 0x7f75b4cf4b38>"
      ]
     },
     "execution_count": 33,
     "metadata": {},
     "output_type": "execute_result"
    }
   ],
   "source": [
    "aux.show_leg(op2[1], 'IcpClpCashflow', '').style.format(frmt)"
   ]
  },
  {
   "cell_type": "markdown",
   "metadata": {},
   "source": [
    "Calculemos ahora los valores presente de cada pata."
   ]
  },
  {
   "cell_type": "code",
   "execution_count": 34,
   "metadata": {
    "ExecuteTime": {
     "end_time": "2020-10-23T19:52:05.896129Z",
     "start_time": "2020-10-23T19:52:05.889942Z"
    }
   },
   "outputs": [
    {
     "name": "stdout",
     "output_type": "stream",
     "text": [
      "El valor presente de la pata fija es: USD 10,273,112.26\n"
     ]
    }
   ],
   "source": [
    "vp_fija_2 = vp.pv(fecha_val, op2[0], zcc)\n",
    "print(f'El valor presente de la pata fija es: USD {vp_fija_2:,.2f}')"
   ]
  },
  {
   "cell_type": "code",
   "execution_count": 35,
   "metadata": {
    "ExecuteTime": {
     "end_time": "2020-10-23T19:52:05.906276Z",
     "start_time": "2020-10-23T19:52:05.899996Z"
    }
   },
   "outputs": [
    {
     "name": "stdout",
     "output_type": "stream",
     "text": [
      "El valor presente de la pata flotante es: USD -10,000,000.00\n"
     ]
    }
   ],
   "source": [
    "vp_flot_2 = vp.pv(fecha_val, op[1], zcc)\n",
    "print(f'El valor presente de la pata flotante es: USD {vp_flot_2:,.2f}')"
   ]
  },
  {
   "cell_type": "code",
   "execution_count": 36,
   "metadata": {
    "ExecuteTime": {
     "end_time": "2020-10-23T19:52:05.914924Z",
     "start_time": "2020-10-23T19:52:05.910182Z"
    }
   },
   "outputs": [
    {
     "name": "stdout",
     "output_type": "stream",
     "text": [
      "Por lo tanto, el valor total de la operación es:\n",
      "Valor total: USD 273,112.26\n"
     ]
    }
   ],
   "source": [
    "print(f'Por lo tanto, el valor total de la operación es:\\nValor total: USD {vp_fija_2 + vp_flot_2:,.2f}')"
   ]
  },
  {
   "cell_type": "markdown",
   "metadata": {},
   "source": [
    "#### Ejercicio\n",
    "\n",
    "Pricee esta operación."
   ]
  },
  {
   "cell_type": "code",
   "execution_count": null,
   "metadata": {},
   "outputs": [],
   "source": []
  }
 ],
 "metadata": {
  "hide_input": false,
  "kernelspec": {
   "display_name": "Python 3",
   "language": "python",
   "name": "python3"
  },
  "language_info": {
   "codemirror_mode": {
    "name": "ipython",
    "version": 3
   },
   "file_extension": ".py",
   "mimetype": "text/x-python",
   "name": "python",
   "nbconvert_exporter": "python",
   "pygments_lexer": "ipython3",
   "version": "3.7.3"
  },
  "toc": {
   "base_numbering": "9",
   "nav_menu": {},
   "number_sections": true,
   "sideBar": true,
   "skip_h1_title": false,
   "title_cell": "Table of Contents",
   "title_sidebar": "Contenido",
   "toc_cell": false,
   "toc_position": {
    "height": "calc(100% - 180px)",
    "left": "10px",
    "top": "150px",
    "width": "235.1875px"
   },
   "toc_section_display": true,
   "toc_window_display": true
  }
 },
 "nbformat": 4,
 "nbformat_minor": 4
}
