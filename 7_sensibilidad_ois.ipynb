{
 "cells": [
  {
   "cell_type": "markdown",
   "metadata": {},
   "source": [
    "# Sensibilidad OIS"
   ]
  },
  {
   "cell_type": "markdown",
   "metadata": {},
   "source": [
    "**Definición:** una curva cupón cero es una colección ordenada de plazos y tasas de interés donde cada una de las tasas es una  tasa adecuada para traer a valor presente un flujo de caja al plazo que corresponde a la tasa.\n",
    "\n",
    "Consideremos un instrumento financiero cuyo valor depende de una curva cupón cero. Por ejemplo, un swap de tasa de interés. Matemáticamente, esta dependencia se expresa como:\n",
    "\n",
    "$$\n",
    "V = V\\left(z_1,\\ldots,z_n;\\alpha\\right)\n",
    "$$\n",
    "\n",
    "donde $z_1,\\ldots,z_N$ son los valores de las tasas de la curva y $\\alpha$ representa un vector de parámetros adicionales (como la tasa de cupón en un bono o un tipo de cambio en un swap de monedas).\n",
    "\n",
    "**Definición:** la cantidad $\\Delta_i$ de $V$ respecto a $z_i$ se define como:\n",
    "\n",
    "$$\n",
    "\\Delta_i=\\frac{\\partial V}{\\partial z_i}\n",
    "$$\n",
    "\n",
    "**Definición:** la sensibilidad de $V$ respecto a un cambio $\\delta z_i$ (positivo o negativo) en la tasa $z_i$ se define como:\n",
    "\n",
    "$$\n",
    "S\\left(V,z_i,\\delta_i\\right)=V\\left(z_1,...,z_i+\\delta_i,\\ldots,z_n\\right)-V\\left(z_1,\\ldots,z_i,\\ldots,z_n\\right)\n",
    "$$\n",
    "\n",
    "Cuando se busca conocer la sensibilidad a un cambio $\\delta z_i$  en la tasa $z_i$, donde $\\delta z_i$ representa una magnitud sin signo, se utiliza la siguiente definición:\n",
    "\n",
    "**Definición:** la sensibilidad de $V$ respecto a un cambio de magnitud $\\delta z_i$ en la tasa $z_i$ se define como:\n",
    "\n",
    "$$\n",
    "\\overline{S}\\left(V,z_i,\\delta_i\\right)=\\frac{V\\left(z_1,\\ldots ,z_i+\\delta_i,\\ldots,z_n\\right)-V\\left(z_1,\\ldots,z_i-\\delta_i,...,z_n\\right)}{2}\n",
    "$$\n",
    "\n",
    "En ocasiones, cuando se busca conocer la sensibilidad a un movimiento de magnitud pequeña, resulta conveniente realizar la siguiente aproximación:\n",
    "\n",
    "$$\n",
    "\\overline{S}\\left(V,z_i,\\delta_i\\right)\\approx\\Delta_i \\cdot\\delta_i\n",
    "$$\n",
    "\n",
    "este es el caso, cuando se busca conocer esta sensibilidad para un elevado número de operaciones. Es importante considerar que se puede asegurar que esta aproximación es válida cuando la función $V$ satisface los requerimientos de regularidad necesarios para aplicar el [Teorema de Taylor](https://en.wikipedia.org/wiki/Taylor%27s_theorem).\n"
   ]
  },
  {
   "cell_type": "markdown",
   "metadata": {},
   "source": [
    "## Configuración"
   ]
  },
  {
   "cell_type": "markdown",
   "metadata": {},
   "source": [
    "### Librerías"
   ]
  },
  {
   "cell_type": "code",
   "execution_count": 1,
   "metadata": {
    "ExecuteTime": {
     "end_time": "2020-10-20T01:29:24.714089Z",
     "start_time": "2020-10-20T01:29:24.394617Z"
    }
   },
   "outputs": [],
   "source": [
    "from finrisk import QC_Financial_3 as Qcf\n",
    "import modules.auxiliary as aux\n",
    "from functools import partial\n",
    "from enum import Enum\n",
    "import pandas as pd"
   ]
  },
  {
   "cell_type": "markdown",
   "metadata": {},
   "source": [
    "### Variables Globales"
   ]
  },
  {
   "cell_type": "code",
   "execution_count": 2,
   "metadata": {
    "ExecuteTime": {
     "end_time": "2020-10-20T01:29:24.721152Z",
     "start_time": "2020-10-20T01:29:24.716450Z"
    }
   },
   "outputs": [],
   "source": [
    "class BusCal(Enum):\n",
    "    NY = 1\n",
    "    SCL = 2"
   ]
  },
  {
   "cell_type": "code",
   "execution_count": 3,
   "metadata": {
    "ExecuteTime": {
     "end_time": "2020-10-20T01:29:24.776526Z",
     "start_time": "2020-10-20T01:29:24.724525Z"
    }
   },
   "outputs": [],
   "source": [
    "def get_cal(code: BusCal) -> Qcf.BusinessCalendar:\n",
    "    \"\"\"\n",
    "    \"\"\"\n",
    "    if code == BusCal.NY:\n",
    "        cal = Qcf.BusinessCalendar(Qcf.QCDate(1, 1, 2020), 20)\n",
    "        for agno in range(2020, 2071):\n",
    "            f = Qcf.QCDate(12, 10, agno)\n",
    "            if f.week_day() == Qcf.WeekDay.SAT:\n",
    "                cal.add_holiday(Qcf.QCDate(14, 10, agno))\n",
    "            elif f.week_day() == Qcf.WeekDay.SUN:\n",
    "                cal.add_holiday(Qcf.QCDate(13, 10, agno))\n",
    "            elif f.week_day() == Qcf.WeekDay.MON:\n",
    "                cal.add_holiday(Qcf.QCDate(12, 10, agno))\n",
    "            elif f.week_day() == Qcf.WeekDay.TUE:\n",
    "                cal.add_holiday(Qcf.QCDate(11, 10, agno))\n",
    "            elif f.week_day() == Qcf.WeekDay.WED:\n",
    "                cal.add_holiday(Qcf.QCDate(10, 10, agno))\n",
    "            elif f.week_day() == Qcf.WeekDay.THU:\n",
    "                cal.add_holiday(Qcf.QCDate(9, 10, agno))\n",
    "            else:\n",
    "                cal.add_holiday(Qcf.QCDate(8, 10, agno))\n",
    "        cal.add_holiday(Qcf.QCDate(15, 2, 2021))\n",
    "        \n",
    "    return cal"
   ]
  },
  {
   "cell_type": "code",
   "execution_count": 4,
   "metadata": {
    "ExecuteTime": {
     "end_time": "2020-10-20T01:29:24.784698Z",
     "start_time": "2020-10-20T01:29:24.781128Z"
    }
   },
   "outputs": [],
   "source": [
    "frmt = {\n",
    "    'tasa': '{:.6%}',\n",
    "    'df': '{:.6%}',\n",
    "    'valor_tasa': '{:.4%}',\n",
    "    'spread': '{:.4%}',\n",
    "    'nominal': '{:,.0f}',\n",
    "    'interes': '{:,.0f}',\n",
    "    'amortizacion': '{:,.0f}',\n",
    "    'flujo': '{:,.0f}',\n",
    "}"
   ]
  },
  {
   "cell_type": "code",
   "execution_count": 8,
   "metadata": {
    "ExecuteTime": {
     "end_time": "2020-10-20T01:30:08.125387Z",
     "start_time": "2020-10-20T01:30:08.121344Z"
    }
   },
   "outputs": [],
   "source": [
    "class TypeOis(Enum):\n",
    "    SOFR = 1\n",
    "    ICP = 2"
   ]
  },
  {
   "cell_type": "code",
   "execution_count": 9,
   "metadata": {
    "ExecuteTime": {
     "end_time": "2020-10-20T01:30:09.089782Z",
     "start_time": "2020-10-20T01:30:09.082496Z"
    }
   },
   "outputs": [],
   "source": [
    "type_ois_template = {\n",
    "    TypeOis.SOFR: {\n",
    "        'currency': Qcf.QCUSD(),\n",
    "        'periodicity': Qcf.Tenor('1Y'),\n",
    "        'stub_period': Qcf.StubPeriod.SHORTFRONT,\n",
    "        'settlement_lag': 0,\n",
    "        'calendar': BusCal.NY,\n",
    "        'bus_adj_rule': Qcf.BusyAdjRules.MODFOLLOW,\n",
    "        'amort_is_cashflow': True,\n",
    "        'fixed_rate': Qcf.QCInterestRate(0.0, Qcf.QCAct360(), Qcf.QCLinearWf()),\n",
    "    },\n",
    "    TypeOis.ICP: {\n",
    "        'currency': Qcf.QCCLP(),\n",
    "        'periodicity': Qcf.Tenor('6M'),\n",
    "        'stub_period': Qcf.StubPeriod.SHORTFRONT,\n",
    "        'settlement_lag': 0,\n",
    "        'calendar': BusCal.SCL,\n",
    "        'bus_adj_rule': Qcf.BusyAdjRules.MODFOLLOW,\n",
    "        'amort_is_cashflow': True,\n",
    "        'fixed_rate': Qcf.QCInterestRate(0.0, Qcf.QCAct360(), Qcf.QCLinearWf()),\n",
    "    }\n",
    "}"
   ]
  },
  {
   "cell_type": "markdown",
   "metadata": {},
   "source": [
    "## Construye Curva Cero Cupón"
   ]
  },
  {
   "cell_type": "markdown",
   "metadata": {},
   "source": [
    "Se importa la data de la curva cupón cero que fue construida en el notebook 5."
   ]
  },
  {
   "cell_type": "code",
   "execution_count": 10,
   "metadata": {
    "ExecuteTime": {
     "end_time": "2020-10-20T01:30:12.683829Z",
     "start_time": "2020-10-20T01:30:12.640680Z"
    }
   },
   "outputs": [],
   "source": [
    "df_curva = pd.read_excel('data/20201012_built_sofr_zero.xlsx')"
   ]
  },
  {
   "cell_type": "code",
   "execution_count": 11,
   "metadata": {
    "ExecuteTime": {
     "end_time": "2020-10-20T01:30:14.735776Z",
     "start_time": "2020-10-20T01:30:14.725287Z"
    }
   },
   "outputs": [],
   "source": [
    "def get_curve_from_dataframe(yf: Qcf.QCYearFraction, wf: Qcf.QCWealthFactor, df_curva: pd.DataFrame):\n",
    "    \"\"\"\n",
    "    Retorna un objeto Qcf.ZeroCouponCurve.\n",
    "    \"\"\"\n",
    "    plazos = Qcf.long_vec()\n",
    "    tasas = Qcf.double_vec()\n",
    "    for row in df_curva.itertuples():\n",
    "        plazos.append(row.plazo)\n",
    "        tasas.append(row.tasa)\n",
    "    curva = Qcf.QCCurve(plazos, tasas)\n",
    "    curva = Qcf.QCLinearInterpolator(curva)\n",
    "    tipo_tasa = Qcf.QCInterestRate(0.0, yf, wf)\n",
    "    curva = Qcf.ZeroCouponCurve(curva, tipo_tasa)\n",
    "    return curva"
   ]
  },
  {
   "cell_type": "code",
   "execution_count": 12,
   "metadata": {
    "ExecuteTime": {
     "end_time": "2020-10-20T01:30:18.547705Z",
     "start_time": "2020-10-20T01:30:18.474065Z"
    }
   },
   "outputs": [
    {
     "data": {
      "text/html": [
       "<style  type=\"text/css\" >\n",
       "</style><table id=\"T_d0042f5c_1273_11eb_833d_02cba411ec9d\" ><thead>    <tr>        <th class=\"blank level0\" ></th>        <th class=\"col_heading level0 col0\" >plazo</th>        <th class=\"col_heading level0 col1\" >tasa</th>        <th class=\"col_heading level0 col2\" >df</th>    </tr></thead><tbody>\n",
       "                <tr>\n",
       "                        <th id=\"T_d0042f5c_1273_11eb_833d_02cba411ec9dlevel0_row0\" class=\"row_heading level0 row0\" >0</th>\n",
       "                        <td id=\"T_d0042f5c_1273_11eb_833d_02cba411ec9drow0_col0\" class=\"data row0 col0\" >1</td>\n",
       "                        <td id=\"T_d0042f5c_1273_11eb_833d_02cba411ec9drow0_col1\" class=\"data row0 col1\" >0.081111%</td>\n",
       "                        <td id=\"T_d0042f5c_1273_11eb_833d_02cba411ec9drow0_col2\" class=\"data row0 col2\" >99.999778%</td>\n",
       "            </tr>\n",
       "            <tr>\n",
       "                        <th id=\"T_d0042f5c_1273_11eb_833d_02cba411ec9dlevel0_row1\" class=\"row_heading level0 row1\" >1</th>\n",
       "                        <td id=\"T_d0042f5c_1273_11eb_833d_02cba411ec9drow1_col0\" class=\"data row1 col0\" >7</td>\n",
       "                        <td id=\"T_d0042f5c_1273_11eb_833d_02cba411ec9drow1_col1\" class=\"data row1 col1\" >0.084051%</td>\n",
       "                        <td id=\"T_d0042f5c_1273_11eb_833d_02cba411ec9drow1_col2\" class=\"data row1 col2\" >99.998388%</td>\n",
       "            </tr>\n",
       "            <tr>\n",
       "                        <th id=\"T_d0042f5c_1273_11eb_833d_02cba411ec9dlevel0_row2\" class=\"row_heading level0 row2\" >2</th>\n",
       "                        <td id=\"T_d0042f5c_1273_11eb_833d_02cba411ec9drow2_col0\" class=\"data row2 col0\" >14</td>\n",
       "                        <td id=\"T_d0042f5c_1273_11eb_833d_02cba411ec9drow2_col1\" class=\"data row2 col1\" >0.077967%</td>\n",
       "                        <td id=\"T_d0042f5c_1273_11eb_833d_02cba411ec9drow2_col2\" class=\"data row2 col2\" >99.997010%</td>\n",
       "            </tr>\n",
       "            <tr>\n",
       "                        <th id=\"T_d0042f5c_1273_11eb_833d_02cba411ec9dlevel0_row3\" class=\"row_heading level0 row3\" >3</th>\n",
       "                        <td id=\"T_d0042f5c_1273_11eb_833d_02cba411ec9drow3_col0\" class=\"data row3 col0\" >21</td>\n",
       "                        <td id=\"T_d0042f5c_1273_11eb_833d_02cba411ec9drow3_col1\" class=\"data row3 col1\" >0.077358%</td>\n",
       "                        <td id=\"T_d0042f5c_1273_11eb_833d_02cba411ec9drow3_col2\" class=\"data row3 col2\" >99.995549%</td>\n",
       "            </tr>\n",
       "            <tr>\n",
       "                        <th id=\"T_d0042f5c_1273_11eb_833d_02cba411ec9dlevel0_row4\" class=\"row_heading level0 row4\" >4</th>\n",
       "                        <td id=\"T_d0042f5c_1273_11eb_833d_02cba411ec9drow4_col0\" class=\"data row4 col0\" >33</td>\n",
       "                        <td id=\"T_d0042f5c_1273_11eb_833d_02cba411ec9drow4_col1\" class=\"data row4 col1\" >0.078067%</td>\n",
       "                        <td id=\"T_d0042f5c_1273_11eb_833d_02cba411ec9drow4_col2\" class=\"data row4 col2\" >99.992942%</td>\n",
       "            </tr>\n",
       "    </tbody></table>"
      ],
      "text/plain": [
       "<pandas.io.formats.style.Styler at 0x7f7bcfc03ef0>"
      ]
     },
     "execution_count": 12,
     "metadata": {},
     "output_type": "execute_result"
    }
   ],
   "source": [
    "df_curva.head().style.format(frmt)"
   ]
  },
  {
   "cell_type": "code",
   "execution_count": 13,
   "metadata": {
    "ExecuteTime": {
     "end_time": "2020-10-20T01:30:20.050114Z",
     "start_time": "2020-10-20T01:30:20.045065Z"
    }
   },
   "outputs": [],
   "source": [
    "zcc = get_curve_from_dataframe(Qcf.QCAct365(),Qcf.QCCompoundWf(), df_curva)"
   ]
  },
  {
   "cell_type": "markdown",
   "metadata": {},
   "source": [
    "Algunos métodos del objeto`zcc`."
   ]
  },
  {
   "cell_type": "code",
   "execution_count": 14,
   "metadata": {
    "ExecuteTime": {
     "end_time": "2020-10-20T01:30:26.189285Z",
     "start_time": "2020-10-20T01:30:26.183881Z"
    }
   },
   "outputs": [
    {
     "name": "stdout",
     "output_type": "stream",
     "text": [
      "Tasa a 900 días es igual a 0.0652%\n",
      "Factor de descuento a 900 días es igual a 99.839384%\n"
     ]
    }
   ],
   "source": [
    "plazo = 900\n",
    "print(f\"Tasa a {plazo} días es igual a {zcc.get_rate_at(plazo):.4%}\")\n",
    "print(f\"Factor de descuento a {plazo} días es igual a {zcc.get_discount_factor_at(plazo):.6%}\")"
   ]
  },
  {
   "cell_type": "markdown",
   "metadata": {},
   "source": [
    "## Valorización"
   ]
  },
  {
   "cell_type": "code",
   "execution_count": 15,
   "metadata": {
    "ExecuteTime": {
     "end_time": "2020-10-20T01:30:30.262110Z",
     "start_time": "2020-10-20T01:30:30.249954Z"
    },
    "code_folding": []
   },
   "outputs": [],
   "source": [
    "def get_ois_using_template(template, type_ois: TypeOis, rp: Qcf.RecPay, notional: float, start_date: Qcf.QCDate,\n",
    "                           tenor: Qcf.Tenor, fixed_rate_value: float, spread: float, gearing: float):\n",
    "    \"\"\"\n",
    "    \"\"\"\n",
    "    template_dict = template[type_ois]\n",
    "    meses = tenor.get_years() * 12 + tenor.get_months()\n",
    "    end_date = start_date.add_months(meses)\n",
    "    template_dict['fixed_rate'].set_value(fixed_rate_value)\n",
    "    es_bono = False\n",
    "\n",
    "    # Construye la pata fija\n",
    "    fixed_rate_leg = Qcf.LegFactory.build_bullet_fixed_rate_leg(\n",
    "        rp,\n",
    "        start_date,\n",
    "        end_date,\n",
    "        template_dict['bus_adj_rule'],\n",
    "        template_dict['periodicity'],\n",
    "        template_dict['stub_period'],\n",
    "        get_cal(template_dict['calendar']),\n",
    "        template_dict['settlement_lag'],\n",
    "        notional,\n",
    "        template_dict['amort_is_cashflow'],\n",
    "        template_dict['fixed_rate'],\n",
    "        template_dict['currency'],\n",
    "        es_bono)\n",
    "\n",
    "    # Construye la pata ois\n",
    "    rp = Qcf.RecPay.PAY if rp == Qcf.RecPay.RECEIVE else Qcf.RecPay.RECEIVE\n",
    "    icp_clp_leg = Qcf.LegFactory.build_bullet_icp_clp2_leg(\n",
    "        rp,\n",
    "        start_date,\n",
    "        end_date,\n",
    "        template_dict['bus_adj_rule'],\n",
    "        template_dict['periodicity'],\n",
    "        template_dict['stub_period'],\n",
    "        get_cal(template_dict['calendar']),\n",
    "        template_dict['settlement_lag'],\n",
    "        notional,\n",
    "        template_dict['amort_is_cashflow'],\n",
    "        spread,\n",
    "        gearing,\n",
    "        True\n",
    "    )\n",
    "\n",
    "    for i in range(icp_clp_leg.size()):\n",
    "        cshflw = icp_clp_leg.get_cashflow_at(i)\n",
    "        cshflw.set_start_date_icp(1.0)\n",
    "        cshflw.set_end_date_icp(1.0)\n",
    "\n",
    "    return (fixed_rate_leg, icp_clp_leg)"
   ]
  },
  {
   "cell_type": "markdown",
   "metadata": {},
   "source": [
    "### Operación Ejemplo"
   ]
  },
  {
   "cell_type": "code",
   "execution_count": 17,
   "metadata": {
    "ExecuteTime": {
     "end_time": "2020-10-20T01:30:33.560807Z",
     "start_time": "2020-10-20T01:30:33.504332Z"
    }
   },
   "outputs": [],
   "source": [
    "op = get_ois_using_template(\n",
    "    type_ois_template,\n",
    "    TypeOis.SOFR,\n",
    "    Qcf.RecPay.RECEIVE,\n",
    "    10000000,\n",
    "    Qcf.QCDate(14, 10, 2020),\n",
    "    Qcf.Tenor('2Y'),\n",
    "    .01,\n",
    "    0.0,\n",
    "    1.0\n",
    ")"
   ]
  },
  {
   "cell_type": "code",
   "execution_count": 18,
   "metadata": {
    "ExecuteTime": {
     "end_time": "2020-10-20T01:30:58.926030Z",
     "start_time": "2020-10-20T01:30:58.912850Z"
    }
   },
   "outputs": [
    {
     "data": {
      "text/html": [
       "<style  type=\"text/css\" >\n",
       "</style><table id=\"T_e815a6fc_1273_11eb_833d_02cba411ec9d\" ><thead>    <tr>        <th class=\"blank level0\" ></th>        <th class=\"col_heading level0 col0\" >fecha_inicial</th>        <th class=\"col_heading level0 col1\" >fecha_final</th>        <th class=\"col_heading level0 col2\" >fecha_pago</th>        <th class=\"col_heading level0 col3\" >nominal</th>        <th class=\"col_heading level0 col4\" >amortizacion</th>        <th class=\"col_heading level0 col5\" >interes</th>        <th class=\"col_heading level0 col6\" >amort_es_flujo</th>        <th class=\"col_heading level0 col7\" >flujo</th>        <th class=\"col_heading level0 col8\" >moneda</th>        <th class=\"col_heading level0 col9\" >valor_tasa</th>        <th class=\"col_heading level0 col10\" >tipo_tasa</th>    </tr></thead><tbody>\n",
       "                <tr>\n",
       "                        <th id=\"T_e815a6fc_1273_11eb_833d_02cba411ec9dlevel0_row0\" class=\"row_heading level0 row0\" >0</th>\n",
       "                        <td id=\"T_e815a6fc_1273_11eb_833d_02cba411ec9drow0_col0\" class=\"data row0 col0\" >2020-10-14</td>\n",
       "                        <td id=\"T_e815a6fc_1273_11eb_833d_02cba411ec9drow0_col1\" class=\"data row0 col1\" >2021-10-14</td>\n",
       "                        <td id=\"T_e815a6fc_1273_11eb_833d_02cba411ec9drow0_col2\" class=\"data row0 col2\" >2021-10-14</td>\n",
       "                        <td id=\"T_e815a6fc_1273_11eb_833d_02cba411ec9drow0_col3\" class=\"data row0 col3\" >10,000,000</td>\n",
       "                        <td id=\"T_e815a6fc_1273_11eb_833d_02cba411ec9drow0_col4\" class=\"data row0 col4\" >0</td>\n",
       "                        <td id=\"T_e815a6fc_1273_11eb_833d_02cba411ec9drow0_col5\" class=\"data row0 col5\" >101,389</td>\n",
       "                        <td id=\"T_e815a6fc_1273_11eb_833d_02cba411ec9drow0_col6\" class=\"data row0 col6\" >True</td>\n",
       "                        <td id=\"T_e815a6fc_1273_11eb_833d_02cba411ec9drow0_col7\" class=\"data row0 col7\" >101,389</td>\n",
       "                        <td id=\"T_e815a6fc_1273_11eb_833d_02cba411ec9drow0_col8\" class=\"data row0 col8\" >USD</td>\n",
       "                        <td id=\"T_e815a6fc_1273_11eb_833d_02cba411ec9drow0_col9\" class=\"data row0 col9\" >1.0000%</td>\n",
       "                        <td id=\"T_e815a6fc_1273_11eb_833d_02cba411ec9drow0_col10\" class=\"data row0 col10\" >LinAct360</td>\n",
       "            </tr>\n",
       "            <tr>\n",
       "                        <th id=\"T_e815a6fc_1273_11eb_833d_02cba411ec9dlevel0_row1\" class=\"row_heading level0 row1\" >1</th>\n",
       "                        <td id=\"T_e815a6fc_1273_11eb_833d_02cba411ec9drow1_col0\" class=\"data row1 col0\" >2021-10-14</td>\n",
       "                        <td id=\"T_e815a6fc_1273_11eb_833d_02cba411ec9drow1_col1\" class=\"data row1 col1\" >2022-10-14</td>\n",
       "                        <td id=\"T_e815a6fc_1273_11eb_833d_02cba411ec9drow1_col2\" class=\"data row1 col2\" >2022-10-14</td>\n",
       "                        <td id=\"T_e815a6fc_1273_11eb_833d_02cba411ec9drow1_col3\" class=\"data row1 col3\" >10,000,000</td>\n",
       "                        <td id=\"T_e815a6fc_1273_11eb_833d_02cba411ec9drow1_col4\" class=\"data row1 col4\" >10,000,000</td>\n",
       "                        <td id=\"T_e815a6fc_1273_11eb_833d_02cba411ec9drow1_col5\" class=\"data row1 col5\" >101,389</td>\n",
       "                        <td id=\"T_e815a6fc_1273_11eb_833d_02cba411ec9drow1_col6\" class=\"data row1 col6\" >True</td>\n",
       "                        <td id=\"T_e815a6fc_1273_11eb_833d_02cba411ec9drow1_col7\" class=\"data row1 col7\" >10,101,389</td>\n",
       "                        <td id=\"T_e815a6fc_1273_11eb_833d_02cba411ec9drow1_col8\" class=\"data row1 col8\" >USD</td>\n",
       "                        <td id=\"T_e815a6fc_1273_11eb_833d_02cba411ec9drow1_col9\" class=\"data row1 col9\" >1.0000%</td>\n",
       "                        <td id=\"T_e815a6fc_1273_11eb_833d_02cba411ec9drow1_col10\" class=\"data row1 col10\" >LinAct360</td>\n",
       "            </tr>\n",
       "    </tbody></table>"
      ],
      "text/plain": [
       "<pandas.io.formats.style.Styler at 0x7f7bcfc42748>"
      ]
     },
     "execution_count": 18,
     "metadata": {},
     "output_type": "execute_result"
    }
   ],
   "source": [
    "aux.show_leg(op[0], 'FixedRateCashflow', '').style.format(frmt)"
   ]
  },
  {
   "cell_type": "code",
   "execution_count": 19,
   "metadata": {
    "ExecuteTime": {
     "end_time": "2020-10-20T01:30:59.874739Z",
     "start_time": "2020-10-20T01:30:59.855219Z"
    }
   },
   "outputs": [
    {
     "data": {
      "text/html": [
       "<style  type=\"text/css\" >\n",
       "</style><table id=\"T_e815a6fd_1273_11eb_833d_02cba411ec9d\" ><thead>    <tr>        <th class=\"blank level0\" ></th>        <th class=\"col_heading level0 col0\" >fecha_inicial</th>        <th class=\"col_heading level0 col1\" >fecha_final</th>        <th class=\"col_heading level0 col2\" >fecha_pago</th>        <th class=\"col_heading level0 col3\" >nominal</th>        <th class=\"col_heading level0 col4\" >amortizacion</th>        <th class=\"col_heading level0 col5\" >amort_es_flujo</th>        <th class=\"col_heading level0 col6\" >flujo</th>        <th class=\"col_heading level0 col7\" >moneda</th>        <th class=\"col_heading level0 col8\" >icp_inicial</th>        <th class=\"col_heading level0 col9\" >icp_final</th>        <th class=\"col_heading level0 col10\" >valor_tasa</th>        <th class=\"col_heading level0 col11\" >interes</th>        <th class=\"col_heading level0 col12\" >spread</th>        <th class=\"col_heading level0 col13\" >gearing</th>        <th class=\"col_heading level0 col14\" >tipo_tasa</th>    </tr></thead><tbody>\n",
       "                <tr>\n",
       "                        <th id=\"T_e815a6fd_1273_11eb_833d_02cba411ec9dlevel0_row0\" class=\"row_heading level0 row0\" >0</th>\n",
       "                        <td id=\"T_e815a6fd_1273_11eb_833d_02cba411ec9drow0_col0\" class=\"data row0 col0\" >2020-10-14</td>\n",
       "                        <td id=\"T_e815a6fd_1273_11eb_833d_02cba411ec9drow0_col1\" class=\"data row0 col1\" >2021-10-14</td>\n",
       "                        <td id=\"T_e815a6fd_1273_11eb_833d_02cba411ec9drow0_col2\" class=\"data row0 col2\" >2021-10-14</td>\n",
       "                        <td id=\"T_e815a6fd_1273_11eb_833d_02cba411ec9drow0_col3\" class=\"data row0 col3\" >-10,000,000</td>\n",
       "                        <td id=\"T_e815a6fd_1273_11eb_833d_02cba411ec9drow0_col4\" class=\"data row0 col4\" >0</td>\n",
       "                        <td id=\"T_e815a6fd_1273_11eb_833d_02cba411ec9drow0_col5\" class=\"data row0 col5\" >True</td>\n",
       "                        <td id=\"T_e815a6fd_1273_11eb_833d_02cba411ec9drow0_col6\" class=\"data row0 col6\" >0</td>\n",
       "                        <td id=\"T_e815a6fd_1273_11eb_833d_02cba411ec9drow0_col7\" class=\"data row0 col7\" >CLP</td>\n",
       "                        <td id=\"T_e815a6fd_1273_11eb_833d_02cba411ec9drow0_col8\" class=\"data row0 col8\" >1.000000</td>\n",
       "                        <td id=\"T_e815a6fd_1273_11eb_833d_02cba411ec9drow0_col9\" class=\"data row0 col9\" >1.000000</td>\n",
       "                        <td id=\"T_e815a6fd_1273_11eb_833d_02cba411ec9drow0_col10\" class=\"data row0 col10\" >0.0000%</td>\n",
       "                        <td id=\"T_e815a6fd_1273_11eb_833d_02cba411ec9drow0_col11\" class=\"data row0 col11\" >-0</td>\n",
       "                        <td id=\"T_e815a6fd_1273_11eb_833d_02cba411ec9drow0_col12\" class=\"data row0 col12\" >0.0000%</td>\n",
       "                        <td id=\"T_e815a6fd_1273_11eb_833d_02cba411ec9drow0_col13\" class=\"data row0 col13\" >1.000000</td>\n",
       "                        <td id=\"T_e815a6fd_1273_11eb_833d_02cba411ec9drow0_col14\" class=\"data row0 col14\" >LinAct360</td>\n",
       "            </tr>\n",
       "            <tr>\n",
       "                        <th id=\"T_e815a6fd_1273_11eb_833d_02cba411ec9dlevel0_row1\" class=\"row_heading level0 row1\" >1</th>\n",
       "                        <td id=\"T_e815a6fd_1273_11eb_833d_02cba411ec9drow1_col0\" class=\"data row1 col0\" >2021-10-14</td>\n",
       "                        <td id=\"T_e815a6fd_1273_11eb_833d_02cba411ec9drow1_col1\" class=\"data row1 col1\" >2022-10-14</td>\n",
       "                        <td id=\"T_e815a6fd_1273_11eb_833d_02cba411ec9drow1_col2\" class=\"data row1 col2\" >2022-10-14</td>\n",
       "                        <td id=\"T_e815a6fd_1273_11eb_833d_02cba411ec9drow1_col3\" class=\"data row1 col3\" >-10,000,000</td>\n",
       "                        <td id=\"T_e815a6fd_1273_11eb_833d_02cba411ec9drow1_col4\" class=\"data row1 col4\" >-10,000,000</td>\n",
       "                        <td id=\"T_e815a6fd_1273_11eb_833d_02cba411ec9drow1_col5\" class=\"data row1 col5\" >True</td>\n",
       "                        <td id=\"T_e815a6fd_1273_11eb_833d_02cba411ec9drow1_col6\" class=\"data row1 col6\" >-10,000,000</td>\n",
       "                        <td id=\"T_e815a6fd_1273_11eb_833d_02cba411ec9drow1_col7\" class=\"data row1 col7\" >CLP</td>\n",
       "                        <td id=\"T_e815a6fd_1273_11eb_833d_02cba411ec9drow1_col8\" class=\"data row1 col8\" >1.000000</td>\n",
       "                        <td id=\"T_e815a6fd_1273_11eb_833d_02cba411ec9drow1_col9\" class=\"data row1 col9\" >1.000000</td>\n",
       "                        <td id=\"T_e815a6fd_1273_11eb_833d_02cba411ec9drow1_col10\" class=\"data row1 col10\" >0.0000%</td>\n",
       "                        <td id=\"T_e815a6fd_1273_11eb_833d_02cba411ec9drow1_col11\" class=\"data row1 col11\" >-0</td>\n",
       "                        <td id=\"T_e815a6fd_1273_11eb_833d_02cba411ec9drow1_col12\" class=\"data row1 col12\" >0.0000%</td>\n",
       "                        <td id=\"T_e815a6fd_1273_11eb_833d_02cba411ec9drow1_col13\" class=\"data row1 col13\" >1.000000</td>\n",
       "                        <td id=\"T_e815a6fd_1273_11eb_833d_02cba411ec9drow1_col14\" class=\"data row1 col14\" >LinAct360</td>\n",
       "            </tr>\n",
       "    </tbody></table>"
      ],
      "text/plain": [
       "<pandas.io.formats.style.Styler at 0x7f7bfcf1aa90>"
      ]
     },
     "execution_count": 19,
     "metadata": {},
     "output_type": "execute_result"
    }
   ],
   "source": [
    "aux.show_leg(op[1], 'IcpClpCashflow', '').style.format(frmt)"
   ]
  },
  {
   "cell_type": "markdown",
   "metadata": {},
   "source": [
    "#### Valor Presente Pata Fija"
   ]
  },
  {
   "cell_type": "code",
   "execution_count": 20,
   "metadata": {
    "ExecuteTime": {
     "end_time": "2020-10-20T01:31:29.194386Z",
     "start_time": "2020-10-20T01:31:29.190212Z"
    }
   },
   "outputs": [],
   "source": [
    "vp = Qcf.PresentValue()"
   ]
  },
  {
   "cell_type": "code",
   "execution_count": 21,
   "metadata": {
    "ExecuteTime": {
     "end_time": "2020-10-20T01:31:31.522495Z",
     "start_time": "2020-10-20T01:31:31.518713Z"
    }
   },
   "outputs": [],
   "source": [
    "fecha_val = Qcf.QCDate(14, 10, 2020)"
   ]
  },
  {
   "cell_type": "code",
   "execution_count": 23,
   "metadata": {
    "ExecuteTime": {
     "end_time": "2020-10-20T01:31:44.557804Z",
     "start_time": "2020-10-20T01:31:44.552168Z"
    }
   },
   "outputs": [
    {
     "name": "stdout",
     "output_type": "stream",
     "text": [
      "El valor presente de la pata fija es: USD 10,191,249.71\n"
     ]
    }
   ],
   "source": [
    "vp_fija = vp.pv(fecha_val, op[0], zcc)\n",
    "print(f'El valor presente de la pata fija es: USD {vp_fija:,.2f}')"
   ]
  },
  {
   "cell_type": "markdown",
   "metadata": {},
   "source": [
    "**Ejercicio:** Replique el valor de la pata fija utilizando los flujos y los factores de descuento que obtiene de la curva `zcc`."
   ]
  },
  {
   "cell_type": "markdown",
   "metadata": {},
   "source": [
    "#### Valor Presente Pata Flotante"
   ]
  },
  {
   "cell_type": "code",
   "execution_count": 24,
   "metadata": {
    "ExecuteTime": {
     "end_time": "2020-10-20T01:31:48.424909Z",
     "start_time": "2020-10-20T01:31:48.421690Z"
    }
   },
   "outputs": [],
   "source": [
    "fwd = Qcf.ForwardRates()"
   ]
  },
  {
   "cell_type": "code",
   "execution_count": 25,
   "metadata": {
    "ExecuteTime": {
     "end_time": "2020-10-20T01:31:56.485298Z",
     "start_time": "2020-10-20T01:31:56.479583Z"
    }
   },
   "outputs": [
    {
     "name": "stdout",
     "output_type": "stream",
     "text": [
      "El valor presente de la pata flotante es: USD -10,000,000.00\n"
     ]
    }
   ],
   "source": [
    "fwd.set_rates_icp_clp_leg(fecha_val, 1.0, op[1], zcc)\n",
    "vp_flot = vp.pv(fecha_val, op[1], zcc)\n",
    "print(f'El valor presente de la pata flotante es: USD {vp_flot:,.2f}')"
   ]
  },
  {
   "cell_type": "markdown",
   "metadata": {},
   "source": [
    "## Sensibilidad"
   ]
  },
  {
   "cell_type": "markdown",
   "metadata": {},
   "source": [
    "En `QC_Financial_3` al calcular el valor presente, también se calculan las derivadas del valor presente respecto a cada uno de los vértices de la curva."
   ]
  },
  {
   "cell_type": "markdown",
   "metadata": {},
   "source": [
    "### Pata Fija"
   ]
  },
  {
   "cell_type": "code",
   "execution_count": 26,
   "metadata": {
    "ExecuteTime": {
     "end_time": "2020-10-20T01:33:32.057632Z",
     "start_time": "2020-10-20T01:33:32.053184Z"
    }
   },
   "outputs": [],
   "source": [
    "vp.pv(fecha_val, op[0], zcc)\n",
    "der = vp.get_derivatives()"
   ]
  },
  {
   "cell_type": "markdown",
   "metadata": {},
   "source": [
    "Con esas derivadas, se puede calcular la sensibilidad a cada vértice de la curva cupón cero para un movimiento de 1 punto básico."
   ]
  },
  {
   "cell_type": "code",
   "execution_count": 27,
   "metadata": {
    "ExecuteTime": {
     "end_time": "2020-10-20T01:33:51.157059Z",
     "start_time": "2020-10-20T01:33:51.149001Z"
    }
   },
   "outputs": [
    {
     "name": "stdout",
     "output_type": "stream",
     "text": [
      "<class 'finrisk.QC_Financial_3.double_vec'>\n"
     ]
    }
   ],
   "source": [
    "print(type(der))"
   ]
  },
  {
   "cell_type": "code",
   "execution_count": 28,
   "metadata": {
    "ExecuteTime": {
     "end_time": "2020-10-20T01:33:59.352107Z",
     "start_time": "2020-10-20T01:33:59.335624Z"
    }
   },
   "outputs": [
    {
     "name": "stdout",
     "output_type": "stream",
     "text": [
      "Sensibilidad en 0:  0.00\n",
      "Sensibilidad en 1:  0.00\n",
      "Sensibilidad en 2:  0.00\n",
      "Sensibilidad en 3:  0.00\n",
      "Sensibilidad en 4:  0.00\n",
      "Sensibilidad en 5:  0.00\n",
      "Sensibilidad en 6:  0.00\n",
      "Sensibilidad en 7:  0.00\n",
      "Sensibilidad en 8:  0.00\n",
      "Sensibilidad en 9:  0.00\n",
      "Sensibilidad en 10:  0.00\n",
      "Sensibilidad en 11:  0.00\n",
      "Sensibilidad en 12:  0.00\n",
      "Sensibilidad en 13:  0.00\n",
      "Sensibilidad en 14:  0.00\n",
      "Sensibilidad en 15: -10.12\n",
      "Sensibilidad en 16:  0.00\n",
      "Sensibilidad en 17: -2,016.84\n",
      "Sensibilidad en 18:  0.00\n",
      "Sensibilidad en 19:  0.00\n",
      "Sensibilidad en 20:  0.00\n",
      "Sensibilidad en 21:  0.00\n",
      "Sensibilidad en 22:  0.00\n",
      "Sensibilidad en 23:  0.00\n",
      "Sensibilidad en 24:  0.00\n",
      "Sensibilidad en 25:  0.00\n",
      "Sensibilidad en 26:  0.00\n",
      "Sensibilidad en 27:  0.00\n",
      "Sensibilidad en 28:  0.00\n",
      "Sensibilidad en 29:  0.00\n",
      "Sensibilidad en 30:  0.00\n",
      "Sensibilidad en 31:  0.00\n",
      "Sensibilidad en 32:  0.00\n",
      "Sensibilidad total: -2,026.97\n"
     ]
    }
   ],
   "source": [
    "bp = .0001\n",
    "total = 0\n",
    "for i, d in enumerate(der):\n",
    "    total += d * bp\n",
    "    print(f\"Sensibilidad en {i}: {d * bp: 0,.2f}\")\n",
    "print(f\"Sensibilidad total: {total:,.2f}\")"
   ]
  },
  {
   "cell_type": "markdown",
   "metadata": {},
   "source": [
    "**Ejercicio:** Verifique por diferencias finitas centrales la sensibilidad en el vértice 17. La aproximación de la derivada por diferencias finitas centrales es:\n",
    "\n",
    "$$\n",
    "\\begin{equation}\n",
    "f^{\\prime}\\left(x\\right)\\approx\\frac{f\\left(x+h\\right)-f\\left(x-h\\right)}{2h}\n",
    "\\end{equation}\n",
    "$$"
   ]
  },
  {
   "cell_type": "markdown",
   "metadata": {},
   "source": [
    "### Pata Flotante"
   ]
  },
  {
   "cell_type": "code",
   "execution_count": 29,
   "metadata": {
    "ExecuteTime": {
     "end_time": "2020-10-20T01:34:04.800629Z",
     "start_time": "2020-10-20T01:34:04.795104Z"
    }
   },
   "outputs": [],
   "source": [
    "vp.pv(fecha_val, op[1], zcc)\n",
    "der = vp.get_derivatives()"
   ]
  },
  {
   "cell_type": "code",
   "execution_count": 30,
   "metadata": {
    "ExecuteTime": {
     "end_time": "2020-10-20T01:34:06.421285Z",
     "start_time": "2020-10-20T01:34:06.403690Z"
    }
   },
   "outputs": [
    {
     "name": "stdout",
     "output_type": "stream",
     "text": [
      "Sensibilidad en 0:  0.00\n",
      "Sensibilidad en 1:  0.00\n",
      "Sensibilidad en 2:  0.00\n",
      "Sensibilidad en 3:  0.00\n",
      "Sensibilidad en 4:  0.00\n",
      "Sensibilidad en 5:  0.00\n",
      "Sensibilidad en 6:  0.00\n",
      "Sensibilidad en 7:  0.00\n",
      "Sensibilidad en 8:  0.00\n",
      "Sensibilidad en 9:  0.00\n",
      "Sensibilidad en 10:  0.00\n",
      "Sensibilidad en 11:  0.00\n",
      "Sensibilidad en 12:  0.00\n",
      "Sensibilidad en 13:  0.00\n",
      "Sensibilidad en 14:  0.00\n",
      "Sensibilidad en 15:  0.70\n",
      "Sensibilidad en 16:  0.00\n",
      "Sensibilidad en 17:  1,997.46\n",
      "Sensibilidad en 18:  0.00\n",
      "Sensibilidad en 19:  0.00\n",
      "Sensibilidad en 20:  0.00\n",
      "Sensibilidad en 21:  0.00\n",
      "Sensibilidad en 22:  0.00\n",
      "Sensibilidad en 23:  0.00\n",
      "Sensibilidad en 24:  0.00\n",
      "Sensibilidad en 25:  0.00\n",
      "Sensibilidad en 26:  0.00\n",
      "Sensibilidad en 27:  0.00\n",
      "Sensibilidad en 28:  0.00\n",
      "Sensibilidad en 29:  0.00\n",
      "Sensibilidad en 30:  0.00\n",
      "Sensibilidad en 31:  0.00\n",
      "Sensibilidad en 32:  0.00\n",
      "Sensibilidad total: 1,998.16\n"
     ]
    }
   ],
   "source": [
    "bp = .0001\n",
    "total = 0\n",
    "for i, d in enumerate(der):\n",
    "    total += d * bp\n",
    "    print(f\"Sensibilidad en {i}: {d * bp: 0,.2f}\")\n",
    "print(f\"Sensibilidad total: {total:,.2f}\")"
   ]
  },
  {
   "cell_type": "markdown",
   "metadata": {},
   "source": [
    "La estructura es la misma que para una pata fija, lo que indica que se debe también incluir la sensibilidad a la curva de proyección."
   ]
  },
  {
   "cell_type": "code",
   "execution_count": 31,
   "metadata": {
    "ExecuteTime": {
     "end_time": "2020-10-20T01:34:15.971848Z",
     "start_time": "2020-10-20T01:34:15.953728Z"
    }
   },
   "outputs": [
    {
     "name": "stdout",
     "output_type": "stream",
     "text": [
      "Sensibilidad en 0: -0.00\n",
      "Sensibilidad en 1: -0.00\n",
      "Sensibilidad en 2: -0.00\n",
      "Sensibilidad en 3: -0.00\n",
      "Sensibilidad en 4: -0.00\n",
      "Sensibilidad en 5: -0.00\n",
      "Sensibilidad en 6: -0.00\n",
      "Sensibilidad en 7: -0.00\n",
      "Sensibilidad en 8: -0.00\n",
      "Sensibilidad en 9: -0.00\n",
      "Sensibilidad en 10: -0.00\n",
      "Sensibilidad en 11: -0.00\n",
      "Sensibilidad en 12: -0.00\n",
      "Sensibilidad en 13: -0.00\n",
      "Sensibilidad en 14: -0.00\n",
      "Sensibilidad en 15: -0.70\n",
      "Sensibilidad en 16: -0.00\n",
      "Sensibilidad en 17: -1,997.46\n",
      "Sensibilidad en 18: -0.00\n",
      "Sensibilidad en 19: -0.00\n",
      "Sensibilidad en 20: -0.00\n",
      "Sensibilidad en 21: -0.00\n",
      "Sensibilidad en 22: -0.00\n",
      "Sensibilidad en 23: -0.00\n",
      "Sensibilidad en 24: -0.00\n",
      "Sensibilidad en 25: -0.00\n",
      "Sensibilidad en 26: -0.00\n",
      "Sensibilidad en 27: -0.00\n",
      "Sensibilidad en 28: -0.00\n",
      "Sensibilidad en 29: -0.00\n",
      "Sensibilidad en 30: -0.00\n",
      "Sensibilidad en 31: -0.00\n",
      "Sensibilidad en 32: -0.00\n",
      "Sensibilidad de proyección: -1,998.16 CLP\n"
     ]
    }
   ],
   "source": [
    "import numpy as np\n",
    "bp = .0001\n",
    "result = []\n",
    "for i in range(op[1].size()):\n",
    "    cshflw = op[1].get_cashflow_at(i)\n",
    "    amt_der = cshflw.get_amount_derivatives()\n",
    "    df = zcc.get_discount_factor_at(fecha_val.day_diff(cshflw.get_settlement_date()))\n",
    "    amt_der = [a * bp * df for a in amt_der]\n",
    "    if len(amt_der) > 0:\n",
    "        result.append(np.array(amt_der))\n",
    "total = result[0] * 0\n",
    "\n",
    "for r in result:\n",
    "    total += r\n",
    "\n",
    "for i in range(len(total)):\n",
    "    print(f\"Sensibilidad en {i}: {total[i]:0,.2f}\")\n",
    "\n",
    "print(f\"Sensibilidad de proyección: {sum(total):,.2f} CLP\")"
   ]
  },
  {
   "cell_type": "markdown",
   "metadata": {},
   "source": [
    "**Ejercicio:** Ambas sensibilidades se cancelan. ¿Porqué?"
   ]
  }
 ],
 "metadata": {
  "hide_input": false,
  "kernelspec": {
   "display_name": "Python 3",
   "language": "python",
   "name": "python3"
  },
  "language_info": {
   "codemirror_mode": {
    "name": "ipython",
    "version": 3
   },
   "file_extension": ".py",
   "mimetype": "text/x-python",
   "name": "python",
   "nbconvert_exporter": "python",
   "pygments_lexer": "ipython3",
   "version": "3.7.3"
  },
  "toc": {
   "base_numbering": "7",
   "nav_menu": {},
   "number_sections": true,
   "sideBar": true,
   "skip_h1_title": false,
   "title_cell": "Table of Contents",
   "title_sidebar": "Contenido",
   "toc_cell": false,
   "toc_position": {
    "height": "calc(100% - 180px)",
    "left": "10px",
    "top": "150px",
    "width": "222.1875px"
   },
   "toc_section_display": true,
   "toc_window_display": true
  }
 },
 "nbformat": 4,
 "nbformat_minor": 4
}
