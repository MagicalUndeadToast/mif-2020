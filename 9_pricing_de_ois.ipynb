{
 "cells": [
  {
   "cell_type": "markdown",
   "metadata": {},
   "source": [
    "# Valorización de OIS"
   ]
  },
  {
   "cell_type": "markdown",
   "metadata": {},
   "source": [
    "Entre sí, los bancos operan los instrumentos estándar. En el caso de los OIS, éstos son instrumentos con periodicidad anual, amortización bullet y a los plazos predefinidos.\n",
    "\n",
    "¿Qué se hace cuándo es necesario cotizar un swap con características distintas? En esos casos, se hace *pricing* de este contrato especial, utilizando la curva cupón cero que se ha obtenido de los swaps estándar."
   ]
  },
  {
   "cell_type": "markdown",
   "metadata": {},
   "source": [
    "## Configuración"
   ]
  },
  {
   "cell_type": "markdown",
   "metadata": {},
   "source": [
    "### Librerías"
   ]
  },
  {
   "cell_type": "code",
   "execution_count": 1,
   "metadata": {
    "ExecuteTime": {
     "end_time": "2020-10-23T20:49:34.912197Z",
     "start_time": "2020-10-23T20:49:34.404269Z"
    }
   },
   "outputs": [],
   "source": [
    "from finrisk import QC_Financial_3 as Qcf\n",
    "from scipy.optimize import root_scalar\n",
    "import modules.auxiliary as aux\n",
    "from functools import partial\n",
    "from enum import Enum\n",
    "import pandas as pd"
   ]
  },
  {
   "cell_type": "markdown",
   "metadata": {},
   "source": [
    "### Variables Globales"
   ]
  },
  {
   "cell_type": "code",
   "execution_count": 2,
   "metadata": {
    "ExecuteTime": {
     "end_time": "2020-10-23T20:49:34.920241Z",
     "start_time": "2020-10-23T20:49:34.916792Z"
    }
   },
   "outputs": [],
   "source": [
    "frmt = {\n",
    "    'tasa': '{:.6%}',\n",
    "    'df': '{:.6%}',\n",
    "    'valor_tasa': '{:.4%}',\n",
    "    'spread': '{:.4%}',\n",
    "    'nominal': '{:,.2f}',\n",
    "    'interes': '{:,.2f}',\n",
    "    'amortizacion': '{:,.2f}',\n",
    "    'flujo': '{:,.2f}',\n",
    "}"
   ]
  },
  {
   "cell_type": "markdown",
   "metadata": {},
   "source": [
    "## Carga Curva Cero Cupón"
   ]
  },
  {
   "cell_type": "markdown",
   "metadata": {},
   "source": [
    "Se importa la data de la curva cupón cero que fue construida en el notebook 5."
   ]
  },
  {
   "cell_type": "code",
   "execution_count": 3,
   "metadata": {
    "ExecuteTime": {
     "end_time": "2020-10-23T20:49:34.948707Z",
     "start_time": "2020-10-23T20:49:34.922555Z"
    }
   },
   "outputs": [],
   "source": [
    "df_curva = pd.read_excel('data/20201012_built_sofr_zero.xlsx')"
   ]
  },
  {
   "cell_type": "code",
   "execution_count": 4,
   "metadata": {
    "ExecuteTime": {
     "end_time": "2020-10-23T20:49:35.023859Z",
     "start_time": "2020-10-23T20:49:34.950611Z"
    }
   },
   "outputs": [
    {
     "data": {
      "text/html": [
       "<style  type=\"text/css\" >\n",
       "</style><table id=\"T_4224bfd4_1571_11eb_833d_02cba411ec9d\" ><thead>    <tr>        <th class=\"blank level0\" ></th>        <th class=\"col_heading level0 col0\" >plazo</th>        <th class=\"col_heading level0 col1\" >tasa</th>        <th class=\"col_heading level0 col2\" >df</th>    </tr></thead><tbody>\n",
       "                <tr>\n",
       "                        <th id=\"T_4224bfd4_1571_11eb_833d_02cba411ec9dlevel0_row0\" class=\"row_heading level0 row0\" >0</th>\n",
       "                        <td id=\"T_4224bfd4_1571_11eb_833d_02cba411ec9drow0_col0\" class=\"data row0 col0\" >1</td>\n",
       "                        <td id=\"T_4224bfd4_1571_11eb_833d_02cba411ec9drow0_col1\" class=\"data row0 col1\" >0.081111%</td>\n",
       "                        <td id=\"T_4224bfd4_1571_11eb_833d_02cba411ec9drow0_col2\" class=\"data row0 col2\" >99.999778%</td>\n",
       "            </tr>\n",
       "            <tr>\n",
       "                        <th id=\"T_4224bfd4_1571_11eb_833d_02cba411ec9dlevel0_row1\" class=\"row_heading level0 row1\" >1</th>\n",
       "                        <td id=\"T_4224bfd4_1571_11eb_833d_02cba411ec9drow1_col0\" class=\"data row1 col0\" >7</td>\n",
       "                        <td id=\"T_4224bfd4_1571_11eb_833d_02cba411ec9drow1_col1\" class=\"data row1 col1\" >0.084051%</td>\n",
       "                        <td id=\"T_4224bfd4_1571_11eb_833d_02cba411ec9drow1_col2\" class=\"data row1 col2\" >99.998388%</td>\n",
       "            </tr>\n",
       "            <tr>\n",
       "                        <th id=\"T_4224bfd4_1571_11eb_833d_02cba411ec9dlevel0_row2\" class=\"row_heading level0 row2\" >2</th>\n",
       "                        <td id=\"T_4224bfd4_1571_11eb_833d_02cba411ec9drow2_col0\" class=\"data row2 col0\" >14</td>\n",
       "                        <td id=\"T_4224bfd4_1571_11eb_833d_02cba411ec9drow2_col1\" class=\"data row2 col1\" >0.077967%</td>\n",
       "                        <td id=\"T_4224bfd4_1571_11eb_833d_02cba411ec9drow2_col2\" class=\"data row2 col2\" >99.997010%</td>\n",
       "            </tr>\n",
       "            <tr>\n",
       "                        <th id=\"T_4224bfd4_1571_11eb_833d_02cba411ec9dlevel0_row3\" class=\"row_heading level0 row3\" >3</th>\n",
       "                        <td id=\"T_4224bfd4_1571_11eb_833d_02cba411ec9drow3_col0\" class=\"data row3 col0\" >21</td>\n",
       "                        <td id=\"T_4224bfd4_1571_11eb_833d_02cba411ec9drow3_col1\" class=\"data row3 col1\" >0.077358%</td>\n",
       "                        <td id=\"T_4224bfd4_1571_11eb_833d_02cba411ec9drow3_col2\" class=\"data row3 col2\" >99.995549%</td>\n",
       "            </tr>\n",
       "            <tr>\n",
       "                        <th id=\"T_4224bfd4_1571_11eb_833d_02cba411ec9dlevel0_row4\" class=\"row_heading level0 row4\" >4</th>\n",
       "                        <td id=\"T_4224bfd4_1571_11eb_833d_02cba411ec9drow4_col0\" class=\"data row4 col0\" >33</td>\n",
       "                        <td id=\"T_4224bfd4_1571_11eb_833d_02cba411ec9drow4_col1\" class=\"data row4 col1\" >0.078067%</td>\n",
       "                        <td id=\"T_4224bfd4_1571_11eb_833d_02cba411ec9drow4_col2\" class=\"data row4 col2\" >99.992942%</td>\n",
       "            </tr>\n",
       "    </tbody></table>"
      ],
      "text/plain": [
       "<pandas.io.formats.style.Styler at 0x7f1e892f6c50>"
      ]
     },
     "execution_count": 4,
     "metadata": {},
     "output_type": "execute_result"
    }
   ],
   "source": [
    "df_curva.head().style.format(frmt)"
   ]
  },
  {
   "cell_type": "code",
   "execution_count": 5,
   "metadata": {
    "ExecuteTime": {
     "end_time": "2020-10-23T20:49:35.044484Z",
     "start_time": "2020-10-23T20:49:35.036544Z"
    }
   },
   "outputs": [],
   "source": [
    "zcc = aux.get_curve_from_dataframe(Qcf.QCAct365(),Qcf.QCCompoundWf(), df_curva)"
   ]
  },
  {
   "cell_type": "markdown",
   "metadata": {},
   "source": [
    "Algunos métodos del objeto`zcc`."
   ]
  },
  {
   "cell_type": "code",
   "execution_count": 6,
   "metadata": {
    "ExecuteTime": {
     "end_time": "2020-10-23T20:49:35.057198Z",
     "start_time": "2020-10-23T20:49:35.050534Z"
    }
   },
   "outputs": [
    {
     "name": "stdout",
     "output_type": "stream",
     "text": [
      "Tasa a 900 días es igual a 0.0652%\n",
      "Factor de descuento a 900 días es igual a 99.839384%\n"
     ]
    }
   ],
   "source": [
    "plazo = 900\n",
    "print(f\"Tasa a {plazo} días es igual a {zcc.get_rate_at(plazo):.4%}\")\n",
    "print(f\"Factor de descuento a {plazo} días es igual a {zcc.get_discount_factor_at(plazo):.6%}\")"
   ]
  },
  {
   "cell_type": "markdown",
   "metadata": {},
   "source": [
    "## Pricing"
   ]
  },
  {
   "cell_type": "code",
   "execution_count": 7,
   "metadata": {
    "ExecuteTime": {
     "end_time": "2020-10-23T20:49:35.066829Z",
     "start_time": "2020-10-23T20:49:35.060924Z"
    },
    "code_folding": []
   },
   "outputs": [],
   "source": [
    "get_ois_sofr = partial(aux.get_ois_using_template, aux.type_ois_template, aux.TypeOis.SOFR)"
   ]
  },
  {
   "cell_type": "markdown",
   "metadata": {},
   "source": [
    "### Operación con Plazo Distinto"
   ]
  },
  {
   "cell_type": "code",
   "execution_count": 8,
   "metadata": {
    "ExecuteTime": {
     "end_time": "2020-10-23T20:49:35.152417Z",
     "start_time": "2020-10-23T20:49:35.070211Z"
    }
   },
   "outputs": [
    {
     "data": {
      "text/plain": [
       "(<finrisk.QC_Financial_3.Leg at 0x7f1e88d70238>,\n",
       " <finrisk.QC_Financial_3.Leg at 0x7f1e88d70308>)"
      ]
     },
     "execution_count": 8,
     "metadata": {},
     "output_type": "execute_result"
    }
   ],
   "source": [
    "op = get_ois_sofr(\n",
    "    rp=Qcf.RecPay.RECEIVE,\n",
    "    notional=10000000,\n",
    "    start_date=Qcf.QCDate(14, 10, 2020),\n",
    "    tenor=Qcf.Tenor('2Y6M'),\n",
    "    fixed_rate_value=.01,\n",
    "    spread=0.0,\n",
    "    gearing=1.0\n",
    ")\n",
    "op"
   ]
  },
  {
   "cell_type": "code",
   "execution_count": 9,
   "metadata": {
    "ExecuteTime": {
     "end_time": "2020-10-23T20:49:35.177586Z",
     "start_time": "2020-10-23T20:49:35.154978Z"
    }
   },
   "outputs": [
    {
     "data": {
      "text/html": [
       "<style  type=\"text/css\" >\n",
       "</style><table id=\"T_4224bfd5_1571_11eb_833d_02cba411ec9d\" ><thead>    <tr>        <th class=\"blank level0\" ></th>        <th class=\"col_heading level0 col0\" >fecha_inicial</th>        <th class=\"col_heading level0 col1\" >fecha_final</th>        <th class=\"col_heading level0 col2\" >fecha_pago</th>        <th class=\"col_heading level0 col3\" >nominal</th>        <th class=\"col_heading level0 col4\" >amortizacion</th>        <th class=\"col_heading level0 col5\" >interes</th>        <th class=\"col_heading level0 col6\" >amort_es_flujo</th>        <th class=\"col_heading level0 col7\" >flujo</th>        <th class=\"col_heading level0 col8\" >moneda</th>        <th class=\"col_heading level0 col9\" >valor_tasa</th>        <th class=\"col_heading level0 col10\" >tipo_tasa</th>    </tr></thead><tbody>\n",
       "                <tr>\n",
       "                        <th id=\"T_4224bfd5_1571_11eb_833d_02cba411ec9dlevel0_row0\" class=\"row_heading level0 row0\" >0</th>\n",
       "                        <td id=\"T_4224bfd5_1571_11eb_833d_02cba411ec9drow0_col0\" class=\"data row0 col0\" >2020-10-14</td>\n",
       "                        <td id=\"T_4224bfd5_1571_11eb_833d_02cba411ec9drow0_col1\" class=\"data row0 col1\" >2021-04-14</td>\n",
       "                        <td id=\"T_4224bfd5_1571_11eb_833d_02cba411ec9drow0_col2\" class=\"data row0 col2\" >2021-04-14</td>\n",
       "                        <td id=\"T_4224bfd5_1571_11eb_833d_02cba411ec9drow0_col3\" class=\"data row0 col3\" >10,000,000.00</td>\n",
       "                        <td id=\"T_4224bfd5_1571_11eb_833d_02cba411ec9drow0_col4\" class=\"data row0 col4\" >0.00</td>\n",
       "                        <td id=\"T_4224bfd5_1571_11eb_833d_02cba411ec9drow0_col5\" class=\"data row0 col5\" >50,555.56</td>\n",
       "                        <td id=\"T_4224bfd5_1571_11eb_833d_02cba411ec9drow0_col6\" class=\"data row0 col6\" >True</td>\n",
       "                        <td id=\"T_4224bfd5_1571_11eb_833d_02cba411ec9drow0_col7\" class=\"data row0 col7\" >50,555.56</td>\n",
       "                        <td id=\"T_4224bfd5_1571_11eb_833d_02cba411ec9drow0_col8\" class=\"data row0 col8\" >USD</td>\n",
       "                        <td id=\"T_4224bfd5_1571_11eb_833d_02cba411ec9drow0_col9\" class=\"data row0 col9\" >1.0000%</td>\n",
       "                        <td id=\"T_4224bfd5_1571_11eb_833d_02cba411ec9drow0_col10\" class=\"data row0 col10\" >LinAct360</td>\n",
       "            </tr>\n",
       "            <tr>\n",
       "                        <th id=\"T_4224bfd5_1571_11eb_833d_02cba411ec9dlevel0_row1\" class=\"row_heading level0 row1\" >1</th>\n",
       "                        <td id=\"T_4224bfd5_1571_11eb_833d_02cba411ec9drow1_col0\" class=\"data row1 col0\" >2021-04-14</td>\n",
       "                        <td id=\"T_4224bfd5_1571_11eb_833d_02cba411ec9drow1_col1\" class=\"data row1 col1\" >2022-04-14</td>\n",
       "                        <td id=\"T_4224bfd5_1571_11eb_833d_02cba411ec9drow1_col2\" class=\"data row1 col2\" >2022-04-14</td>\n",
       "                        <td id=\"T_4224bfd5_1571_11eb_833d_02cba411ec9drow1_col3\" class=\"data row1 col3\" >10,000,000.00</td>\n",
       "                        <td id=\"T_4224bfd5_1571_11eb_833d_02cba411ec9drow1_col4\" class=\"data row1 col4\" >0.00</td>\n",
       "                        <td id=\"T_4224bfd5_1571_11eb_833d_02cba411ec9drow1_col5\" class=\"data row1 col5\" >101,388.89</td>\n",
       "                        <td id=\"T_4224bfd5_1571_11eb_833d_02cba411ec9drow1_col6\" class=\"data row1 col6\" >True</td>\n",
       "                        <td id=\"T_4224bfd5_1571_11eb_833d_02cba411ec9drow1_col7\" class=\"data row1 col7\" >101,388.89</td>\n",
       "                        <td id=\"T_4224bfd5_1571_11eb_833d_02cba411ec9drow1_col8\" class=\"data row1 col8\" >USD</td>\n",
       "                        <td id=\"T_4224bfd5_1571_11eb_833d_02cba411ec9drow1_col9\" class=\"data row1 col9\" >1.0000%</td>\n",
       "                        <td id=\"T_4224bfd5_1571_11eb_833d_02cba411ec9drow1_col10\" class=\"data row1 col10\" >LinAct360</td>\n",
       "            </tr>\n",
       "            <tr>\n",
       "                        <th id=\"T_4224bfd5_1571_11eb_833d_02cba411ec9dlevel0_row2\" class=\"row_heading level0 row2\" >2</th>\n",
       "                        <td id=\"T_4224bfd5_1571_11eb_833d_02cba411ec9drow2_col0\" class=\"data row2 col0\" >2022-04-14</td>\n",
       "                        <td id=\"T_4224bfd5_1571_11eb_833d_02cba411ec9drow2_col1\" class=\"data row2 col1\" >2023-04-14</td>\n",
       "                        <td id=\"T_4224bfd5_1571_11eb_833d_02cba411ec9drow2_col2\" class=\"data row2 col2\" >2023-04-14</td>\n",
       "                        <td id=\"T_4224bfd5_1571_11eb_833d_02cba411ec9drow2_col3\" class=\"data row2 col3\" >10,000,000.00</td>\n",
       "                        <td id=\"T_4224bfd5_1571_11eb_833d_02cba411ec9drow2_col4\" class=\"data row2 col4\" >10,000,000.00</td>\n",
       "                        <td id=\"T_4224bfd5_1571_11eb_833d_02cba411ec9drow2_col5\" class=\"data row2 col5\" >101,388.89</td>\n",
       "                        <td id=\"T_4224bfd5_1571_11eb_833d_02cba411ec9drow2_col6\" class=\"data row2 col6\" >True</td>\n",
       "                        <td id=\"T_4224bfd5_1571_11eb_833d_02cba411ec9drow2_col7\" class=\"data row2 col7\" >10,101,388.89</td>\n",
       "                        <td id=\"T_4224bfd5_1571_11eb_833d_02cba411ec9drow2_col8\" class=\"data row2 col8\" >USD</td>\n",
       "                        <td id=\"T_4224bfd5_1571_11eb_833d_02cba411ec9drow2_col9\" class=\"data row2 col9\" >1.0000%</td>\n",
       "                        <td id=\"T_4224bfd5_1571_11eb_833d_02cba411ec9drow2_col10\" class=\"data row2 col10\" >LinAct360</td>\n",
       "            </tr>\n",
       "    </tbody></table>"
      ],
      "text/plain": [
       "<pandas.io.formats.style.Styler at 0x7f1e88d73470>"
      ]
     },
     "execution_count": 9,
     "metadata": {},
     "output_type": "execute_result"
    }
   ],
   "source": [
    "aux.show_leg(op[0], 'FixedRateCashflow', '').style.format(frmt)"
   ]
  },
  {
   "cell_type": "code",
   "execution_count": 10,
   "metadata": {
    "ExecuteTime": {
     "end_time": "2020-10-23T20:49:35.196611Z",
     "start_time": "2020-10-23T20:49:35.179875Z"
    }
   },
   "outputs": [
    {
     "data": {
      "text/html": [
       "<style  type=\"text/css\" >\n",
       "</style><table id=\"T_4224bfd6_1571_11eb_833d_02cba411ec9d\" ><thead>    <tr>        <th class=\"blank level0\" ></th>        <th class=\"col_heading level0 col0\" >fecha_inicial</th>        <th class=\"col_heading level0 col1\" >fecha_final</th>        <th class=\"col_heading level0 col2\" >fecha_pago</th>        <th class=\"col_heading level0 col3\" >nominal</th>        <th class=\"col_heading level0 col4\" >amortizacion</th>        <th class=\"col_heading level0 col5\" >amort_es_flujo</th>        <th class=\"col_heading level0 col6\" >flujo</th>        <th class=\"col_heading level0 col7\" >moneda</th>        <th class=\"col_heading level0 col8\" >icp_inicial</th>        <th class=\"col_heading level0 col9\" >icp_final</th>        <th class=\"col_heading level0 col10\" >valor_tasa</th>        <th class=\"col_heading level0 col11\" >interes</th>        <th class=\"col_heading level0 col12\" >spread</th>        <th class=\"col_heading level0 col13\" >gearing</th>        <th class=\"col_heading level0 col14\" >tipo_tasa</th>    </tr></thead><tbody>\n",
       "                <tr>\n",
       "                        <th id=\"T_4224bfd6_1571_11eb_833d_02cba411ec9dlevel0_row0\" class=\"row_heading level0 row0\" >0</th>\n",
       "                        <td id=\"T_4224bfd6_1571_11eb_833d_02cba411ec9drow0_col0\" class=\"data row0 col0\" >2020-10-14</td>\n",
       "                        <td id=\"T_4224bfd6_1571_11eb_833d_02cba411ec9drow0_col1\" class=\"data row0 col1\" >2021-04-14</td>\n",
       "                        <td id=\"T_4224bfd6_1571_11eb_833d_02cba411ec9drow0_col2\" class=\"data row0 col2\" >2021-04-14</td>\n",
       "                        <td id=\"T_4224bfd6_1571_11eb_833d_02cba411ec9drow0_col3\" class=\"data row0 col3\" >-10,000,000.00</td>\n",
       "                        <td id=\"T_4224bfd6_1571_11eb_833d_02cba411ec9drow0_col4\" class=\"data row0 col4\" >0.00</td>\n",
       "                        <td id=\"T_4224bfd6_1571_11eb_833d_02cba411ec9drow0_col5\" class=\"data row0 col5\" >True</td>\n",
       "                        <td id=\"T_4224bfd6_1571_11eb_833d_02cba411ec9drow0_col6\" class=\"data row0 col6\" >0.00</td>\n",
       "                        <td id=\"T_4224bfd6_1571_11eb_833d_02cba411ec9drow0_col7\" class=\"data row0 col7\" >CLP</td>\n",
       "                        <td id=\"T_4224bfd6_1571_11eb_833d_02cba411ec9drow0_col8\" class=\"data row0 col8\" >1.000000</td>\n",
       "                        <td id=\"T_4224bfd6_1571_11eb_833d_02cba411ec9drow0_col9\" class=\"data row0 col9\" >1.000000</td>\n",
       "                        <td id=\"T_4224bfd6_1571_11eb_833d_02cba411ec9drow0_col10\" class=\"data row0 col10\" >0.0000%</td>\n",
       "                        <td id=\"T_4224bfd6_1571_11eb_833d_02cba411ec9drow0_col11\" class=\"data row0 col11\" >-0.00</td>\n",
       "                        <td id=\"T_4224bfd6_1571_11eb_833d_02cba411ec9drow0_col12\" class=\"data row0 col12\" >0.0000%</td>\n",
       "                        <td id=\"T_4224bfd6_1571_11eb_833d_02cba411ec9drow0_col13\" class=\"data row0 col13\" >1.000000</td>\n",
       "                        <td id=\"T_4224bfd6_1571_11eb_833d_02cba411ec9drow0_col14\" class=\"data row0 col14\" >LinAct360</td>\n",
       "            </tr>\n",
       "            <tr>\n",
       "                        <th id=\"T_4224bfd6_1571_11eb_833d_02cba411ec9dlevel0_row1\" class=\"row_heading level0 row1\" >1</th>\n",
       "                        <td id=\"T_4224bfd6_1571_11eb_833d_02cba411ec9drow1_col0\" class=\"data row1 col0\" >2021-04-14</td>\n",
       "                        <td id=\"T_4224bfd6_1571_11eb_833d_02cba411ec9drow1_col1\" class=\"data row1 col1\" >2022-04-14</td>\n",
       "                        <td id=\"T_4224bfd6_1571_11eb_833d_02cba411ec9drow1_col2\" class=\"data row1 col2\" >2022-04-14</td>\n",
       "                        <td id=\"T_4224bfd6_1571_11eb_833d_02cba411ec9drow1_col3\" class=\"data row1 col3\" >-10,000,000.00</td>\n",
       "                        <td id=\"T_4224bfd6_1571_11eb_833d_02cba411ec9drow1_col4\" class=\"data row1 col4\" >0.00</td>\n",
       "                        <td id=\"T_4224bfd6_1571_11eb_833d_02cba411ec9drow1_col5\" class=\"data row1 col5\" >True</td>\n",
       "                        <td id=\"T_4224bfd6_1571_11eb_833d_02cba411ec9drow1_col6\" class=\"data row1 col6\" >0.00</td>\n",
       "                        <td id=\"T_4224bfd6_1571_11eb_833d_02cba411ec9drow1_col7\" class=\"data row1 col7\" >CLP</td>\n",
       "                        <td id=\"T_4224bfd6_1571_11eb_833d_02cba411ec9drow1_col8\" class=\"data row1 col8\" >1.000000</td>\n",
       "                        <td id=\"T_4224bfd6_1571_11eb_833d_02cba411ec9drow1_col9\" class=\"data row1 col9\" >1.000000</td>\n",
       "                        <td id=\"T_4224bfd6_1571_11eb_833d_02cba411ec9drow1_col10\" class=\"data row1 col10\" >0.0000%</td>\n",
       "                        <td id=\"T_4224bfd6_1571_11eb_833d_02cba411ec9drow1_col11\" class=\"data row1 col11\" >-0.00</td>\n",
       "                        <td id=\"T_4224bfd6_1571_11eb_833d_02cba411ec9drow1_col12\" class=\"data row1 col12\" >0.0000%</td>\n",
       "                        <td id=\"T_4224bfd6_1571_11eb_833d_02cba411ec9drow1_col13\" class=\"data row1 col13\" >1.000000</td>\n",
       "                        <td id=\"T_4224bfd6_1571_11eb_833d_02cba411ec9drow1_col14\" class=\"data row1 col14\" >LinAct360</td>\n",
       "            </tr>\n",
       "            <tr>\n",
       "                        <th id=\"T_4224bfd6_1571_11eb_833d_02cba411ec9dlevel0_row2\" class=\"row_heading level0 row2\" >2</th>\n",
       "                        <td id=\"T_4224bfd6_1571_11eb_833d_02cba411ec9drow2_col0\" class=\"data row2 col0\" >2022-04-14</td>\n",
       "                        <td id=\"T_4224bfd6_1571_11eb_833d_02cba411ec9drow2_col1\" class=\"data row2 col1\" >2023-04-14</td>\n",
       "                        <td id=\"T_4224bfd6_1571_11eb_833d_02cba411ec9drow2_col2\" class=\"data row2 col2\" >2023-04-14</td>\n",
       "                        <td id=\"T_4224bfd6_1571_11eb_833d_02cba411ec9drow2_col3\" class=\"data row2 col3\" >-10,000,000.00</td>\n",
       "                        <td id=\"T_4224bfd6_1571_11eb_833d_02cba411ec9drow2_col4\" class=\"data row2 col4\" >-10,000,000.00</td>\n",
       "                        <td id=\"T_4224bfd6_1571_11eb_833d_02cba411ec9drow2_col5\" class=\"data row2 col5\" >True</td>\n",
       "                        <td id=\"T_4224bfd6_1571_11eb_833d_02cba411ec9drow2_col6\" class=\"data row2 col6\" >-10,000,000.00</td>\n",
       "                        <td id=\"T_4224bfd6_1571_11eb_833d_02cba411ec9drow2_col7\" class=\"data row2 col7\" >CLP</td>\n",
       "                        <td id=\"T_4224bfd6_1571_11eb_833d_02cba411ec9drow2_col8\" class=\"data row2 col8\" >1.000000</td>\n",
       "                        <td id=\"T_4224bfd6_1571_11eb_833d_02cba411ec9drow2_col9\" class=\"data row2 col9\" >1.000000</td>\n",
       "                        <td id=\"T_4224bfd6_1571_11eb_833d_02cba411ec9drow2_col10\" class=\"data row2 col10\" >0.0000%</td>\n",
       "                        <td id=\"T_4224bfd6_1571_11eb_833d_02cba411ec9drow2_col11\" class=\"data row2 col11\" >-0.00</td>\n",
       "                        <td id=\"T_4224bfd6_1571_11eb_833d_02cba411ec9drow2_col12\" class=\"data row2 col12\" >0.0000%</td>\n",
       "                        <td id=\"T_4224bfd6_1571_11eb_833d_02cba411ec9drow2_col13\" class=\"data row2 col13\" >1.000000</td>\n",
       "                        <td id=\"T_4224bfd6_1571_11eb_833d_02cba411ec9drow2_col14\" class=\"data row2 col14\" >LinAct360</td>\n",
       "            </tr>\n",
       "    </tbody></table>"
      ],
      "text/plain": [
       "<pandas.io.formats.style.Styler at 0x7f1e88d738d0>"
      ]
     },
     "execution_count": 10,
     "metadata": {},
     "output_type": "execute_result"
    }
   ],
   "source": [
    "aux.show_leg(op[1], 'IcpClpCashflow', '').style.format(frmt)"
   ]
  },
  {
   "cell_type": "markdown",
   "metadata": {},
   "source": [
    "#### Valor Presente Pata Fija"
   ]
  },
  {
   "cell_type": "code",
   "execution_count": 11,
   "metadata": {
    "ExecuteTime": {
     "end_time": "2020-10-23T20:49:35.212647Z",
     "start_time": "2020-10-23T20:49:35.208466Z"
    }
   },
   "outputs": [],
   "source": [
    "vp = Qcf.PresentValue()"
   ]
  },
  {
   "cell_type": "code",
   "execution_count": 12,
   "metadata": {
    "ExecuteTime": {
     "end_time": "2020-10-23T20:49:35.218852Z",
     "start_time": "2020-10-23T20:49:35.214905Z"
    }
   },
   "outputs": [],
   "source": [
    "fecha_val = Qcf.QCDate(14, 10, 2020)"
   ]
  },
  {
   "cell_type": "code",
   "execution_count": 13,
   "metadata": {
    "ExecuteTime": {
     "end_time": "2020-10-23T20:49:35.236432Z",
     "start_time": "2020-10-23T20:49:35.221467Z"
    }
   },
   "outputs": [
    {
     "name": "stdout",
     "output_type": "stream",
     "text": [
      "El valor presente de la pata fija es: USD 10,236,626.11\n"
     ]
    }
   ],
   "source": [
    "vp_fija = vp.pv(fecha_val, op[0], zcc)\n",
    "print(f'El valor presente de la pata fija es: USD {vp_fija:,.2f}')"
   ]
  },
  {
   "cell_type": "markdown",
   "metadata": {},
   "source": [
    "#### Valor Presente Pata Flotante"
   ]
  },
  {
   "cell_type": "code",
   "execution_count": 14,
   "metadata": {
    "ExecuteTime": {
     "end_time": "2020-10-23T20:49:35.242842Z",
     "start_time": "2020-10-23T20:49:35.239027Z"
    }
   },
   "outputs": [],
   "source": [
    "fwd = Qcf.ForwardRates()"
   ]
  },
  {
   "cell_type": "code",
   "execution_count": 15,
   "metadata": {
    "ExecuteTime": {
     "end_time": "2020-10-23T20:49:35.249789Z",
     "start_time": "2020-10-23T20:49:35.245851Z"
    }
   },
   "outputs": [],
   "source": [
    "fwd.set_rates_icp_clp_leg(fecha_val, 1.0, op[1], zcc)"
   ]
  },
  {
   "cell_type": "code",
   "execution_count": 16,
   "metadata": {
    "ExecuteTime": {
     "end_time": "2020-10-23T20:49:35.268874Z",
     "start_time": "2020-10-23T20:49:35.252476Z"
    }
   },
   "outputs": [
    {
     "data": {
      "text/html": [
       "<style  type=\"text/css\" >\n",
       "</style><table id=\"T_4224bfd7_1571_11eb_833d_02cba411ec9d\" ><thead>    <tr>        <th class=\"blank level0\" ></th>        <th class=\"col_heading level0 col0\" >fecha_inicial</th>        <th class=\"col_heading level0 col1\" >fecha_final</th>        <th class=\"col_heading level0 col2\" >fecha_pago</th>        <th class=\"col_heading level0 col3\" >nominal</th>        <th class=\"col_heading level0 col4\" >amortizacion</th>        <th class=\"col_heading level0 col5\" >amort_es_flujo</th>        <th class=\"col_heading level0 col6\" >flujo</th>        <th class=\"col_heading level0 col7\" >moneda</th>        <th class=\"col_heading level0 col8\" >icp_inicial</th>        <th class=\"col_heading level0 col9\" >icp_final</th>        <th class=\"col_heading level0 col10\" >valor_tasa</th>        <th class=\"col_heading level0 col11\" >interes</th>        <th class=\"col_heading level0 col12\" >spread</th>        <th class=\"col_heading level0 col13\" >gearing</th>        <th class=\"col_heading level0 col14\" >tipo_tasa</th>    </tr></thead><tbody>\n",
       "                <tr>\n",
       "                        <th id=\"T_4224bfd7_1571_11eb_833d_02cba411ec9dlevel0_row0\" class=\"row_heading level0 row0\" >0</th>\n",
       "                        <td id=\"T_4224bfd7_1571_11eb_833d_02cba411ec9drow0_col0\" class=\"data row0 col0\" >2020-10-14</td>\n",
       "                        <td id=\"T_4224bfd7_1571_11eb_833d_02cba411ec9drow0_col1\" class=\"data row0 col1\" >2021-04-14</td>\n",
       "                        <td id=\"T_4224bfd7_1571_11eb_833d_02cba411ec9drow0_col2\" class=\"data row0 col2\" >2021-04-14</td>\n",
       "                        <td id=\"T_4224bfd7_1571_11eb_833d_02cba411ec9drow0_col3\" class=\"data row0 col3\" >-10,000,000.00</td>\n",
       "                        <td id=\"T_4224bfd7_1571_11eb_833d_02cba411ec9drow0_col4\" class=\"data row0 col4\" >0.00</td>\n",
       "                        <td id=\"T_4224bfd7_1571_11eb_833d_02cba411ec9drow0_col5\" class=\"data row0 col5\" >True</td>\n",
       "                        <td id=\"T_4224bfd7_1571_11eb_833d_02cba411ec9drow0_col6\" class=\"data row0 col6\" >-3,739.71</td>\n",
       "                        <td id=\"T_4224bfd7_1571_11eb_833d_02cba411ec9drow0_col7\" class=\"data row0 col7\" >CLP</td>\n",
       "                        <td id=\"T_4224bfd7_1571_11eb_833d_02cba411ec9drow0_col8\" class=\"data row0 col8\" >1.000000</td>\n",
       "                        <td id=\"T_4224bfd7_1571_11eb_833d_02cba411ec9drow0_col9\" class=\"data row0 col9\" >1.000374</td>\n",
       "                        <td id=\"T_4224bfd7_1571_11eb_833d_02cba411ec9drow0_col10\" class=\"data row0 col10\" >0.0700%</td>\n",
       "                        <td id=\"T_4224bfd7_1571_11eb_833d_02cba411ec9drow0_col11\" class=\"data row0 col11\" >-3,538.89</td>\n",
       "                        <td id=\"T_4224bfd7_1571_11eb_833d_02cba411ec9drow0_col12\" class=\"data row0 col12\" >0.0000%</td>\n",
       "                        <td id=\"T_4224bfd7_1571_11eb_833d_02cba411ec9drow0_col13\" class=\"data row0 col13\" >1.000000</td>\n",
       "                        <td id=\"T_4224bfd7_1571_11eb_833d_02cba411ec9drow0_col14\" class=\"data row0 col14\" >LinAct360</td>\n",
       "            </tr>\n",
       "            <tr>\n",
       "                        <th id=\"T_4224bfd7_1571_11eb_833d_02cba411ec9dlevel0_row1\" class=\"row_heading level0 row1\" >1</th>\n",
       "                        <td id=\"T_4224bfd7_1571_11eb_833d_02cba411ec9drow1_col0\" class=\"data row1 col0\" >2021-04-14</td>\n",
       "                        <td id=\"T_4224bfd7_1571_11eb_833d_02cba411ec9drow1_col1\" class=\"data row1 col1\" >2022-04-14</td>\n",
       "                        <td id=\"T_4224bfd7_1571_11eb_833d_02cba411ec9drow1_col2\" class=\"data row1 col2\" >2022-04-14</td>\n",
       "                        <td id=\"T_4224bfd7_1571_11eb_833d_02cba411ec9drow1_col3\" class=\"data row1 col3\" >-10,000,000.00</td>\n",
       "                        <td id=\"T_4224bfd7_1571_11eb_833d_02cba411ec9drow1_col4\" class=\"data row1 col4\" >0.00</td>\n",
       "                        <td id=\"T_4224bfd7_1571_11eb_833d_02cba411ec9drow1_col5\" class=\"data row1 col5\" >True</td>\n",
       "                        <td id=\"T_4224bfd7_1571_11eb_833d_02cba411ec9drow1_col6\" class=\"data row1 col6\" >-5,874.97</td>\n",
       "                        <td id=\"T_4224bfd7_1571_11eb_833d_02cba411ec9drow1_col7\" class=\"data row1 col7\" >CLP</td>\n",
       "                        <td id=\"T_4224bfd7_1571_11eb_833d_02cba411ec9drow1_col8\" class=\"data row1 col8\" >1.000374</td>\n",
       "                        <td id=\"T_4224bfd7_1571_11eb_833d_02cba411ec9drow1_col9\" class=\"data row1 col9\" >1.000962</td>\n",
       "                        <td id=\"T_4224bfd7_1571_11eb_833d_02cba411ec9drow1_col10\" class=\"data row1 col10\" >0.0600%</td>\n",
       "                        <td id=\"T_4224bfd7_1571_11eb_833d_02cba411ec9drow1_col11\" class=\"data row1 col11\" >-6,083.33</td>\n",
       "                        <td id=\"T_4224bfd7_1571_11eb_833d_02cba411ec9drow1_col12\" class=\"data row1 col12\" >0.0000%</td>\n",
       "                        <td id=\"T_4224bfd7_1571_11eb_833d_02cba411ec9drow1_col13\" class=\"data row1 col13\" >1.000000</td>\n",
       "                        <td id=\"T_4224bfd7_1571_11eb_833d_02cba411ec9drow1_col14\" class=\"data row1 col14\" >LinAct360</td>\n",
       "            </tr>\n",
       "            <tr>\n",
       "                        <th id=\"T_4224bfd7_1571_11eb_833d_02cba411ec9dlevel0_row2\" class=\"row_heading level0 row2\" >2</th>\n",
       "                        <td id=\"T_4224bfd7_1571_11eb_833d_02cba411ec9drow2_col0\" class=\"data row2 col0\" >2022-04-14</td>\n",
       "                        <td id=\"T_4224bfd7_1571_11eb_833d_02cba411ec9drow2_col1\" class=\"data row2 col1\" >2023-04-14</td>\n",
       "                        <td id=\"T_4224bfd7_1571_11eb_833d_02cba411ec9drow2_col2\" class=\"data row2 col2\" >2023-04-14</td>\n",
       "                        <td id=\"T_4224bfd7_1571_11eb_833d_02cba411ec9drow2_col3\" class=\"data row2 col3\" >-10,000,000.00</td>\n",
       "                        <td id=\"T_4224bfd7_1571_11eb_833d_02cba411ec9drow2_col4\" class=\"data row2 col4\" >-10,000,000.00</td>\n",
       "                        <td id=\"T_4224bfd7_1571_11eb_833d_02cba411ec9drow2_col5\" class=\"data row2 col5\" >True</td>\n",
       "                        <td id=\"T_4224bfd7_1571_11eb_833d_02cba411ec9drow2_col6\" class=\"data row2 col6\" >-10,006,827.97</td>\n",
       "                        <td id=\"T_4224bfd7_1571_11eb_833d_02cba411ec9drow2_col7\" class=\"data row2 col7\" >CLP</td>\n",
       "                        <td id=\"T_4224bfd7_1571_11eb_833d_02cba411ec9drow2_col8\" class=\"data row2 col8\" >1.000962</td>\n",
       "                        <td id=\"T_4224bfd7_1571_11eb_833d_02cba411ec9drow2_col9\" class=\"data row2 col9\" >1.001645</td>\n",
       "                        <td id=\"T_4224bfd7_1571_11eb_833d_02cba411ec9drow2_col10\" class=\"data row2 col10\" >0.0700%</td>\n",
       "                        <td id=\"T_4224bfd7_1571_11eb_833d_02cba411ec9drow2_col11\" class=\"data row2 col11\" >-7,097.22</td>\n",
       "                        <td id=\"T_4224bfd7_1571_11eb_833d_02cba411ec9drow2_col12\" class=\"data row2 col12\" >0.0000%</td>\n",
       "                        <td id=\"T_4224bfd7_1571_11eb_833d_02cba411ec9drow2_col13\" class=\"data row2 col13\" >1.000000</td>\n",
       "                        <td id=\"T_4224bfd7_1571_11eb_833d_02cba411ec9drow2_col14\" class=\"data row2 col14\" >LinAct360</td>\n",
       "            </tr>\n",
       "    </tbody></table>"
      ],
      "text/plain": [
       "<pandas.io.formats.style.Styler at 0x7f1e88d86a58>"
      ]
     },
     "execution_count": 16,
     "metadata": {},
     "output_type": "execute_result"
    }
   ],
   "source": [
    "aux.show_leg(op[1], 'IcpClpCashflow', '').style.format(frmt)"
   ]
  },
  {
   "cell_type": "code",
   "execution_count": 17,
   "metadata": {
    "ExecuteTime": {
     "end_time": "2020-10-23T20:49:35.276298Z",
     "start_time": "2020-10-23T20:49:35.271186Z"
    }
   },
   "outputs": [
    {
     "name": "stdout",
     "output_type": "stream",
     "text": [
      "El valor presente de la pata flotante es: USD -10,000,000.00\n"
     ]
    }
   ],
   "source": [
    "vp_flot = vp.pv(fecha_val, op[1], zcc)\n",
    "print(f'El valor presente de la pata flotante es: USD {vp_flot:,.2f}')"
   ]
  },
  {
   "cell_type": "code",
   "execution_count": 18,
   "metadata": {
    "ExecuteTime": {
     "end_time": "2020-10-23T20:49:35.283361Z",
     "start_time": "2020-10-23T20:49:35.278400Z"
    },
    "hide_input": false
   },
   "outputs": [
    {
     "name": "stdout",
     "output_type": "stream",
     "text": [
      "Por lo tanto, el valor total de la operación es:\n",
      "Valor total: USD 236,626.11\n"
     ]
    }
   ],
   "source": [
    "print(f'Por lo tanto, el valor total de la operación es:\\nValor total: USD {vp_fija + vp_flot:,.2f}')"
   ]
  },
  {
   "cell_type": "markdown",
   "metadata": {
    "solution2": "shown",
    "solution2_first": true
   },
   "source": [
    "#### Ejercicio\n",
    "\n",
    "Haga el *pricing* de la operación: determine qué tasa fija hace que el valor total de la operación sea 0."
   ]
  },
  {
   "cell_type": "code",
   "execution_count": 37,
   "metadata": {
    "ExecuteTime": {
     "end_time": "2020-10-23T20:55:49.179617Z",
     "start_time": "2020-10-23T20:55:49.174107Z"
    },
    "solution2": "shown"
   },
   "outputs": [],
   "source": [
    "get_ois_sofr_solo_tasa = partial(\n",
    "    aux.get_ois_using_template,\n",
    "    template=aux.type_ois_template,\n",
    "    rp=Qcf.RecPay.RECEIVE,\n",
    "    type_ois=aux.TypeOis.SOFR,\n",
    "    notional=10000000,\n",
    "    start_date=Qcf.QCDate(14, 10, 2020),\n",
    "    tenor=Qcf.Tenor('2Y6M'),\n",
    "    spread=0.0,\n",
    "    gearing=1.0\n",
    ")"
   ]
  },
  {
   "cell_type": "code",
   "execution_count": 38,
   "metadata": {
    "ExecuteTime": {
     "end_time": "2020-10-23T20:56:23.979616Z",
     "start_time": "2020-10-23T20:56:23.914741Z"
    },
    "solution2": "shown"
   },
   "outputs": [
    {
     "data": {
      "text/plain": [
       "(<finrisk.QC_Financial_3.Leg at 0x7f1e88fef5e0>,\n",
       " <finrisk.QC_Financial_3.Leg at 0x7f1e893ae2a0>)"
      ]
     },
     "execution_count": 38,
     "metadata": {},
     "output_type": "execute_result"
    }
   ],
   "source": [
    "get_ois_sofr_solo_tasa(fixed_rate_value=0.0)"
   ]
  },
  {
   "cell_type": "code",
   "execution_count": 21,
   "metadata": {
    "ExecuteTime": {
     "end_time": "2020-10-23T20:49:35.377933Z",
     "start_time": "2020-10-23T20:49:35.372615Z"
    },
    "solution2": "shown"
   },
   "outputs": [],
   "source": [
    "def error(fixed_rate_value: float) -> float:\n",
    "    this_op = get_ois_sofr_solo_tasa(fixed_rate_value=fixed_rate_value)\n",
    "    err = vp.pv(fecha_val, this_op[0], zcc) - 10000000\n",
    "    return err"
   ]
  },
  {
   "cell_type": "code",
   "execution_count": 39,
   "metadata": {
    "ExecuteTime": {
     "end_time": "2020-10-23T21:00:38.261802Z",
     "start_time": "2020-10-23T21:00:38.197709Z"
    },
    "solution2": "shown"
   },
   "outputs": [
    {
     "name": "stdout",
     "output_type": "stream",
     "text": [
      "Error: 236,626.11\n"
     ]
    }
   ],
   "source": [
    "tasa = .01\n",
    "print(f'Error: {error(tasa):,.2f}')"
   ]
  },
  {
   "cell_type": "code",
   "execution_count": 40,
   "metadata": {
    "ExecuteTime": {
     "end_time": "2020-10-23T21:01:33.170066Z",
     "start_time": "2020-10-23T21:01:30.207905Z"
    },
    "solution2": "shown"
   },
   "outputs": [],
   "source": [
    "x = root_scalar(\n",
    "        error,\n",
    "        method='bisect',\n",
    "        bracket=[0.0, .02],\n",
    "        x0=.01,\n",
    "        xtol=.00000000000000001\n",
    ")"
   ]
  },
  {
   "cell_type": "code",
   "execution_count": 42,
   "metadata": {
    "ExecuteTime": {
     "end_time": "2020-10-23T21:02:15.818035Z",
     "start_time": "2020-10-23T21:02:15.813303Z"
    },
    "solution2": "shown"
   },
   "outputs": [
    {
     "name": "stdout",
     "output_type": "stream",
     "text": [
      "Tasa fija es: 0.06490559%\n"
     ]
    }
   ],
   "source": [
    "print(f'Tasa fija es: {x.root:.8%}')"
   ]
  },
  {
   "cell_type": "markdown",
   "metadata": {},
   "source": [
    "### Operación con Amortizaciones"
   ]
  },
  {
   "cell_type": "code",
   "execution_count": 43,
   "metadata": {
    "ExecuteTime": {
     "end_time": "2020-10-23T21:04:59.568707Z",
     "start_time": "2020-10-23T21:04:59.473064Z"
    }
   },
   "outputs": [
    {
     "data": {
      "text/plain": [
       "(<finrisk.QC_Financial_3.Leg at 0x7f1e88fef988>,\n",
       " <finrisk.QC_Financial_3.Leg at 0x7f1e88fef7e8>)"
      ]
     },
     "execution_count": 43,
     "metadata": {},
     "output_type": "execute_result"
    }
   ],
   "source": [
    "op2 = get_ois_sofr(\n",
    "    rp=Qcf.RecPay.RECEIVE,\n",
    "    notional=10000000,\n",
    "    start_date=Qcf.QCDate(14, 10, 2020),\n",
    "    tenor=Qcf.Tenor('4Y'),\n",
    "    fixed_rate_value=.01,\n",
    "    spread=0.0,\n",
    "    gearing=1.0\n",
    ")\n",
    "op2"
   ]
  },
  {
   "cell_type": "code",
   "execution_count": 44,
   "metadata": {
    "ExecuteTime": {
     "end_time": "2020-10-23T21:05:00.861500Z",
     "start_time": "2020-10-23T21:05:00.843750Z"
    }
   },
   "outputs": [
    {
     "data": {
      "text/html": [
       "<style  type=\"text/css\" >\n",
       "</style><table id=\"T_69fcbde8_1573_11eb_833d_02cba411ec9d\" ><thead>    <tr>        <th class=\"blank level0\" ></th>        <th class=\"col_heading level0 col0\" >fecha_inicial</th>        <th class=\"col_heading level0 col1\" >fecha_final</th>        <th class=\"col_heading level0 col2\" >fecha_pago</th>        <th class=\"col_heading level0 col3\" >nominal</th>        <th class=\"col_heading level0 col4\" >amortizacion</th>        <th class=\"col_heading level0 col5\" >interes</th>        <th class=\"col_heading level0 col6\" >amort_es_flujo</th>        <th class=\"col_heading level0 col7\" >flujo</th>        <th class=\"col_heading level0 col8\" >moneda</th>        <th class=\"col_heading level0 col9\" >valor_tasa</th>        <th class=\"col_heading level0 col10\" >tipo_tasa</th>    </tr></thead><tbody>\n",
       "                <tr>\n",
       "                        <th id=\"T_69fcbde8_1573_11eb_833d_02cba411ec9dlevel0_row0\" class=\"row_heading level0 row0\" >0</th>\n",
       "                        <td id=\"T_69fcbde8_1573_11eb_833d_02cba411ec9drow0_col0\" class=\"data row0 col0\" >2020-10-14</td>\n",
       "                        <td id=\"T_69fcbde8_1573_11eb_833d_02cba411ec9drow0_col1\" class=\"data row0 col1\" >2021-10-14</td>\n",
       "                        <td id=\"T_69fcbde8_1573_11eb_833d_02cba411ec9drow0_col2\" class=\"data row0 col2\" >2021-10-14</td>\n",
       "                        <td id=\"T_69fcbde8_1573_11eb_833d_02cba411ec9drow0_col3\" class=\"data row0 col3\" >10,000,000.00</td>\n",
       "                        <td id=\"T_69fcbde8_1573_11eb_833d_02cba411ec9drow0_col4\" class=\"data row0 col4\" >0.00</td>\n",
       "                        <td id=\"T_69fcbde8_1573_11eb_833d_02cba411ec9drow0_col5\" class=\"data row0 col5\" >101,388.89</td>\n",
       "                        <td id=\"T_69fcbde8_1573_11eb_833d_02cba411ec9drow0_col6\" class=\"data row0 col6\" >True</td>\n",
       "                        <td id=\"T_69fcbde8_1573_11eb_833d_02cba411ec9drow0_col7\" class=\"data row0 col7\" >101,388.89</td>\n",
       "                        <td id=\"T_69fcbde8_1573_11eb_833d_02cba411ec9drow0_col8\" class=\"data row0 col8\" >USD</td>\n",
       "                        <td id=\"T_69fcbde8_1573_11eb_833d_02cba411ec9drow0_col9\" class=\"data row0 col9\" >1.0000%</td>\n",
       "                        <td id=\"T_69fcbde8_1573_11eb_833d_02cba411ec9drow0_col10\" class=\"data row0 col10\" >LinAct360</td>\n",
       "            </tr>\n",
       "            <tr>\n",
       "                        <th id=\"T_69fcbde8_1573_11eb_833d_02cba411ec9dlevel0_row1\" class=\"row_heading level0 row1\" >1</th>\n",
       "                        <td id=\"T_69fcbde8_1573_11eb_833d_02cba411ec9drow1_col0\" class=\"data row1 col0\" >2021-10-14</td>\n",
       "                        <td id=\"T_69fcbde8_1573_11eb_833d_02cba411ec9drow1_col1\" class=\"data row1 col1\" >2022-10-14</td>\n",
       "                        <td id=\"T_69fcbde8_1573_11eb_833d_02cba411ec9drow1_col2\" class=\"data row1 col2\" >2022-10-14</td>\n",
       "                        <td id=\"T_69fcbde8_1573_11eb_833d_02cba411ec9drow1_col3\" class=\"data row1 col3\" >10,000,000.00</td>\n",
       "                        <td id=\"T_69fcbde8_1573_11eb_833d_02cba411ec9drow1_col4\" class=\"data row1 col4\" >0.00</td>\n",
       "                        <td id=\"T_69fcbde8_1573_11eb_833d_02cba411ec9drow1_col5\" class=\"data row1 col5\" >101,388.89</td>\n",
       "                        <td id=\"T_69fcbde8_1573_11eb_833d_02cba411ec9drow1_col6\" class=\"data row1 col6\" >True</td>\n",
       "                        <td id=\"T_69fcbde8_1573_11eb_833d_02cba411ec9drow1_col7\" class=\"data row1 col7\" >101,388.89</td>\n",
       "                        <td id=\"T_69fcbde8_1573_11eb_833d_02cba411ec9drow1_col8\" class=\"data row1 col8\" >USD</td>\n",
       "                        <td id=\"T_69fcbde8_1573_11eb_833d_02cba411ec9drow1_col9\" class=\"data row1 col9\" >1.0000%</td>\n",
       "                        <td id=\"T_69fcbde8_1573_11eb_833d_02cba411ec9drow1_col10\" class=\"data row1 col10\" >LinAct360</td>\n",
       "            </tr>\n",
       "            <tr>\n",
       "                        <th id=\"T_69fcbde8_1573_11eb_833d_02cba411ec9dlevel0_row2\" class=\"row_heading level0 row2\" >2</th>\n",
       "                        <td id=\"T_69fcbde8_1573_11eb_833d_02cba411ec9drow2_col0\" class=\"data row2 col0\" >2022-10-14</td>\n",
       "                        <td id=\"T_69fcbde8_1573_11eb_833d_02cba411ec9drow2_col1\" class=\"data row2 col1\" >2023-10-16</td>\n",
       "                        <td id=\"T_69fcbde8_1573_11eb_833d_02cba411ec9drow2_col2\" class=\"data row2 col2\" >2023-10-16</td>\n",
       "                        <td id=\"T_69fcbde8_1573_11eb_833d_02cba411ec9drow2_col3\" class=\"data row2 col3\" >10,000,000.00</td>\n",
       "                        <td id=\"T_69fcbde8_1573_11eb_833d_02cba411ec9drow2_col4\" class=\"data row2 col4\" >0.00</td>\n",
       "                        <td id=\"T_69fcbde8_1573_11eb_833d_02cba411ec9drow2_col5\" class=\"data row2 col5\" >101,944.44</td>\n",
       "                        <td id=\"T_69fcbde8_1573_11eb_833d_02cba411ec9drow2_col6\" class=\"data row2 col6\" >True</td>\n",
       "                        <td id=\"T_69fcbde8_1573_11eb_833d_02cba411ec9drow2_col7\" class=\"data row2 col7\" >101,944.44</td>\n",
       "                        <td id=\"T_69fcbde8_1573_11eb_833d_02cba411ec9drow2_col8\" class=\"data row2 col8\" >USD</td>\n",
       "                        <td id=\"T_69fcbde8_1573_11eb_833d_02cba411ec9drow2_col9\" class=\"data row2 col9\" >1.0000%</td>\n",
       "                        <td id=\"T_69fcbde8_1573_11eb_833d_02cba411ec9drow2_col10\" class=\"data row2 col10\" >LinAct360</td>\n",
       "            </tr>\n",
       "            <tr>\n",
       "                        <th id=\"T_69fcbde8_1573_11eb_833d_02cba411ec9dlevel0_row3\" class=\"row_heading level0 row3\" >3</th>\n",
       "                        <td id=\"T_69fcbde8_1573_11eb_833d_02cba411ec9drow3_col0\" class=\"data row3 col0\" >2023-10-16</td>\n",
       "                        <td id=\"T_69fcbde8_1573_11eb_833d_02cba411ec9drow3_col1\" class=\"data row3 col1\" >2024-10-15</td>\n",
       "                        <td id=\"T_69fcbde8_1573_11eb_833d_02cba411ec9drow3_col2\" class=\"data row3 col2\" >2024-10-15</td>\n",
       "                        <td id=\"T_69fcbde8_1573_11eb_833d_02cba411ec9drow3_col3\" class=\"data row3 col3\" >10,000,000.00</td>\n",
       "                        <td id=\"T_69fcbde8_1573_11eb_833d_02cba411ec9drow3_col4\" class=\"data row3 col4\" >10,000,000.00</td>\n",
       "                        <td id=\"T_69fcbde8_1573_11eb_833d_02cba411ec9drow3_col5\" class=\"data row3 col5\" >101,388.89</td>\n",
       "                        <td id=\"T_69fcbde8_1573_11eb_833d_02cba411ec9drow3_col6\" class=\"data row3 col6\" >True</td>\n",
       "                        <td id=\"T_69fcbde8_1573_11eb_833d_02cba411ec9drow3_col7\" class=\"data row3 col7\" >10,101,388.89</td>\n",
       "                        <td id=\"T_69fcbde8_1573_11eb_833d_02cba411ec9drow3_col8\" class=\"data row3 col8\" >USD</td>\n",
       "                        <td id=\"T_69fcbde8_1573_11eb_833d_02cba411ec9drow3_col9\" class=\"data row3 col9\" >1.0000%</td>\n",
       "                        <td id=\"T_69fcbde8_1573_11eb_833d_02cba411ec9drow3_col10\" class=\"data row3 col10\" >LinAct360</td>\n",
       "            </tr>\n",
       "    </tbody></table>"
      ],
      "text/plain": [
       "<pandas.io.formats.style.Styler at 0x7f1e88d736d8>"
      ]
     },
     "execution_count": 44,
     "metadata": {},
     "output_type": "execute_result"
    }
   ],
   "source": [
    "aux.show_leg(op2[0], 'FixedRateCashflow', '').style.format(frmt)"
   ]
  },
  {
   "cell_type": "code",
   "execution_count": 45,
   "metadata": {
    "ExecuteTime": {
     "end_time": "2020-10-23T21:05:05.379329Z",
     "start_time": "2020-10-23T21:05:05.359600Z"
    }
   },
   "outputs": [
    {
     "data": {
      "text/html": [
       "<style  type=\"text/css\" >\n",
       "</style><table id=\"T_6cae1230_1573_11eb_833d_02cba411ec9d\" ><thead>    <tr>        <th class=\"blank level0\" ></th>        <th class=\"col_heading level0 col0\" >fecha_inicial</th>        <th class=\"col_heading level0 col1\" >fecha_final</th>        <th class=\"col_heading level0 col2\" >fecha_pago</th>        <th class=\"col_heading level0 col3\" >nominal</th>        <th class=\"col_heading level0 col4\" >amortizacion</th>        <th class=\"col_heading level0 col5\" >amort_es_flujo</th>        <th class=\"col_heading level0 col6\" >flujo</th>        <th class=\"col_heading level0 col7\" >moneda</th>        <th class=\"col_heading level0 col8\" >icp_inicial</th>        <th class=\"col_heading level0 col9\" >icp_final</th>        <th class=\"col_heading level0 col10\" >valor_tasa</th>        <th class=\"col_heading level0 col11\" >interes</th>        <th class=\"col_heading level0 col12\" >spread</th>        <th class=\"col_heading level0 col13\" >gearing</th>        <th class=\"col_heading level0 col14\" >tipo_tasa</th>    </tr></thead><tbody>\n",
       "                <tr>\n",
       "                        <th id=\"T_6cae1230_1573_11eb_833d_02cba411ec9dlevel0_row0\" class=\"row_heading level0 row0\" >0</th>\n",
       "                        <td id=\"T_6cae1230_1573_11eb_833d_02cba411ec9drow0_col0\" class=\"data row0 col0\" >2020-10-14</td>\n",
       "                        <td id=\"T_6cae1230_1573_11eb_833d_02cba411ec9drow0_col1\" class=\"data row0 col1\" >2021-10-14</td>\n",
       "                        <td id=\"T_6cae1230_1573_11eb_833d_02cba411ec9drow0_col2\" class=\"data row0 col2\" >2021-10-14</td>\n",
       "                        <td id=\"T_6cae1230_1573_11eb_833d_02cba411ec9drow0_col3\" class=\"data row0 col3\" >-10,000,000.00</td>\n",
       "                        <td id=\"T_6cae1230_1573_11eb_833d_02cba411ec9drow0_col4\" class=\"data row0 col4\" >0.00</td>\n",
       "                        <td id=\"T_6cae1230_1573_11eb_833d_02cba411ec9drow0_col5\" class=\"data row0 col5\" >True</td>\n",
       "                        <td id=\"T_6cae1230_1573_11eb_833d_02cba411ec9drow0_col6\" class=\"data row0 col6\" >0.00</td>\n",
       "                        <td id=\"T_6cae1230_1573_11eb_833d_02cba411ec9drow0_col7\" class=\"data row0 col7\" >CLP</td>\n",
       "                        <td id=\"T_6cae1230_1573_11eb_833d_02cba411ec9drow0_col8\" class=\"data row0 col8\" >1.000000</td>\n",
       "                        <td id=\"T_6cae1230_1573_11eb_833d_02cba411ec9drow0_col9\" class=\"data row0 col9\" >1.000000</td>\n",
       "                        <td id=\"T_6cae1230_1573_11eb_833d_02cba411ec9drow0_col10\" class=\"data row0 col10\" >0.0000%</td>\n",
       "                        <td id=\"T_6cae1230_1573_11eb_833d_02cba411ec9drow0_col11\" class=\"data row0 col11\" >-0.00</td>\n",
       "                        <td id=\"T_6cae1230_1573_11eb_833d_02cba411ec9drow0_col12\" class=\"data row0 col12\" >0.0000%</td>\n",
       "                        <td id=\"T_6cae1230_1573_11eb_833d_02cba411ec9drow0_col13\" class=\"data row0 col13\" >1.000000</td>\n",
       "                        <td id=\"T_6cae1230_1573_11eb_833d_02cba411ec9drow0_col14\" class=\"data row0 col14\" >LinAct360</td>\n",
       "            </tr>\n",
       "            <tr>\n",
       "                        <th id=\"T_6cae1230_1573_11eb_833d_02cba411ec9dlevel0_row1\" class=\"row_heading level0 row1\" >1</th>\n",
       "                        <td id=\"T_6cae1230_1573_11eb_833d_02cba411ec9drow1_col0\" class=\"data row1 col0\" >2021-10-14</td>\n",
       "                        <td id=\"T_6cae1230_1573_11eb_833d_02cba411ec9drow1_col1\" class=\"data row1 col1\" >2022-10-14</td>\n",
       "                        <td id=\"T_6cae1230_1573_11eb_833d_02cba411ec9drow1_col2\" class=\"data row1 col2\" >2022-10-14</td>\n",
       "                        <td id=\"T_6cae1230_1573_11eb_833d_02cba411ec9drow1_col3\" class=\"data row1 col3\" >-10,000,000.00</td>\n",
       "                        <td id=\"T_6cae1230_1573_11eb_833d_02cba411ec9drow1_col4\" class=\"data row1 col4\" >0.00</td>\n",
       "                        <td id=\"T_6cae1230_1573_11eb_833d_02cba411ec9drow1_col5\" class=\"data row1 col5\" >True</td>\n",
       "                        <td id=\"T_6cae1230_1573_11eb_833d_02cba411ec9drow1_col6\" class=\"data row1 col6\" >0.00</td>\n",
       "                        <td id=\"T_6cae1230_1573_11eb_833d_02cba411ec9drow1_col7\" class=\"data row1 col7\" >CLP</td>\n",
       "                        <td id=\"T_6cae1230_1573_11eb_833d_02cba411ec9drow1_col8\" class=\"data row1 col8\" >1.000000</td>\n",
       "                        <td id=\"T_6cae1230_1573_11eb_833d_02cba411ec9drow1_col9\" class=\"data row1 col9\" >1.000000</td>\n",
       "                        <td id=\"T_6cae1230_1573_11eb_833d_02cba411ec9drow1_col10\" class=\"data row1 col10\" >0.0000%</td>\n",
       "                        <td id=\"T_6cae1230_1573_11eb_833d_02cba411ec9drow1_col11\" class=\"data row1 col11\" >-0.00</td>\n",
       "                        <td id=\"T_6cae1230_1573_11eb_833d_02cba411ec9drow1_col12\" class=\"data row1 col12\" >0.0000%</td>\n",
       "                        <td id=\"T_6cae1230_1573_11eb_833d_02cba411ec9drow1_col13\" class=\"data row1 col13\" >1.000000</td>\n",
       "                        <td id=\"T_6cae1230_1573_11eb_833d_02cba411ec9drow1_col14\" class=\"data row1 col14\" >LinAct360</td>\n",
       "            </tr>\n",
       "            <tr>\n",
       "                        <th id=\"T_6cae1230_1573_11eb_833d_02cba411ec9dlevel0_row2\" class=\"row_heading level0 row2\" >2</th>\n",
       "                        <td id=\"T_6cae1230_1573_11eb_833d_02cba411ec9drow2_col0\" class=\"data row2 col0\" >2022-10-14</td>\n",
       "                        <td id=\"T_6cae1230_1573_11eb_833d_02cba411ec9drow2_col1\" class=\"data row2 col1\" >2023-10-16</td>\n",
       "                        <td id=\"T_6cae1230_1573_11eb_833d_02cba411ec9drow2_col2\" class=\"data row2 col2\" >2023-10-16</td>\n",
       "                        <td id=\"T_6cae1230_1573_11eb_833d_02cba411ec9drow2_col3\" class=\"data row2 col3\" >-10,000,000.00</td>\n",
       "                        <td id=\"T_6cae1230_1573_11eb_833d_02cba411ec9drow2_col4\" class=\"data row2 col4\" >0.00</td>\n",
       "                        <td id=\"T_6cae1230_1573_11eb_833d_02cba411ec9drow2_col5\" class=\"data row2 col5\" >True</td>\n",
       "                        <td id=\"T_6cae1230_1573_11eb_833d_02cba411ec9drow2_col6\" class=\"data row2 col6\" >0.00</td>\n",
       "                        <td id=\"T_6cae1230_1573_11eb_833d_02cba411ec9drow2_col7\" class=\"data row2 col7\" >CLP</td>\n",
       "                        <td id=\"T_6cae1230_1573_11eb_833d_02cba411ec9drow2_col8\" class=\"data row2 col8\" >1.000000</td>\n",
       "                        <td id=\"T_6cae1230_1573_11eb_833d_02cba411ec9drow2_col9\" class=\"data row2 col9\" >1.000000</td>\n",
       "                        <td id=\"T_6cae1230_1573_11eb_833d_02cba411ec9drow2_col10\" class=\"data row2 col10\" >0.0000%</td>\n",
       "                        <td id=\"T_6cae1230_1573_11eb_833d_02cba411ec9drow2_col11\" class=\"data row2 col11\" >-0.00</td>\n",
       "                        <td id=\"T_6cae1230_1573_11eb_833d_02cba411ec9drow2_col12\" class=\"data row2 col12\" >0.0000%</td>\n",
       "                        <td id=\"T_6cae1230_1573_11eb_833d_02cba411ec9drow2_col13\" class=\"data row2 col13\" >1.000000</td>\n",
       "                        <td id=\"T_6cae1230_1573_11eb_833d_02cba411ec9drow2_col14\" class=\"data row2 col14\" >LinAct360</td>\n",
       "            </tr>\n",
       "            <tr>\n",
       "                        <th id=\"T_6cae1230_1573_11eb_833d_02cba411ec9dlevel0_row3\" class=\"row_heading level0 row3\" >3</th>\n",
       "                        <td id=\"T_6cae1230_1573_11eb_833d_02cba411ec9drow3_col0\" class=\"data row3 col0\" >2023-10-16</td>\n",
       "                        <td id=\"T_6cae1230_1573_11eb_833d_02cba411ec9drow3_col1\" class=\"data row3 col1\" >2024-10-15</td>\n",
       "                        <td id=\"T_6cae1230_1573_11eb_833d_02cba411ec9drow3_col2\" class=\"data row3 col2\" >2024-10-15</td>\n",
       "                        <td id=\"T_6cae1230_1573_11eb_833d_02cba411ec9drow3_col3\" class=\"data row3 col3\" >-10,000,000.00</td>\n",
       "                        <td id=\"T_6cae1230_1573_11eb_833d_02cba411ec9drow3_col4\" class=\"data row3 col4\" >-10,000,000.00</td>\n",
       "                        <td id=\"T_6cae1230_1573_11eb_833d_02cba411ec9drow3_col5\" class=\"data row3 col5\" >True</td>\n",
       "                        <td id=\"T_6cae1230_1573_11eb_833d_02cba411ec9drow3_col6\" class=\"data row3 col6\" >-10,000,000.00</td>\n",
       "                        <td id=\"T_6cae1230_1573_11eb_833d_02cba411ec9drow3_col7\" class=\"data row3 col7\" >CLP</td>\n",
       "                        <td id=\"T_6cae1230_1573_11eb_833d_02cba411ec9drow3_col8\" class=\"data row3 col8\" >1.000000</td>\n",
       "                        <td id=\"T_6cae1230_1573_11eb_833d_02cba411ec9drow3_col9\" class=\"data row3 col9\" >1.000000</td>\n",
       "                        <td id=\"T_6cae1230_1573_11eb_833d_02cba411ec9drow3_col10\" class=\"data row3 col10\" >0.0000%</td>\n",
       "                        <td id=\"T_6cae1230_1573_11eb_833d_02cba411ec9drow3_col11\" class=\"data row3 col11\" >-0.00</td>\n",
       "                        <td id=\"T_6cae1230_1573_11eb_833d_02cba411ec9drow3_col12\" class=\"data row3 col12\" >0.0000%</td>\n",
       "                        <td id=\"T_6cae1230_1573_11eb_833d_02cba411ec9drow3_col13\" class=\"data row3 col13\" >1.000000</td>\n",
       "                        <td id=\"T_6cae1230_1573_11eb_833d_02cba411ec9drow3_col14\" class=\"data row3 col14\" >LinAct360</td>\n",
       "            </tr>\n",
       "    </tbody></table>"
      ],
      "text/plain": [
       "<pandas.io.formats.style.Styler at 0x7f1e88d24a90>"
      ]
     },
     "execution_count": 45,
     "metadata": {},
     "output_type": "execute_result"
    }
   ],
   "source": [
    "aux.show_leg(op2[1], 'IcpClpCashflow', '').style.format(frmt)"
   ]
  },
  {
   "cell_type": "markdown",
   "metadata": {},
   "source": [
    "Vamos a agregar una amortización por la mitad del nocional en el segundo cupón de cada pata. Veamos primero la pata fija."
   ]
  },
  {
   "cell_type": "code",
   "execution_count": 46,
   "metadata": {
    "ExecuteTime": {
     "end_time": "2020-10-23T21:07:31.996743Z",
     "start_time": "2020-10-23T21:07:31.991996Z"
    }
   },
   "outputs": [],
   "source": [
    "cshflw = op2[0].get_cashflow_at(1)\n",
    "cshflw.set_amortization(5000000)"
   ]
  },
  {
   "cell_type": "code",
   "execution_count": 47,
   "metadata": {
    "ExecuteTime": {
     "end_time": "2020-10-23T21:07:39.142712Z",
     "start_time": "2020-10-23T21:07:39.123734Z"
    }
   },
   "outputs": [
    {
     "data": {
      "text/html": [
       "<style  type=\"text/css\" >\n",
       "</style><table id=\"T_c8547dea_1573_11eb_833d_02cba411ec9d\" ><thead>    <tr>        <th class=\"blank level0\" ></th>        <th class=\"col_heading level0 col0\" >fecha_inicial</th>        <th class=\"col_heading level0 col1\" >fecha_final</th>        <th class=\"col_heading level0 col2\" >fecha_pago</th>        <th class=\"col_heading level0 col3\" >nominal</th>        <th class=\"col_heading level0 col4\" >amortizacion</th>        <th class=\"col_heading level0 col5\" >interes</th>        <th class=\"col_heading level0 col6\" >amort_es_flujo</th>        <th class=\"col_heading level0 col7\" >flujo</th>        <th class=\"col_heading level0 col8\" >moneda</th>        <th class=\"col_heading level0 col9\" >valor_tasa</th>        <th class=\"col_heading level0 col10\" >tipo_tasa</th>    </tr></thead><tbody>\n",
       "                <tr>\n",
       "                        <th id=\"T_c8547dea_1573_11eb_833d_02cba411ec9dlevel0_row0\" class=\"row_heading level0 row0\" >0</th>\n",
       "                        <td id=\"T_c8547dea_1573_11eb_833d_02cba411ec9drow0_col0\" class=\"data row0 col0\" >2020-10-14</td>\n",
       "                        <td id=\"T_c8547dea_1573_11eb_833d_02cba411ec9drow0_col1\" class=\"data row0 col1\" >2021-10-14</td>\n",
       "                        <td id=\"T_c8547dea_1573_11eb_833d_02cba411ec9drow0_col2\" class=\"data row0 col2\" >2021-10-14</td>\n",
       "                        <td id=\"T_c8547dea_1573_11eb_833d_02cba411ec9drow0_col3\" class=\"data row0 col3\" >10,000,000.00</td>\n",
       "                        <td id=\"T_c8547dea_1573_11eb_833d_02cba411ec9drow0_col4\" class=\"data row0 col4\" >0.00</td>\n",
       "                        <td id=\"T_c8547dea_1573_11eb_833d_02cba411ec9drow0_col5\" class=\"data row0 col5\" >101,388.89</td>\n",
       "                        <td id=\"T_c8547dea_1573_11eb_833d_02cba411ec9drow0_col6\" class=\"data row0 col6\" >True</td>\n",
       "                        <td id=\"T_c8547dea_1573_11eb_833d_02cba411ec9drow0_col7\" class=\"data row0 col7\" >101,388.89</td>\n",
       "                        <td id=\"T_c8547dea_1573_11eb_833d_02cba411ec9drow0_col8\" class=\"data row0 col8\" >USD</td>\n",
       "                        <td id=\"T_c8547dea_1573_11eb_833d_02cba411ec9drow0_col9\" class=\"data row0 col9\" >1.0000%</td>\n",
       "                        <td id=\"T_c8547dea_1573_11eb_833d_02cba411ec9drow0_col10\" class=\"data row0 col10\" >LinAct360</td>\n",
       "            </tr>\n",
       "            <tr>\n",
       "                        <th id=\"T_c8547dea_1573_11eb_833d_02cba411ec9dlevel0_row1\" class=\"row_heading level0 row1\" >1</th>\n",
       "                        <td id=\"T_c8547dea_1573_11eb_833d_02cba411ec9drow1_col0\" class=\"data row1 col0\" >2021-10-14</td>\n",
       "                        <td id=\"T_c8547dea_1573_11eb_833d_02cba411ec9drow1_col1\" class=\"data row1 col1\" >2022-10-14</td>\n",
       "                        <td id=\"T_c8547dea_1573_11eb_833d_02cba411ec9drow1_col2\" class=\"data row1 col2\" >2022-10-14</td>\n",
       "                        <td id=\"T_c8547dea_1573_11eb_833d_02cba411ec9drow1_col3\" class=\"data row1 col3\" >10,000,000.00</td>\n",
       "                        <td id=\"T_c8547dea_1573_11eb_833d_02cba411ec9drow1_col4\" class=\"data row1 col4\" >5,000,000.00</td>\n",
       "                        <td id=\"T_c8547dea_1573_11eb_833d_02cba411ec9drow1_col5\" class=\"data row1 col5\" >101,388.89</td>\n",
       "                        <td id=\"T_c8547dea_1573_11eb_833d_02cba411ec9drow1_col6\" class=\"data row1 col6\" >True</td>\n",
       "                        <td id=\"T_c8547dea_1573_11eb_833d_02cba411ec9drow1_col7\" class=\"data row1 col7\" >5,101,388.89</td>\n",
       "                        <td id=\"T_c8547dea_1573_11eb_833d_02cba411ec9drow1_col8\" class=\"data row1 col8\" >USD</td>\n",
       "                        <td id=\"T_c8547dea_1573_11eb_833d_02cba411ec9drow1_col9\" class=\"data row1 col9\" >1.0000%</td>\n",
       "                        <td id=\"T_c8547dea_1573_11eb_833d_02cba411ec9drow1_col10\" class=\"data row1 col10\" >LinAct360</td>\n",
       "            </tr>\n",
       "            <tr>\n",
       "                        <th id=\"T_c8547dea_1573_11eb_833d_02cba411ec9dlevel0_row2\" class=\"row_heading level0 row2\" >2</th>\n",
       "                        <td id=\"T_c8547dea_1573_11eb_833d_02cba411ec9drow2_col0\" class=\"data row2 col0\" >2022-10-14</td>\n",
       "                        <td id=\"T_c8547dea_1573_11eb_833d_02cba411ec9drow2_col1\" class=\"data row2 col1\" >2023-10-16</td>\n",
       "                        <td id=\"T_c8547dea_1573_11eb_833d_02cba411ec9drow2_col2\" class=\"data row2 col2\" >2023-10-16</td>\n",
       "                        <td id=\"T_c8547dea_1573_11eb_833d_02cba411ec9drow2_col3\" class=\"data row2 col3\" >10,000,000.00</td>\n",
       "                        <td id=\"T_c8547dea_1573_11eb_833d_02cba411ec9drow2_col4\" class=\"data row2 col4\" >0.00</td>\n",
       "                        <td id=\"T_c8547dea_1573_11eb_833d_02cba411ec9drow2_col5\" class=\"data row2 col5\" >101,944.44</td>\n",
       "                        <td id=\"T_c8547dea_1573_11eb_833d_02cba411ec9drow2_col6\" class=\"data row2 col6\" >True</td>\n",
       "                        <td id=\"T_c8547dea_1573_11eb_833d_02cba411ec9drow2_col7\" class=\"data row2 col7\" >101,944.44</td>\n",
       "                        <td id=\"T_c8547dea_1573_11eb_833d_02cba411ec9drow2_col8\" class=\"data row2 col8\" >USD</td>\n",
       "                        <td id=\"T_c8547dea_1573_11eb_833d_02cba411ec9drow2_col9\" class=\"data row2 col9\" >1.0000%</td>\n",
       "                        <td id=\"T_c8547dea_1573_11eb_833d_02cba411ec9drow2_col10\" class=\"data row2 col10\" >LinAct360</td>\n",
       "            </tr>\n",
       "            <tr>\n",
       "                        <th id=\"T_c8547dea_1573_11eb_833d_02cba411ec9dlevel0_row3\" class=\"row_heading level0 row3\" >3</th>\n",
       "                        <td id=\"T_c8547dea_1573_11eb_833d_02cba411ec9drow3_col0\" class=\"data row3 col0\" >2023-10-16</td>\n",
       "                        <td id=\"T_c8547dea_1573_11eb_833d_02cba411ec9drow3_col1\" class=\"data row3 col1\" >2024-10-15</td>\n",
       "                        <td id=\"T_c8547dea_1573_11eb_833d_02cba411ec9drow3_col2\" class=\"data row3 col2\" >2024-10-15</td>\n",
       "                        <td id=\"T_c8547dea_1573_11eb_833d_02cba411ec9drow3_col3\" class=\"data row3 col3\" >10,000,000.00</td>\n",
       "                        <td id=\"T_c8547dea_1573_11eb_833d_02cba411ec9drow3_col4\" class=\"data row3 col4\" >10,000,000.00</td>\n",
       "                        <td id=\"T_c8547dea_1573_11eb_833d_02cba411ec9drow3_col5\" class=\"data row3 col5\" >101,388.89</td>\n",
       "                        <td id=\"T_c8547dea_1573_11eb_833d_02cba411ec9drow3_col6\" class=\"data row3 col6\" >True</td>\n",
       "                        <td id=\"T_c8547dea_1573_11eb_833d_02cba411ec9drow3_col7\" class=\"data row3 col7\" >10,101,388.89</td>\n",
       "                        <td id=\"T_c8547dea_1573_11eb_833d_02cba411ec9drow3_col8\" class=\"data row3 col8\" >USD</td>\n",
       "                        <td id=\"T_c8547dea_1573_11eb_833d_02cba411ec9drow3_col9\" class=\"data row3 col9\" >1.0000%</td>\n",
       "                        <td id=\"T_c8547dea_1573_11eb_833d_02cba411ec9drow3_col10\" class=\"data row3 col10\" >LinAct360</td>\n",
       "            </tr>\n",
       "    </tbody></table>"
      ],
      "text/plain": [
       "<pandas.io.formats.style.Styler at 0x7f1e88d49b38>"
      ]
     },
     "execution_count": 47,
     "metadata": {},
     "output_type": "execute_result"
    }
   ],
   "source": [
    "aux.show_leg(op2[0], 'FixedRateCashflow', '').style.format(frmt)"
   ]
  },
  {
   "cell_type": "markdown",
   "metadata": {},
   "source": [
    "Vemos que la amortización queda bien ingresada, sin embargo, los flujos siguientes no la consideran. Vamos a arreglar eso:"
   ]
  },
  {
   "cell_type": "code",
   "execution_count": 48,
   "metadata": {
    "ExecuteTime": {
     "end_time": "2020-10-23T21:08:18.878719Z",
     "start_time": "2020-10-23T21:08:18.874292Z"
    }
   },
   "outputs": [],
   "source": [
    "cshflw = op2[0].get_cashflow_at(2)\n",
    "cshflw.set_nominal(5000000)\n",
    "\n",
    "cshflw = op2[0].get_cashflow_at(3)\n",
    "cshflw.set_nominal(5000000)\n",
    "cshflw.set_amortization(5000000)"
   ]
  },
  {
   "cell_type": "code",
   "execution_count": 49,
   "metadata": {
    "ExecuteTime": {
     "end_time": "2020-10-23T21:08:22.374827Z",
     "start_time": "2020-10-23T21:08:22.359654Z"
    }
   },
   "outputs": [
    {
     "data": {
      "text/html": [
       "<style  type=\"text/css\" >\n",
       "</style><table id=\"T_e2198612_1573_11eb_833d_02cba411ec9d\" ><thead>    <tr>        <th class=\"blank level0\" ></th>        <th class=\"col_heading level0 col0\" >fecha_inicial</th>        <th class=\"col_heading level0 col1\" >fecha_final</th>        <th class=\"col_heading level0 col2\" >fecha_pago</th>        <th class=\"col_heading level0 col3\" >nominal</th>        <th class=\"col_heading level0 col4\" >amortizacion</th>        <th class=\"col_heading level0 col5\" >interes</th>        <th class=\"col_heading level0 col6\" >amort_es_flujo</th>        <th class=\"col_heading level0 col7\" >flujo</th>        <th class=\"col_heading level0 col8\" >moneda</th>        <th class=\"col_heading level0 col9\" >valor_tasa</th>        <th class=\"col_heading level0 col10\" >tipo_tasa</th>    </tr></thead><tbody>\n",
       "                <tr>\n",
       "                        <th id=\"T_e2198612_1573_11eb_833d_02cba411ec9dlevel0_row0\" class=\"row_heading level0 row0\" >0</th>\n",
       "                        <td id=\"T_e2198612_1573_11eb_833d_02cba411ec9drow0_col0\" class=\"data row0 col0\" >2020-10-14</td>\n",
       "                        <td id=\"T_e2198612_1573_11eb_833d_02cba411ec9drow0_col1\" class=\"data row0 col1\" >2021-10-14</td>\n",
       "                        <td id=\"T_e2198612_1573_11eb_833d_02cba411ec9drow0_col2\" class=\"data row0 col2\" >2021-10-14</td>\n",
       "                        <td id=\"T_e2198612_1573_11eb_833d_02cba411ec9drow0_col3\" class=\"data row0 col3\" >10,000,000.00</td>\n",
       "                        <td id=\"T_e2198612_1573_11eb_833d_02cba411ec9drow0_col4\" class=\"data row0 col4\" >0.00</td>\n",
       "                        <td id=\"T_e2198612_1573_11eb_833d_02cba411ec9drow0_col5\" class=\"data row0 col5\" >101,388.89</td>\n",
       "                        <td id=\"T_e2198612_1573_11eb_833d_02cba411ec9drow0_col6\" class=\"data row0 col6\" >True</td>\n",
       "                        <td id=\"T_e2198612_1573_11eb_833d_02cba411ec9drow0_col7\" class=\"data row0 col7\" >101,388.89</td>\n",
       "                        <td id=\"T_e2198612_1573_11eb_833d_02cba411ec9drow0_col8\" class=\"data row0 col8\" >USD</td>\n",
       "                        <td id=\"T_e2198612_1573_11eb_833d_02cba411ec9drow0_col9\" class=\"data row0 col9\" >1.0000%</td>\n",
       "                        <td id=\"T_e2198612_1573_11eb_833d_02cba411ec9drow0_col10\" class=\"data row0 col10\" >LinAct360</td>\n",
       "            </tr>\n",
       "            <tr>\n",
       "                        <th id=\"T_e2198612_1573_11eb_833d_02cba411ec9dlevel0_row1\" class=\"row_heading level0 row1\" >1</th>\n",
       "                        <td id=\"T_e2198612_1573_11eb_833d_02cba411ec9drow1_col0\" class=\"data row1 col0\" >2021-10-14</td>\n",
       "                        <td id=\"T_e2198612_1573_11eb_833d_02cba411ec9drow1_col1\" class=\"data row1 col1\" >2022-10-14</td>\n",
       "                        <td id=\"T_e2198612_1573_11eb_833d_02cba411ec9drow1_col2\" class=\"data row1 col2\" >2022-10-14</td>\n",
       "                        <td id=\"T_e2198612_1573_11eb_833d_02cba411ec9drow1_col3\" class=\"data row1 col3\" >10,000,000.00</td>\n",
       "                        <td id=\"T_e2198612_1573_11eb_833d_02cba411ec9drow1_col4\" class=\"data row1 col4\" >5,000,000.00</td>\n",
       "                        <td id=\"T_e2198612_1573_11eb_833d_02cba411ec9drow1_col5\" class=\"data row1 col5\" >101,388.89</td>\n",
       "                        <td id=\"T_e2198612_1573_11eb_833d_02cba411ec9drow1_col6\" class=\"data row1 col6\" >True</td>\n",
       "                        <td id=\"T_e2198612_1573_11eb_833d_02cba411ec9drow1_col7\" class=\"data row1 col7\" >5,101,388.89</td>\n",
       "                        <td id=\"T_e2198612_1573_11eb_833d_02cba411ec9drow1_col8\" class=\"data row1 col8\" >USD</td>\n",
       "                        <td id=\"T_e2198612_1573_11eb_833d_02cba411ec9drow1_col9\" class=\"data row1 col9\" >1.0000%</td>\n",
       "                        <td id=\"T_e2198612_1573_11eb_833d_02cba411ec9drow1_col10\" class=\"data row1 col10\" >LinAct360</td>\n",
       "            </tr>\n",
       "            <tr>\n",
       "                        <th id=\"T_e2198612_1573_11eb_833d_02cba411ec9dlevel0_row2\" class=\"row_heading level0 row2\" >2</th>\n",
       "                        <td id=\"T_e2198612_1573_11eb_833d_02cba411ec9drow2_col0\" class=\"data row2 col0\" >2022-10-14</td>\n",
       "                        <td id=\"T_e2198612_1573_11eb_833d_02cba411ec9drow2_col1\" class=\"data row2 col1\" >2023-10-16</td>\n",
       "                        <td id=\"T_e2198612_1573_11eb_833d_02cba411ec9drow2_col2\" class=\"data row2 col2\" >2023-10-16</td>\n",
       "                        <td id=\"T_e2198612_1573_11eb_833d_02cba411ec9drow2_col3\" class=\"data row2 col3\" >5,000,000.00</td>\n",
       "                        <td id=\"T_e2198612_1573_11eb_833d_02cba411ec9drow2_col4\" class=\"data row2 col4\" >0.00</td>\n",
       "                        <td id=\"T_e2198612_1573_11eb_833d_02cba411ec9drow2_col5\" class=\"data row2 col5\" >50,972.22</td>\n",
       "                        <td id=\"T_e2198612_1573_11eb_833d_02cba411ec9drow2_col6\" class=\"data row2 col6\" >True</td>\n",
       "                        <td id=\"T_e2198612_1573_11eb_833d_02cba411ec9drow2_col7\" class=\"data row2 col7\" >50,972.22</td>\n",
       "                        <td id=\"T_e2198612_1573_11eb_833d_02cba411ec9drow2_col8\" class=\"data row2 col8\" >USD</td>\n",
       "                        <td id=\"T_e2198612_1573_11eb_833d_02cba411ec9drow2_col9\" class=\"data row2 col9\" >1.0000%</td>\n",
       "                        <td id=\"T_e2198612_1573_11eb_833d_02cba411ec9drow2_col10\" class=\"data row2 col10\" >LinAct360</td>\n",
       "            </tr>\n",
       "            <tr>\n",
       "                        <th id=\"T_e2198612_1573_11eb_833d_02cba411ec9dlevel0_row3\" class=\"row_heading level0 row3\" >3</th>\n",
       "                        <td id=\"T_e2198612_1573_11eb_833d_02cba411ec9drow3_col0\" class=\"data row3 col0\" >2023-10-16</td>\n",
       "                        <td id=\"T_e2198612_1573_11eb_833d_02cba411ec9drow3_col1\" class=\"data row3 col1\" >2024-10-15</td>\n",
       "                        <td id=\"T_e2198612_1573_11eb_833d_02cba411ec9drow3_col2\" class=\"data row3 col2\" >2024-10-15</td>\n",
       "                        <td id=\"T_e2198612_1573_11eb_833d_02cba411ec9drow3_col3\" class=\"data row3 col3\" >5,000,000.00</td>\n",
       "                        <td id=\"T_e2198612_1573_11eb_833d_02cba411ec9drow3_col4\" class=\"data row3 col4\" >5,000,000.00</td>\n",
       "                        <td id=\"T_e2198612_1573_11eb_833d_02cba411ec9drow3_col5\" class=\"data row3 col5\" >50,694.44</td>\n",
       "                        <td id=\"T_e2198612_1573_11eb_833d_02cba411ec9drow3_col6\" class=\"data row3 col6\" >True</td>\n",
       "                        <td id=\"T_e2198612_1573_11eb_833d_02cba411ec9drow3_col7\" class=\"data row3 col7\" >5,050,694.44</td>\n",
       "                        <td id=\"T_e2198612_1573_11eb_833d_02cba411ec9drow3_col8\" class=\"data row3 col8\" >USD</td>\n",
       "                        <td id=\"T_e2198612_1573_11eb_833d_02cba411ec9drow3_col9\" class=\"data row3 col9\" >1.0000%</td>\n",
       "                        <td id=\"T_e2198612_1573_11eb_833d_02cba411ec9drow3_col10\" class=\"data row3 col10\" >LinAct360</td>\n",
       "            </tr>\n",
       "    </tbody></table>"
      ],
      "text/plain": [
       "<pandas.io.formats.style.Styler at 0x7f1e88d49a90>"
      ]
     },
     "execution_count": 49,
     "metadata": {},
     "output_type": "execute_result"
    }
   ],
   "source": [
    "aux.show_leg(op2[0], 'FixedRateCashflow', '').style.format(frmt)"
   ]
  },
  {
   "cell_type": "markdown",
   "metadata": {},
   "source": [
    "Hagamos ahora la pata flotante. Dado que esta es la pata que pagamos, hay que usar signo negativo."
   ]
  },
  {
   "cell_type": "code",
   "execution_count": 50,
   "metadata": {
    "ExecuteTime": {
     "end_time": "2020-10-23T21:08:57.159903Z",
     "start_time": "2020-10-23T21:08:57.154507Z"
    }
   },
   "outputs": [],
   "source": [
    "cshflw = op2[1].get_cashflow_at(1)\n",
    "cshflw.set_amortization(-5000000)\n",
    "\n",
    "cshflw = op2[1].get_cashflow_at(2)\n",
    "cshflw.set_nominal(-5000000)\n",
    "\n",
    "cshflw = op2[1].get_cashflow_at(3)\n",
    "cshflw.set_nominal(-5000000)\n",
    "cshflw.set_amortization(-5000000)"
   ]
  },
  {
   "cell_type": "code",
   "execution_count": 51,
   "metadata": {
    "ExecuteTime": {
     "end_time": "2020-10-23T21:08:59.526045Z",
     "start_time": "2020-10-23T21:08:59.511552Z"
    }
   },
   "outputs": [
    {
     "data": {
      "text/html": [
       "<style  type=\"text/css\" >\n",
       "</style><table id=\"T_f83e4310_1573_11eb_833d_02cba411ec9d\" ><thead>    <tr>        <th class=\"blank level0\" ></th>        <th class=\"col_heading level0 col0\" >fecha_inicial</th>        <th class=\"col_heading level0 col1\" >fecha_final</th>        <th class=\"col_heading level0 col2\" >fecha_pago</th>        <th class=\"col_heading level0 col3\" >nominal</th>        <th class=\"col_heading level0 col4\" >amortizacion</th>        <th class=\"col_heading level0 col5\" >amort_es_flujo</th>        <th class=\"col_heading level0 col6\" >flujo</th>        <th class=\"col_heading level0 col7\" >moneda</th>        <th class=\"col_heading level0 col8\" >icp_inicial</th>        <th class=\"col_heading level0 col9\" >icp_final</th>        <th class=\"col_heading level0 col10\" >valor_tasa</th>        <th class=\"col_heading level0 col11\" >interes</th>        <th class=\"col_heading level0 col12\" >spread</th>        <th class=\"col_heading level0 col13\" >gearing</th>        <th class=\"col_heading level0 col14\" >tipo_tasa</th>    </tr></thead><tbody>\n",
       "                <tr>\n",
       "                        <th id=\"T_f83e4310_1573_11eb_833d_02cba411ec9dlevel0_row0\" class=\"row_heading level0 row0\" >0</th>\n",
       "                        <td id=\"T_f83e4310_1573_11eb_833d_02cba411ec9drow0_col0\" class=\"data row0 col0\" >2020-10-14</td>\n",
       "                        <td id=\"T_f83e4310_1573_11eb_833d_02cba411ec9drow0_col1\" class=\"data row0 col1\" >2021-10-14</td>\n",
       "                        <td id=\"T_f83e4310_1573_11eb_833d_02cba411ec9drow0_col2\" class=\"data row0 col2\" >2021-10-14</td>\n",
       "                        <td id=\"T_f83e4310_1573_11eb_833d_02cba411ec9drow0_col3\" class=\"data row0 col3\" >-10,000,000.00</td>\n",
       "                        <td id=\"T_f83e4310_1573_11eb_833d_02cba411ec9drow0_col4\" class=\"data row0 col4\" >0.00</td>\n",
       "                        <td id=\"T_f83e4310_1573_11eb_833d_02cba411ec9drow0_col5\" class=\"data row0 col5\" >True</td>\n",
       "                        <td id=\"T_f83e4310_1573_11eb_833d_02cba411ec9drow0_col6\" class=\"data row0 col6\" >0.00</td>\n",
       "                        <td id=\"T_f83e4310_1573_11eb_833d_02cba411ec9drow0_col7\" class=\"data row0 col7\" >CLP</td>\n",
       "                        <td id=\"T_f83e4310_1573_11eb_833d_02cba411ec9drow0_col8\" class=\"data row0 col8\" >1.000000</td>\n",
       "                        <td id=\"T_f83e4310_1573_11eb_833d_02cba411ec9drow0_col9\" class=\"data row0 col9\" >1.000000</td>\n",
       "                        <td id=\"T_f83e4310_1573_11eb_833d_02cba411ec9drow0_col10\" class=\"data row0 col10\" >0.0000%</td>\n",
       "                        <td id=\"T_f83e4310_1573_11eb_833d_02cba411ec9drow0_col11\" class=\"data row0 col11\" >-0.00</td>\n",
       "                        <td id=\"T_f83e4310_1573_11eb_833d_02cba411ec9drow0_col12\" class=\"data row0 col12\" >0.0000%</td>\n",
       "                        <td id=\"T_f83e4310_1573_11eb_833d_02cba411ec9drow0_col13\" class=\"data row0 col13\" >1.000000</td>\n",
       "                        <td id=\"T_f83e4310_1573_11eb_833d_02cba411ec9drow0_col14\" class=\"data row0 col14\" >LinAct360</td>\n",
       "            </tr>\n",
       "            <tr>\n",
       "                        <th id=\"T_f83e4310_1573_11eb_833d_02cba411ec9dlevel0_row1\" class=\"row_heading level0 row1\" >1</th>\n",
       "                        <td id=\"T_f83e4310_1573_11eb_833d_02cba411ec9drow1_col0\" class=\"data row1 col0\" >2021-10-14</td>\n",
       "                        <td id=\"T_f83e4310_1573_11eb_833d_02cba411ec9drow1_col1\" class=\"data row1 col1\" >2022-10-14</td>\n",
       "                        <td id=\"T_f83e4310_1573_11eb_833d_02cba411ec9drow1_col2\" class=\"data row1 col2\" >2022-10-14</td>\n",
       "                        <td id=\"T_f83e4310_1573_11eb_833d_02cba411ec9drow1_col3\" class=\"data row1 col3\" >-10,000,000.00</td>\n",
       "                        <td id=\"T_f83e4310_1573_11eb_833d_02cba411ec9drow1_col4\" class=\"data row1 col4\" >-5,000,000.00</td>\n",
       "                        <td id=\"T_f83e4310_1573_11eb_833d_02cba411ec9drow1_col5\" class=\"data row1 col5\" >True</td>\n",
       "                        <td id=\"T_f83e4310_1573_11eb_833d_02cba411ec9drow1_col6\" class=\"data row1 col6\" >-5,000,000.00</td>\n",
       "                        <td id=\"T_f83e4310_1573_11eb_833d_02cba411ec9drow1_col7\" class=\"data row1 col7\" >CLP</td>\n",
       "                        <td id=\"T_f83e4310_1573_11eb_833d_02cba411ec9drow1_col8\" class=\"data row1 col8\" >1.000000</td>\n",
       "                        <td id=\"T_f83e4310_1573_11eb_833d_02cba411ec9drow1_col9\" class=\"data row1 col9\" >1.000000</td>\n",
       "                        <td id=\"T_f83e4310_1573_11eb_833d_02cba411ec9drow1_col10\" class=\"data row1 col10\" >0.0000%</td>\n",
       "                        <td id=\"T_f83e4310_1573_11eb_833d_02cba411ec9drow1_col11\" class=\"data row1 col11\" >-0.00</td>\n",
       "                        <td id=\"T_f83e4310_1573_11eb_833d_02cba411ec9drow1_col12\" class=\"data row1 col12\" >0.0000%</td>\n",
       "                        <td id=\"T_f83e4310_1573_11eb_833d_02cba411ec9drow1_col13\" class=\"data row1 col13\" >1.000000</td>\n",
       "                        <td id=\"T_f83e4310_1573_11eb_833d_02cba411ec9drow1_col14\" class=\"data row1 col14\" >LinAct360</td>\n",
       "            </tr>\n",
       "            <tr>\n",
       "                        <th id=\"T_f83e4310_1573_11eb_833d_02cba411ec9dlevel0_row2\" class=\"row_heading level0 row2\" >2</th>\n",
       "                        <td id=\"T_f83e4310_1573_11eb_833d_02cba411ec9drow2_col0\" class=\"data row2 col0\" >2022-10-14</td>\n",
       "                        <td id=\"T_f83e4310_1573_11eb_833d_02cba411ec9drow2_col1\" class=\"data row2 col1\" >2023-10-16</td>\n",
       "                        <td id=\"T_f83e4310_1573_11eb_833d_02cba411ec9drow2_col2\" class=\"data row2 col2\" >2023-10-16</td>\n",
       "                        <td id=\"T_f83e4310_1573_11eb_833d_02cba411ec9drow2_col3\" class=\"data row2 col3\" >-5,000,000.00</td>\n",
       "                        <td id=\"T_f83e4310_1573_11eb_833d_02cba411ec9drow2_col4\" class=\"data row2 col4\" >0.00</td>\n",
       "                        <td id=\"T_f83e4310_1573_11eb_833d_02cba411ec9drow2_col5\" class=\"data row2 col5\" >True</td>\n",
       "                        <td id=\"T_f83e4310_1573_11eb_833d_02cba411ec9drow2_col6\" class=\"data row2 col6\" >0.00</td>\n",
       "                        <td id=\"T_f83e4310_1573_11eb_833d_02cba411ec9drow2_col7\" class=\"data row2 col7\" >CLP</td>\n",
       "                        <td id=\"T_f83e4310_1573_11eb_833d_02cba411ec9drow2_col8\" class=\"data row2 col8\" >1.000000</td>\n",
       "                        <td id=\"T_f83e4310_1573_11eb_833d_02cba411ec9drow2_col9\" class=\"data row2 col9\" >1.000000</td>\n",
       "                        <td id=\"T_f83e4310_1573_11eb_833d_02cba411ec9drow2_col10\" class=\"data row2 col10\" >0.0000%</td>\n",
       "                        <td id=\"T_f83e4310_1573_11eb_833d_02cba411ec9drow2_col11\" class=\"data row2 col11\" >-0.00</td>\n",
       "                        <td id=\"T_f83e4310_1573_11eb_833d_02cba411ec9drow2_col12\" class=\"data row2 col12\" >0.0000%</td>\n",
       "                        <td id=\"T_f83e4310_1573_11eb_833d_02cba411ec9drow2_col13\" class=\"data row2 col13\" >1.000000</td>\n",
       "                        <td id=\"T_f83e4310_1573_11eb_833d_02cba411ec9drow2_col14\" class=\"data row2 col14\" >LinAct360</td>\n",
       "            </tr>\n",
       "            <tr>\n",
       "                        <th id=\"T_f83e4310_1573_11eb_833d_02cba411ec9dlevel0_row3\" class=\"row_heading level0 row3\" >3</th>\n",
       "                        <td id=\"T_f83e4310_1573_11eb_833d_02cba411ec9drow3_col0\" class=\"data row3 col0\" >2023-10-16</td>\n",
       "                        <td id=\"T_f83e4310_1573_11eb_833d_02cba411ec9drow3_col1\" class=\"data row3 col1\" >2024-10-15</td>\n",
       "                        <td id=\"T_f83e4310_1573_11eb_833d_02cba411ec9drow3_col2\" class=\"data row3 col2\" >2024-10-15</td>\n",
       "                        <td id=\"T_f83e4310_1573_11eb_833d_02cba411ec9drow3_col3\" class=\"data row3 col3\" >-5,000,000.00</td>\n",
       "                        <td id=\"T_f83e4310_1573_11eb_833d_02cba411ec9drow3_col4\" class=\"data row3 col4\" >-5,000,000.00</td>\n",
       "                        <td id=\"T_f83e4310_1573_11eb_833d_02cba411ec9drow3_col5\" class=\"data row3 col5\" >True</td>\n",
       "                        <td id=\"T_f83e4310_1573_11eb_833d_02cba411ec9drow3_col6\" class=\"data row3 col6\" >-5,000,000.00</td>\n",
       "                        <td id=\"T_f83e4310_1573_11eb_833d_02cba411ec9drow3_col7\" class=\"data row3 col7\" >CLP</td>\n",
       "                        <td id=\"T_f83e4310_1573_11eb_833d_02cba411ec9drow3_col8\" class=\"data row3 col8\" >1.000000</td>\n",
       "                        <td id=\"T_f83e4310_1573_11eb_833d_02cba411ec9drow3_col9\" class=\"data row3 col9\" >1.000000</td>\n",
       "                        <td id=\"T_f83e4310_1573_11eb_833d_02cba411ec9drow3_col10\" class=\"data row3 col10\" >0.0000%</td>\n",
       "                        <td id=\"T_f83e4310_1573_11eb_833d_02cba411ec9drow3_col11\" class=\"data row3 col11\" >-0.00</td>\n",
       "                        <td id=\"T_f83e4310_1573_11eb_833d_02cba411ec9drow3_col12\" class=\"data row3 col12\" >0.0000%</td>\n",
       "                        <td id=\"T_f83e4310_1573_11eb_833d_02cba411ec9drow3_col13\" class=\"data row3 col13\" >1.000000</td>\n",
       "                        <td id=\"T_f83e4310_1573_11eb_833d_02cba411ec9drow3_col14\" class=\"data row3 col14\" >LinAct360</td>\n",
       "            </tr>\n",
       "    </tbody></table>"
      ],
      "text/plain": [
       "<pandas.io.formats.style.Styler at 0x7f1e88ce9668>"
      ]
     },
     "execution_count": 51,
     "metadata": {},
     "output_type": "execute_result"
    }
   ],
   "source": [
    "aux.show_leg(op2[1], 'IcpClpCashflow', '').style.format(frmt)"
   ]
  },
  {
   "cell_type": "markdown",
   "metadata": {},
   "source": [
    "Calculemos ahora los valores presente de cada pata."
   ]
  },
  {
   "cell_type": "code",
   "execution_count": 52,
   "metadata": {
    "ExecuteTime": {
     "end_time": "2020-10-23T21:09:18.465877Z",
     "start_time": "2020-10-23T21:09:18.460707Z"
    }
   },
   "outputs": [
    {
     "name": "stdout",
     "output_type": "stream",
     "text": [
      "El valor presente de la pata fija es: USD 10,273,112.26\n"
     ]
    }
   ],
   "source": [
    "vp_fija_2 = vp.pv(fecha_val, op2[0], zcc)\n",
    "print(f'El valor presente de la pata fija es: USD {vp_fija_2:,.2f}')"
   ]
  },
  {
   "cell_type": "code",
   "execution_count": 54,
   "metadata": {
    "ExecuteTime": {
     "end_time": "2020-10-23T21:10:15.149697Z",
     "start_time": "2020-10-23T21:10:15.144409Z"
    }
   },
   "outputs": [
    {
     "name": "stdout",
     "output_type": "stream",
     "text": [
      "El valor presente de la pata flotante es: USD -10,000,000.00\n"
     ]
    }
   ],
   "source": [
    "fwd.set_rates_icp_clp_leg(fecha_val, 1.0, op2[1], zcc)\n",
    "vp_flot_2 = vp.pv(fecha_val, op2[1], zcc)\n",
    "print(f'El valor presente de la pata flotante es: USD {vp_flot_2:,.2f}')"
   ]
  },
  {
   "cell_type": "code",
   "execution_count": 55,
   "metadata": {
    "ExecuteTime": {
     "end_time": "2020-10-23T21:10:30.102698Z",
     "start_time": "2020-10-23T21:10:30.097834Z"
    }
   },
   "outputs": [
    {
     "name": "stdout",
     "output_type": "stream",
     "text": [
      "Por lo tanto, el valor total de la operación es:\n",
      "Valor total: USD 273,112.26\n"
     ]
    }
   ],
   "source": [
    "print(f'Por lo tanto, el valor total de la operación es:\\nValor total: USD {vp_fija_2 + vp_flot_2:,.2f}')"
   ]
  },
  {
   "cell_type": "markdown",
   "metadata": {},
   "source": [
    "#### Ejercicio\n",
    "\n",
    "Pricee esta operación."
   ]
  },
  {
   "cell_type": "code",
   "execution_count": null,
   "metadata": {},
   "outputs": [],
   "source": []
  }
 ],
 "metadata": {
  "hide_input": false,
  "kernelspec": {
   "display_name": "Python 3",
   "language": "python",
   "name": "python3"
  },
  "language_info": {
   "codemirror_mode": {
    "name": "ipython",
    "version": 3
   },
   "file_extension": ".py",
   "mimetype": "text/x-python",
   "name": "python",
   "nbconvert_exporter": "python",
   "pygments_lexer": "ipython3",
   "version": "3.7.3"
  },
  "toc": {
   "base_numbering": "9",
   "nav_menu": {},
   "number_sections": true,
   "sideBar": true,
   "skip_h1_title": false,
   "title_cell": "Table of Contents",
   "title_sidebar": "Contenido",
   "toc_cell": false,
   "toc_position": {
    "height": "calc(100% - 180px)",
    "left": "10px",
    "top": "150px",
    "width": "222.1875px"
   },
   "toc_section_display": true,
   "toc_window_display": true
  }
 },
 "nbformat": 4,
 "nbformat_minor": 4
}
